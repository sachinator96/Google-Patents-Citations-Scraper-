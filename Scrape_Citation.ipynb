{
 "cells": [
  {
   "cell_type": "code",
   "execution_count": 9,
   "metadata": {},
   "outputs": [],
   "source": [
    "from bs4 import BeautifulSoup\n",
    "import requests\n",
    "import pandas as pd"
   ]
  },
  {
   "cell_type": "code",
   "execution_count": 10,
   "metadata": {},
   "outputs": [],
   "source": [
    "list_of_patents = [ 'US9594217',\n",
    "'US9310577',\n",
    "'US9261663',\n",
    "'US9239442',\n",
    "'US9219520',\n",
    "'US9214759',\n",
    "'US9210049',\n",
    "'US9207417',\n",
    "'US9195021',\n",
    "'US9191993',\n",
    "'US9191912',\n",
    "'US9188760',\n",
    "'US9182563',\n",
    "'US9178636',\n",
    "'US9176285',\n",
    "'US9170391',\n",
    "'US9158074',\n",
    "'US9153913',\n",
    "'US9151904',\n",
    "'US9147983',\n",
    "'US9146376',\n",
    "'US9146375',\n",
    "'US9146374',\n",
    "'US9146373',\n",
    "'US9146371',\n",
    "'US9146362',\n",
    "'US9146352',\n",
    "'US9136967',\n",
    "'US9171209',\n",
    "'US9128262',\n",
    "'US9126802',\n",
    "'US9122034',\n",
    "'US9122019',\n",
    "'US9116310',\n",
    "'US9112547',\n",
    "'US9107086',\n",
    "'US9106064',\n",
    "'US9104005',\n",
    "'US9104004',\n",
    "'US9104001',\n",
    "'US9097871',\n",
    "'US9097870',\n",
    "'US9093796',\n",
    "'US9081537',\n",
    "'US9081164',\n",
    "'US9081154',\n",
    "'US9081152',\n",
    "'US9079370',\n",
    "'US9078287',\n",
    "'US9075205',\n",
    "'US9075203',\n",
    "'US9071041',\n",
    "'US9069150',\n",
    "'US9065223',\n",
    "'US9064022',\n",
    "'US9063316',\n",
    "'US9063298',\n",
    "'US9057860',\n",
    "'US9057859',\n",
    "'US9054440',\n",
    "'US9046658',\n",
    "'US9042700',\n",
    "'US9038141',\n",
    "'US9036975',\n",
    "'US9036974',\n",
    "'US9033728',\n",
    "'US9020319',\n",
    "'US9016953',\n",
    "'US9014527',\n",
    "'US9013982',\n",
    "'US9002166',\n",
    "'US9001811',\n",
    "'US8995136',\n",
    "'US8992261',\n",
    "'US8992260',\n",
    "'US8992095',\n",
    "'US8991623',\n",
    "'US8989541',\n",
    "'US8985867',\n",
    "'US8985864',\n",
    "'US8982715',\n",
    "'US8979578',\n",
    "'US8979395',\n",
    "'US8976067',\n",
    "'US9008130',\n",
    "'US8982913',\n",
    "'US8985861',\n",
    "'US8965169',\n",
    "'US8965167',\n",
    "'US8961035',\n",
    "'US8958789',\n",
    "'US8958410',\n",
    "'US8953921',\n",
    "'US8950051',\n",
    "'US8949496',\n",
    "'US8948816',\n",
    "'US8948155',\n",
    "'US8944856',\n",
    "'US8944702'\n",
    "\n",
    "]"
   ]
  },
  {
   "cell_type": "code",
   "execution_count": 12,
   "metadata": {},
   "outputs": [],
   "source": [
    "scraped_data=pd.DataFrame(columns=[\"Patent_No\",\"publicationNumber\",\"priorityDate\",\"publicationDate\"])"
   ]
  },
  {
   "cell_type": "code",
   "execution_count": 94,
   "metadata": {},
   "outputs": [
    {
     "data": {
      "text/html": [
       "<div>\n",
       "<style scoped>\n",
       "    .dataframe tbody tr th:only-of-type {\n",
       "        vertical-align: middle;\n",
       "    }\n",
       "\n",
       "    .dataframe tbody tr th {\n",
       "        vertical-align: top;\n",
       "    }\n",
       "\n",
       "    .dataframe thead th {\n",
       "        text-align: right;\n",
       "    }\n",
       "</style>\n",
       "<table border=\"1\" class=\"dataframe\">\n",
       "  <thead>\n",
       "    <tr style=\"text-align: right;\">\n",
       "      <th></th>\n",
       "      <th>Patent_No</th>\n",
       "      <th>publicationNumber</th>\n",
       "      <th>examinerCited</th>\n",
       "      <th>priorityDate</th>\n",
       "      <th>publicationDate</th>\n",
       "    </tr>\n",
       "  </thead>\n",
       "  <tbody>\n",
       "  </tbody>\n",
       "</table>\n",
       "</div>"
      ],
      "text/plain": [
       "Empty DataFrame\n",
       "Columns: [Patent_No, publicationNumber, examinerCited, priorityDate, publicationDate]\n",
       "Index: []"
      ]
     },
     "execution_count": 94,
     "metadata": {},
     "output_type": "execute_result"
    }
   ],
   "source": [
    "scraped_data"
   ]
  },
  {
   "cell_type": "code",
   "execution_count": 95,
   "metadata": {},
   "outputs": [],
   "source": [
    "# Looking at one page to get tag information\n",
    "\n",
    "source=requests.get('https://patents.google.com/patent/US6096745').text\n",
    "soup=BeautifulSoup(source,'lxml')\n",
    "\n",
    "#instructions = soup.find_all(\"tr\", itemprop=\"backwardReferencesOrig\") \n",
    "\n",
    "#print(instructions)\n",
    "\n",
    "para=soup.find(itemprop=\"backwardReferencesOrig\")\n",
    "\n",
    "# scraped_data['pub_no']=para.find('span',itemprop='publicationNumber').get_text()\n",
    "# scraped_data['examinerCited']=para.find('span',itemprop='examinerCited').get_text()\n",
    "# scraped_data['priority_Date']=para.find(itemprop='priorityDate').get_text()\n",
    "# scraped_data['publicationDate']=para.find(itemprop='publicationDate').get_text()\n",
    "\n"
   ]
  },
  {
   "cell_type": "code",
   "execution_count": 72,
   "metadata": {},
   "outputs": [
    {
     "name": "stdout",
     "output_type": "stream",
     "text": [
      "https://patents.google.com/patent/US9594217\n"
     ]
    },
    {
     "name": "stderr",
     "output_type": "stream",
     "text": [
      "C:\\Users\\18136\\Anaconda3\\lib\\site-packages\\urllib3\\connectionpool.py:847: InsecureRequestWarning: Unverified HTTPS request is being made. Adding certificate verification is strongly advised. See: https://urllib3.readthedocs.io/en/latest/advanced-usage.html#ssl-warnings\n",
      "  InsecureRequestWarning)\n"
     ]
    },
    {
     "name": "stdout",
     "output_type": "stream",
     "text": [
      "Error examinerCited!\n",
      "['US20080011514A1', '2006-07-14', '2008-01-17', ' ']\n",
      "https://patents.google.com/patent/US9310577\n"
     ]
    },
    {
     "name": "stderr",
     "output_type": "stream",
     "text": [
      "C:\\Users\\18136\\Anaconda3\\lib\\site-packages\\urllib3\\connectionpool.py:847: InsecureRequestWarning: Unverified HTTPS request is being made. Adding certificate verification is strongly advised. See: https://urllib3.readthedocs.io/en/latest/advanced-usage.html#ssl-warnings\n",
      "  InsecureRequestWarning)\n"
     ]
    },
    {
     "name": "stdout",
     "output_type": "stream",
     "text": [
      "['US2773940A', '1951-06-21', '1956-12-11', '*']\n",
      "https://patents.google.com/patent/US9261663\n"
     ]
    },
    {
     "name": "stderr",
     "output_type": "stream",
     "text": [
      "C:\\Users\\18136\\Anaconda3\\lib\\site-packages\\urllib3\\connectionpool.py:847: InsecureRequestWarning: Unverified HTTPS request is being made. Adding certificate verification is strongly advised. See: https://urllib3.readthedocs.io/en/latest/advanced-usage.html#ssl-warnings\n",
      "  InsecureRequestWarning)\n"
     ]
    },
    {
     "name": "stdout",
     "output_type": "stream",
     "text": [
      "Error examinerCited!\n",
      "['US1276825A', '1916-07-21', '1918-08-27', ' ']\n",
      "https://patents.google.com/patent/US9239442\n"
     ]
    },
    {
     "name": "stderr",
     "output_type": "stream",
     "text": [
      "C:\\Users\\18136\\Anaconda3\\lib\\site-packages\\urllib3\\connectionpool.py:847: InsecureRequestWarning: Unverified HTTPS request is being made. Adding certificate verification is strongly advised. See: https://urllib3.readthedocs.io/en/latest/advanced-usage.html#ssl-warnings\n",
      "  InsecureRequestWarning)\n"
     ]
    },
    {
     "name": "stdout",
     "output_type": "stream",
     "text": [
      "Error examinerCited!\n",
      "['US4650933A', '1985-07-15', '1987-03-17', ' ']\n",
      "https://patents.google.com/patent/US9219520\n"
     ]
    },
    {
     "name": "stderr",
     "output_type": "stream",
     "text": [
      "C:\\Users\\18136\\Anaconda3\\lib\\site-packages\\urllib3\\connectionpool.py:847: InsecureRequestWarning: Unverified HTTPS request is being made. Adding certificate verification is strongly advised. See: https://urllib3.readthedocs.io/en/latest/advanced-usage.html#ssl-warnings\n",
      "  InsecureRequestWarning)\n"
     ]
    },
    {
     "name": "stdout",
     "output_type": "stream",
     "text": [
      "Error examinerCited!\n",
      "['US4183054A', '1977-09-30', '1980-01-08', ' ']\n",
      "https://patents.google.com/patent/US9214759\n"
     ]
    },
    {
     "name": "stderr",
     "output_type": "stream",
     "text": [
      "C:\\Users\\18136\\Anaconda3\\lib\\site-packages\\urllib3\\connectionpool.py:847: InsecureRequestWarning: Unverified HTTPS request is being made. Adding certificate verification is strongly advised. See: https://urllib3.readthedocs.io/en/latest/advanced-usage.html#ssl-warnings\n",
      "  InsecureRequestWarning)\n"
     ]
    },
    {
     "name": "stdout",
     "output_type": "stream",
     "text": [
      "Error examinerCited!\n",
      "['US835003A', '1906-01-08', '1906-11-06', ' ']\n",
      "https://patents.google.com/patent/US9210049\n"
     ]
    },
    {
     "name": "stderr",
     "output_type": "stream",
     "text": [
      "C:\\Users\\18136\\Anaconda3\\lib\\site-packages\\urllib3\\connectionpool.py:847: InsecureRequestWarning: Unverified HTTPS request is being made. Adding certificate verification is strongly advised. See: https://urllib3.readthedocs.io/en/latest/advanced-usage.html#ssl-warnings\n",
      "  InsecureRequestWarning)\n"
     ]
    },
    {
     "name": "stdout",
     "output_type": "stream",
     "text": [
      "Error examinerCited!\n",
      "['US20040065470A1', '2002-09-25', '2004-04-08', ' ']\n",
      "https://patents.google.com/patent/US9207417\n"
     ]
    },
    {
     "name": "stderr",
     "output_type": "stream",
     "text": [
      "C:\\Users\\18136\\Anaconda3\\lib\\site-packages\\urllib3\\connectionpool.py:847: InsecureRequestWarning: Unverified HTTPS request is being made. Adding certificate verification is strongly advised. See: https://urllib3.readthedocs.io/en/latest/advanced-usage.html#ssl-warnings\n",
      "  InsecureRequestWarning)\n"
     ]
    },
    {
     "name": "stdout",
     "output_type": "stream",
     "text": [
      "Error examinerCited!\n",
      "['US5052940A', '1990-05-11', '1991-10-01', ' ']\n",
      "https://patents.google.com/patent/US9195021\n"
     ]
    },
    {
     "name": "stderr",
     "output_type": "stream",
     "text": [
      "C:\\Users\\18136\\Anaconda3\\lib\\site-packages\\urllib3\\connectionpool.py:847: InsecureRequestWarning: Unverified HTTPS request is being made. Adding certificate verification is strongly advised. See: https://urllib3.readthedocs.io/en/latest/advanced-usage.html#ssl-warnings\n",
      "  InsecureRequestWarning)\n"
     ]
    },
    {
     "name": "stdout",
     "output_type": "stream",
     "text": [
      "Error examinerCited!\n",
      "['US2805106A', '1954-12-27', '1957-09-03', ' ']\n",
      "https://patents.google.com/patent/US9191993\n"
     ]
    },
    {
     "name": "stderr",
     "output_type": "stream",
     "text": [
      "C:\\Users\\18136\\Anaconda3\\lib\\site-packages\\urllib3\\connectionpool.py:847: InsecureRequestWarning: Unverified HTTPS request is being made. Adding certificate verification is strongly advised. See: https://urllib3.readthedocs.io/en/latest/advanced-usage.html#ssl-warnings\n",
      "  InsecureRequestWarning)\n"
     ]
    },
    {
     "name": "stdout",
     "output_type": "stream",
     "text": [
      "Error examinerCited!\n",
      "['US6236365B1', '1996-09-09', '2001-05-22', ' ']\n",
      "https://patents.google.com/patent/US9191912\n"
     ]
    },
    {
     "name": "stderr",
     "output_type": "stream",
     "text": [
      "C:\\Users\\18136\\Anaconda3\\lib\\site-packages\\urllib3\\connectionpool.py:847: InsecureRequestWarning: Unverified HTTPS request is being made. Adding certificate verification is strongly advised. See: https://urllib3.readthedocs.io/en/latest/advanced-usage.html#ssl-warnings\n",
      "  InsecureRequestWarning)\n"
     ]
    },
    {
     "name": "stdout",
     "output_type": "stream",
     "text": [
      "Error examinerCited!\n",
      "['US4433335A', '1977-05-31', '1984-02-21', ' ']\n",
      "https://patents.google.com/patent/US9188760\n"
     ]
    },
    {
     "name": "stderr",
     "output_type": "stream",
     "text": [
      "C:\\Users\\18136\\Anaconda3\\lib\\site-packages\\urllib3\\connectionpool.py:847: InsecureRequestWarning: Unverified HTTPS request is being made. Adding certificate verification is strongly advised. See: https://urllib3.readthedocs.io/en/latest/advanced-usage.html#ssl-warnings\n",
      "  InsecureRequestWarning)\n"
     ]
    },
    {
     "name": "stdout",
     "output_type": "stream",
     "text": [
      "Error examinerCited!\n",
      "['US1276825A', '1916-07-21', '1918-08-27', ' ']\n",
      "https://patents.google.com/patent/US9182563\n"
     ]
    },
    {
     "name": "stderr",
     "output_type": "stream",
     "text": [
      "C:\\Users\\18136\\Anaconda3\\lib\\site-packages\\urllib3\\connectionpool.py:847: InsecureRequestWarning: Unverified HTTPS request is being made. Adding certificate verification is strongly advised. See: https://urllib3.readthedocs.io/en/latest/advanced-usage.html#ssl-warnings\n",
      "  InsecureRequestWarning)\n"
     ]
    },
    {
     "name": "stdout",
     "output_type": "stream",
     "text": [
      "Error examinerCited!\n",
      "['US4435612A', '1982-03-09', '1984-03-06', ' ']\n",
      "https://patents.google.com/patent/US9178636\n"
     ]
    },
    {
     "name": "stderr",
     "output_type": "stream",
     "text": [
      "C:\\Users\\18136\\Anaconda3\\lib\\site-packages\\urllib3\\connectionpool.py:847: InsecureRequestWarning: Unverified HTTPS request is being made. Adding certificate verification is strongly advised. See: https://urllib3.readthedocs.io/en/latest/advanced-usage.html#ssl-warnings\n",
      "  InsecureRequestWarning)\n"
     ]
    },
    {
     "name": "stdout",
     "output_type": "stream",
     "text": [
      "Error examinerCited!\n",
      "['US4183054A', '1977-09-30', '1980-01-08', ' ']\n",
      "https://patents.google.com/patent/US9176285\n"
     ]
    },
    {
     "name": "stderr",
     "output_type": "stream",
     "text": [
      "C:\\Users\\18136\\Anaconda3\\lib\\site-packages\\urllib3\\connectionpool.py:847: InsecureRequestWarning: Unverified HTTPS request is being made. Adding certificate verification is strongly advised. See: https://urllib3.readthedocs.io/en/latest/advanced-usage.html#ssl-warnings\n",
      "  InsecureRequestWarning)\n"
     ]
    },
    {
     "name": "stdout",
     "output_type": "stream",
     "text": [
      "Error examinerCited!\n",
      "['US3395244A', '1967-03-14', '1968-07-30', ' ']\n",
      "https://patents.google.com/patent/US9170391\n"
     ]
    },
    {
     "name": "stderr",
     "output_type": "stream",
     "text": [
      "C:\\Users\\18136\\Anaconda3\\lib\\site-packages\\urllib3\\connectionpool.py:847: InsecureRequestWarning: Unverified HTTPS request is being made. Adding certificate verification is strongly advised. See: https://urllib3.readthedocs.io/en/latest/advanced-usage.html#ssl-warnings\n",
      "  InsecureRequestWarning)\n"
     ]
    },
    {
     "name": "stdout",
     "output_type": "stream",
     "text": [
      "Error examinerCited!\n",
      "['US2805106A', '1954-12-27', '1957-09-03', ' ']\n",
      "https://patents.google.com/patent/US9158074\n"
     ]
    },
    {
     "name": "stderr",
     "output_type": "stream",
     "text": [
      "C:\\Users\\18136\\Anaconda3\\lib\\site-packages\\urllib3\\connectionpool.py:847: InsecureRequestWarning: Unverified HTTPS request is being made. Adding certificate verification is strongly advised. See: https://urllib3.readthedocs.io/en/latest/advanced-usage.html#ssl-warnings\n",
      "  InsecureRequestWarning)\n"
     ]
    },
    {
     "name": "stdout",
     "output_type": "stream",
     "text": [
      "Error examinerCited!\n",
      "['US4765710A', '1985-07-30', '1988-08-23', ' ']\n",
      "https://patents.google.com/patent/US9153913\n"
     ]
    },
    {
     "name": "stderr",
     "output_type": "stream",
     "text": [
      "C:\\Users\\18136\\Anaconda3\\lib\\site-packages\\urllib3\\connectionpool.py:847: InsecureRequestWarning: Unverified HTTPS request is being made. Adding certificate verification is strongly advised. See: https://urllib3.readthedocs.io/en/latest/advanced-usage.html#ssl-warnings\n",
      "  InsecureRequestWarning)\n"
     ]
    },
    {
     "name": "stdout",
     "output_type": "stream",
     "text": [
      "Error examinerCited!\n",
      "['US4831497A', '1986-09-11', '1989-05-16', ' ']\n",
      "https://patents.google.com/patent/US9151904\n"
     ]
    },
    {
     "name": "stderr",
     "output_type": "stream",
     "text": [
      "C:\\Users\\18136\\Anaconda3\\lib\\site-packages\\urllib3\\connectionpool.py:847: InsecureRequestWarning: Unverified HTTPS request is being made. Adding certificate verification is strongly advised. See: https://urllib3.readthedocs.io/en/latest/advanced-usage.html#ssl-warnings\n",
      "  InsecureRequestWarning)\n"
     ]
    },
    {
     "name": "stdout",
     "output_type": "stream",
     "text": [
      "Error examinerCited!\n",
      "['US3395244A', '1967-03-14', '1968-07-30', ' ']\n",
      "https://patents.google.com/patent/US9147983\n"
     ]
    },
    {
     "name": "stderr",
     "output_type": "stream",
     "text": [
      "C:\\Users\\18136\\Anaconda3\\lib\\site-packages\\urllib3\\connectionpool.py:847: InsecureRequestWarning: Unverified HTTPS request is being made. Adding certificate verification is strongly advised. See: https://urllib3.readthedocs.io/en/latest/advanced-usage.html#ssl-warnings\n",
      "  InsecureRequestWarning)\n"
     ]
    },
    {
     "name": "stdout",
     "output_type": "stream",
     "text": [
      "Error examinerCited!\n",
      "['US3243761A', '1963-10-08', '1966-03-29', ' ']\n",
      "https://patents.google.com/patent/US9146376\n"
     ]
    },
    {
     "name": "stderr",
     "output_type": "stream",
     "text": [
      "C:\\Users\\18136\\Anaconda3\\lib\\site-packages\\urllib3\\connectionpool.py:847: InsecureRequestWarning: Unverified HTTPS request is being made. Adding certificate verification is strongly advised. See: https://urllib3.readthedocs.io/en/latest/advanced-usage.html#ssl-warnings\n",
      "  InsecureRequestWarning)\n"
     ]
    },
    {
     "name": "stdout",
     "output_type": "stream",
     "text": [
      "['US5067784A', '1990-11-19', '1991-11-26', '*']\n",
      "https://patents.google.com/patent/US9146375\n"
     ]
    },
    {
     "name": "stderr",
     "output_type": "stream",
     "text": [
      "C:\\Users\\18136\\Anaconda3\\lib\\site-packages\\urllib3\\connectionpool.py:847: InsecureRequestWarning: Unverified HTTPS request is being made. Adding certificate verification is strongly advised. See: https://urllib3.readthedocs.io/en/latest/advanced-usage.html#ssl-warnings\n",
      "  InsecureRequestWarning)\n"
     ]
    },
    {
     "name": "stdout",
     "output_type": "stream",
     "text": [
      "Error examinerCited!\n",
      "['US6539161B2', '2001-03-16', '2003-03-25', ' ']\n",
      "https://patents.google.com/patent/US9146374\n"
     ]
    },
    {
     "name": "stderr",
     "output_type": "stream",
     "text": [
      "C:\\Users\\18136\\Anaconda3\\lib\\site-packages\\urllib3\\connectionpool.py:847: InsecureRequestWarning: Unverified HTTPS request is being made. Adding certificate verification is strongly advised. See: https://urllib3.readthedocs.io/en/latest/advanced-usage.html#ssl-warnings\n",
      "  InsecureRequestWarning)\n"
     ]
    },
    {
     "name": "stdout",
     "output_type": "stream",
     "text": [
      "Error examinerCited!\n",
      "['DE2735106A1', '1977-08-04', '1979-02-15', ' ']\n",
      "https://patents.google.com/patent/US9146373\n"
     ]
    },
    {
     "name": "stderr",
     "output_type": "stream",
     "text": [
      "C:\\Users\\18136\\Anaconda3\\lib\\site-packages\\urllib3\\connectionpool.py:847: InsecureRequestWarning: Unverified HTTPS request is being made. Adding certificate verification is strongly advised. See: https://urllib3.readthedocs.io/en/latest/advanced-usage.html#ssl-warnings\n",
      "  InsecureRequestWarning)\n"
     ]
    },
    {
     "name": "stdout",
     "output_type": "stream",
     "text": [
      "Error examinerCited!\n",
      "['US4736100A', '1986-07-31', '1988-04-05', ' ']\n",
      "https://patents.google.com/patent/US9146371\n"
     ]
    },
    {
     "name": "stderr",
     "output_type": "stream",
     "text": [
      "C:\\Users\\18136\\Anaconda3\\lib\\site-packages\\urllib3\\connectionpool.py:847: InsecureRequestWarning: Unverified HTTPS request is being made. Adding certificate verification is strongly advised. See: https://urllib3.readthedocs.io/en/latest/advanced-usage.html#ssl-warnings\n",
      "  InsecureRequestWarning)\n"
     ]
    },
    {
     "name": "stdout",
     "output_type": "stream",
     "text": [
      "Error examinerCited!\n",
      "['US4435612A', '1982-03-09', '1984-03-06', ' ']\n",
      "https://patents.google.com/patent/US9146362\n"
     ]
    },
    {
     "name": "stderr",
     "output_type": "stream",
     "text": [
      "C:\\Users\\18136\\Anaconda3\\lib\\site-packages\\urllib3\\connectionpool.py:847: InsecureRequestWarning: Unverified HTTPS request is being made. Adding certificate verification is strongly advised. See: https://urllib3.readthedocs.io/en/latest/advanced-usage.html#ssl-warnings\n",
      "  InsecureRequestWarning)\n"
     ]
    },
    {
     "name": "stdout",
     "output_type": "stream",
     "text": [
      "['US2331920A', '1942-11-04', '1943-10-19', '*']\n",
      "https://patents.google.com/patent/US9146352\n"
     ]
    },
    {
     "name": "stderr",
     "output_type": "stream",
     "text": [
      "C:\\Users\\18136\\Anaconda3\\lib\\site-packages\\urllib3\\connectionpool.py:847: InsecureRequestWarning: Unverified HTTPS request is being made. Adding certificate verification is strongly advised. See: https://urllib3.readthedocs.io/en/latest/advanced-usage.html#ssl-warnings\n",
      "  InsecureRequestWarning)\n"
     ]
    },
    {
     "name": "stdout",
     "output_type": "stream",
     "text": [
      "Error examinerCited!\n",
      "['JPS5875104A', '1981-10-28', '1983-05-06', ' ']\n",
      "https://patents.google.com/patent/US9136967\n"
     ]
    },
    {
     "name": "stderr",
     "output_type": "stream",
     "text": [
      "C:\\Users\\18136\\Anaconda3\\lib\\site-packages\\urllib3\\connectionpool.py:847: InsecureRequestWarning: Unverified HTTPS request is being made. Adding certificate verification is strongly advised. See: https://urllib3.readthedocs.io/en/latest/advanced-usage.html#ssl-warnings\n",
      "  InsecureRequestWarning)\n"
     ]
    },
    {
     "name": "stdout",
     "output_type": "stream",
     "text": [
      "Error pub_no!\n",
      "Error examinerCited!\n",
      "Error priorityDate!\n",
      "Error publicationDate!\n",
      "[' ', ' ', ' ', ' ']\n",
      "https://patents.google.com/patent/US9171209\n"
     ]
    },
    {
     "name": "stderr",
     "output_type": "stream",
     "text": [
      "C:\\Users\\18136\\Anaconda3\\lib\\site-packages\\urllib3\\connectionpool.py:847: InsecureRequestWarning: Unverified HTTPS request is being made. Adding certificate verification is strongly advised. See: https://urllib3.readthedocs.io/en/latest/advanced-usage.html#ssl-warnings\n",
      "  InsecureRequestWarning)\n"
     ]
    },
    {
     "name": "stdout",
     "output_type": "stream",
     "text": [
      "['US20060033753A1', '2004-08-13', '2006-02-16', '*']\n",
      "https://patents.google.com/patent/US9128262\n"
     ]
    },
    {
     "name": "stderr",
     "output_type": "stream",
     "text": [
      "C:\\Users\\18136\\Anaconda3\\lib\\site-packages\\urllib3\\connectionpool.py:847: InsecureRequestWarning: Unverified HTTPS request is being made. Adding certificate verification is strongly advised. See: https://urllib3.readthedocs.io/en/latest/advanced-usage.html#ssl-warnings\n",
      "  InsecureRequestWarning)\n"
     ]
    },
    {
     "name": "stdout",
     "output_type": "stream",
     "text": [
      "Error examinerCited!\n",
      "['US2805106A', '1954-12-27', '1957-09-03', ' ']\n",
      "https://patents.google.com/patent/US9126802\n"
     ]
    },
    {
     "name": "stderr",
     "output_type": "stream",
     "text": [
      "C:\\Users\\18136\\Anaconda3\\lib\\site-packages\\urllib3\\connectionpool.py:847: InsecureRequestWarning: Unverified HTTPS request is being made. Adding certificate verification is strongly advised. See: https://urllib3.readthedocs.io/en/latest/advanced-usage.html#ssl-warnings\n",
      "  InsecureRequestWarning)\n"
     ]
    },
    {
     "name": "stdout",
     "output_type": "stream",
     "text": [
      "Error examinerCited!\n",
      "['US342354A', ' ', '1886-05-25', ' ']\n",
      "https://patents.google.com/patent/US9122034\n"
     ]
    },
    {
     "name": "stderr",
     "output_type": "stream",
     "text": [
      "C:\\Users\\18136\\Anaconda3\\lib\\site-packages\\urllib3\\connectionpool.py:847: InsecureRequestWarning: Unverified HTTPS request is being made. Adding certificate verification is strongly advised. See: https://urllib3.readthedocs.io/en/latest/advanced-usage.html#ssl-warnings\n",
      "  InsecureRequestWarning)\n"
     ]
    },
    {
     "name": "stdout",
     "output_type": "stream",
     "text": [
      "['US5631993A', '1995-04-20', '1997-05-20', '*']\n",
      "https://patents.google.com/patent/US9122019\n"
     ]
    },
    {
     "name": "stderr",
     "output_type": "stream",
     "text": [
      "C:\\Users\\18136\\Anaconda3\\lib\\site-packages\\urllib3\\connectionpool.py:847: InsecureRequestWarning: Unverified HTTPS request is being made. Adding certificate verification is strongly advised. See: https://urllib3.readthedocs.io/en/latest/advanced-usage.html#ssl-warnings\n",
      "  InsecureRequestWarning)\n"
     ]
    },
    {
     "name": "stdout",
     "output_type": "stream",
     "text": [
      "Error examinerCited!\n",
      "['US4736100A', '1986-07-31', '1988-04-05', ' ']\n",
      "https://patents.google.com/patent/US9116310\n"
     ]
    },
    {
     "name": "stderr",
     "output_type": "stream",
     "text": [
      "C:\\Users\\18136\\Anaconda3\\lib\\site-packages\\urllib3\\connectionpool.py:847: InsecureRequestWarning: Unverified HTTPS request is being made. Adding certificate verification is strongly advised. See: https://urllib3.readthedocs.io/en/latest/advanced-usage.html#ssl-warnings\n",
      "  InsecureRequestWarning)\n"
     ]
    },
    {
     "name": "stdout",
     "output_type": "stream",
     "text": [
      "Error examinerCited!\n",
      "['JPS5748706A', '1980-09-06', '1982-03-20', ' ']\n",
      "https://patents.google.com/patent/US9112547\n"
     ]
    },
    {
     "name": "stderr",
     "output_type": "stream",
     "text": [
      "C:\\Users\\18136\\Anaconda3\\lib\\site-packages\\urllib3\\connectionpool.py:847: InsecureRequestWarning: Unverified HTTPS request is being made. Adding certificate verification is strongly advised. See: https://urllib3.readthedocs.io/en/latest/advanced-usage.html#ssl-warnings\n",
      "  InsecureRequestWarning)\n"
     ]
    },
    {
     "name": "stdout",
     "output_type": "stream",
     "text": [
      "Error examinerCited!\n",
      "['US3866121A', '1971-11-24', '1975-02-11', ' ']\n",
      "https://patents.google.com/patent/US9107086\n"
     ]
    },
    {
     "name": "stderr",
     "output_type": "stream",
     "text": [
      "C:\\Users\\18136\\Anaconda3\\lib\\site-packages\\urllib3\\connectionpool.py:847: InsecureRequestWarning: Unverified HTTPS request is being made. Adding certificate verification is strongly advised. See: https://urllib3.readthedocs.io/en/latest/advanced-usage.html#ssl-warnings\n",
      "  InsecureRequestWarning)\n"
     ]
    },
    {
     "name": "stdout",
     "output_type": "stream",
     "text": [
      "Error examinerCited!\n",
      "['US20070274279A1', '2005-12-19', '2007-11-29', ' ']\n",
      "https://patents.google.com/patent/US9106064\n"
     ]
    },
    {
     "name": "stderr",
     "output_type": "stream",
     "text": [
      "C:\\Users\\18136\\Anaconda3\\lib\\site-packages\\urllib3\\connectionpool.py:847: InsecureRequestWarning: Unverified HTTPS request is being made. Adding certificate verification is strongly advised. See: https://urllib3.readthedocs.io/en/latest/advanced-usage.html#ssl-warnings\n",
      "  InsecureRequestWarning)\n"
     ]
    },
    {
     "name": "stdout",
     "output_type": "stream",
     "text": [
      "['US5461693A', '1994-07-14', '1995-10-24', '*']\n",
      "https://patents.google.com/patent/US9104005\n"
     ]
    },
    {
     "name": "stderr",
     "output_type": "stream",
     "text": [
      "C:\\Users\\18136\\Anaconda3\\lib\\site-packages\\urllib3\\connectionpool.py:847: InsecureRequestWarning: Unverified HTTPS request is being made. Adding certificate verification is strongly advised. See: https://urllib3.readthedocs.io/en/latest/advanced-usage.html#ssl-warnings\n",
      "  InsecureRequestWarning)\n"
     ]
    },
    {
     "name": "stdout",
     "output_type": "stream",
     "text": [
      "Error examinerCited!\n",
      "['US5511144A', '1994-06-13', '1996-04-23', ' ']\n",
      "https://patents.google.com/patent/US9104004\n"
     ]
    },
    {
     "name": "stderr",
     "output_type": "stream",
     "text": [
      "C:\\Users\\18136\\Anaconda3\\lib\\site-packages\\urllib3\\connectionpool.py:847: InsecureRequestWarning: Unverified HTTPS request is being made. Adding certificate verification is strongly advised. See: https://urllib3.readthedocs.io/en/latest/advanced-usage.html#ssl-warnings\n",
      "  InsecureRequestWarning)\n"
     ]
    },
    {
     "name": "stdout",
     "output_type": "stream",
     "text": [
      "Error examinerCited!\n",
      "['GB549840A', '1941-09-08', '1942-12-09', ' ']\n",
      "https://patents.google.com/patent/US9104001\n"
     ]
    },
    {
     "name": "stderr",
     "output_type": "stream",
     "text": [
      "C:\\Users\\18136\\Anaconda3\\lib\\site-packages\\urllib3\\connectionpool.py:847: InsecureRequestWarning: Unverified HTTPS request is being made. Adding certificate verification is strongly advised. See: https://urllib3.readthedocs.io/en/latest/advanced-usage.html#ssl-warnings\n",
      "  InsecureRequestWarning)\n"
     ]
    },
    {
     "name": "stdout",
     "output_type": "stream",
     "text": [
      "Error examinerCited!\n",
      "['US4373777A', '1980-08-11', '1983-02-15', ' ']\n",
      "https://patents.google.com/patent/US9097871\n"
     ]
    },
    {
     "name": "stderr",
     "output_type": "stream",
     "text": [
      "C:\\Users\\18136\\Anaconda3\\lib\\site-packages\\urllib3\\connectionpool.py:847: InsecureRequestWarning: Unverified HTTPS request is being made. Adding certificate verification is strongly advised. See: https://urllib3.readthedocs.io/en/latest/advanced-usage.html#ssl-warnings\n",
      "  InsecureRequestWarning)\n"
     ]
    },
    {
     "name": "stdout",
     "output_type": "stream",
     "text": [
      "Error examinerCited!\n",
      "['US4765710A', '1985-07-30', '1988-08-23', ' ']\n",
      "https://patents.google.com/patent/US9097870\n"
     ]
    },
    {
     "name": "stderr",
     "output_type": "stream",
     "text": [
      "C:\\Users\\18136\\Anaconda3\\lib\\site-packages\\urllib3\\connectionpool.py:847: InsecureRequestWarning: Unverified HTTPS request is being made. Adding certificate verification is strongly advised. See: https://urllib3.readthedocs.io/en/latest/advanced-usage.html#ssl-warnings\n",
      "  InsecureRequestWarning)\n"
     ]
    },
    {
     "name": "stdout",
     "output_type": "stream",
     "text": [
      "Error examinerCited!\n",
      "['US20060153517A1', '2004-11-03', '2006-07-13', ' ']\n",
      "https://patents.google.com/patent/US9093796\n"
     ]
    },
    {
     "name": "stderr",
     "output_type": "stream",
     "text": [
      "C:\\Users\\18136\\Anaconda3\\lib\\site-packages\\urllib3\\connectionpool.py:847: InsecureRequestWarning: Unverified HTTPS request is being made. Adding certificate verification is strongly advised. See: https://urllib3.readthedocs.io/en/latest/advanced-usage.html#ssl-warnings\n",
      "  InsecureRequestWarning)\n"
     ]
    },
    {
     "name": "stdout",
     "output_type": "stream",
     "text": [
      "Error examinerCited!\n",
      "['US3243761A', '1963-10-08', '1966-03-29', ' ']\n",
      "https://patents.google.com/patent/US9081537\n"
     ]
    },
    {
     "name": "stderr",
     "output_type": "stream",
     "text": [
      "C:\\Users\\18136\\Anaconda3\\lib\\site-packages\\urllib3\\connectionpool.py:847: InsecureRequestWarning: Unverified HTTPS request is being made. Adding certificate verification is strongly advised. See: https://urllib3.readthedocs.io/en/latest/advanced-usage.html#ssl-warnings\n",
      "  InsecureRequestWarning)\n"
     ]
    },
    {
     "name": "stdout",
     "output_type": "stream",
     "text": [
      "Error examinerCited!\n",
      "['US5052940A', '1990-05-11', '1991-10-01', ' ']\n",
      "https://patents.google.com/patent/US9081164\n"
     ]
    },
    {
     "name": "stderr",
     "output_type": "stream",
     "text": [
      "C:\\Users\\18136\\Anaconda3\\lib\\site-packages\\urllib3\\connectionpool.py:847: InsecureRequestWarning: Unverified HTTPS request is being made. Adding certificate verification is strongly advised. See: https://urllib3.readthedocs.io/en/latest/advanced-usage.html#ssl-warnings\n",
      "  InsecureRequestWarning)\n"
     ]
    },
    {
     "name": "stdout",
     "output_type": "stream",
     "text": [
      "Error examinerCited!\n",
      "['US4708430A', '1984-10-25', '1987-11-24', ' ']\n",
      "https://patents.google.com/patent/US9081154\n"
     ]
    },
    {
     "name": "stderr",
     "output_type": "stream",
     "text": [
      "C:\\Users\\18136\\Anaconda3\\lib\\site-packages\\urllib3\\connectionpool.py:847: InsecureRequestWarning: Unverified HTTPS request is being made. Adding certificate verification is strongly advised. See: https://urllib3.readthedocs.io/en/latest/advanced-usage.html#ssl-warnings\n",
      "  InsecureRequestWarning)\n"
     ]
    },
    {
     "name": "stdout",
     "output_type": "stream",
     "text": [
      "Error examinerCited!\n",
      "['US4679895A', '1984-08-31', '1987-07-14', ' ']\n",
      "https://patents.google.com/patent/US9081152\n"
     ]
    },
    {
     "name": "stderr",
     "output_type": "stream",
     "text": [
      "C:\\Users\\18136\\Anaconda3\\lib\\site-packages\\urllib3\\connectionpool.py:847: InsecureRequestWarning: Unverified HTTPS request is being made. Adding certificate verification is strongly advised. See: https://urllib3.readthedocs.io/en/latest/advanced-usage.html#ssl-warnings\n",
      "  InsecureRequestWarning)\n"
     ]
    },
    {
     "name": "stdout",
     "output_type": "stream",
     "text": [
      "Error examinerCited!\n",
      "['US5067783A', '1990-10-16', '1991-11-26', ' ']\n",
      "https://patents.google.com/patent/US9079370\n"
     ]
    },
    {
     "name": "stderr",
     "output_type": "stream",
     "text": [
      "C:\\Users\\18136\\Anaconda3\\lib\\site-packages\\urllib3\\connectionpool.py:847: InsecureRequestWarning: Unverified HTTPS request is being made. Adding certificate verification is strongly advised. See: https://urllib3.readthedocs.io/en/latest/advanced-usage.html#ssl-warnings\n",
      "  InsecureRequestWarning)\n"
     ]
    },
    {
     "name": "stdout",
     "output_type": "stream",
     "text": [
      "['US3880194A', '1973-02-20', '1975-04-29', '*']\n",
      "https://patents.google.com/patent/US9078287\n"
     ]
    },
    {
     "name": "stderr",
     "output_type": "stream",
     "text": [
      "C:\\Users\\18136\\Anaconda3\\lib\\site-packages\\urllib3\\connectionpool.py:847: InsecureRequestWarning: Unverified HTTPS request is being made. Adding certificate verification is strongly advised. See: https://urllib3.readthedocs.io/en/latest/advanced-usage.html#ssl-warnings\n",
      "  InsecureRequestWarning)\n"
     ]
    },
    {
     "name": "stdout",
     "output_type": "stream",
     "text": [
      "Error examinerCited!\n",
      "['US4365865A', '1981-01-30', '1982-12-28', ' ']\n",
      "https://patents.google.com/patent/US9075205\n"
     ]
    },
    {
     "name": "stderr",
     "output_type": "stream",
     "text": [
      "C:\\Users\\18136\\Anaconda3\\lib\\site-packages\\urllib3\\connectionpool.py:847: InsecureRequestWarning: Unverified HTTPS request is being made. Adding certificate verification is strongly advised. See: https://urllib3.readthedocs.io/en/latest/advanced-usage.html#ssl-warnings\n",
      "  InsecureRequestWarning)\n"
     ]
    },
    {
     "name": "stdout",
     "output_type": "stream",
     "text": [
      "Error examinerCited!\n",
      "['US6511231B2', '2000-12-27', '2003-01-28', ' ']\n",
      "https://patents.google.com/patent/US9075203\n"
     ]
    },
    {
     "name": "stderr",
     "output_type": "stream",
     "text": [
      "C:\\Users\\18136\\Anaconda3\\lib\\site-packages\\urllib3\\connectionpool.py:847: InsecureRequestWarning: Unverified HTTPS request is being made. Adding certificate verification is strongly advised. See: https://urllib3.readthedocs.io/en/latest/advanced-usage.html#ssl-warnings\n",
      "  InsecureRequestWarning)\n"
     ]
    },
    {
     "name": "stdout",
     "output_type": "stream",
     "text": [
      "Error examinerCited!\n",
      "['US2805106A', '1954-12-27', '1957-09-03', ' ']\n",
      "https://patents.google.com/patent/US9071041\n"
     ]
    },
    {
     "name": "stderr",
     "output_type": "stream",
     "text": [
      "C:\\Users\\18136\\Anaconda3\\lib\\site-packages\\urllib3\\connectionpool.py:847: InsecureRequestWarning: Unverified HTTPS request is being made. Adding certificate verification is strongly advised. See: https://urllib3.readthedocs.io/en/latest/advanced-usage.html#ssl-warnings\n",
      "  InsecureRequestWarning)\n"
     ]
    },
    {
     "name": "stdout",
     "output_type": "stream",
     "text": [
      "Error examinerCited!\n",
      "['US3890459A', '1974-06-17', '1975-06-17', ' ']\n",
      "https://patents.google.com/patent/US9069150\n"
     ]
    },
    {
     "name": "stderr",
     "output_type": "stream",
     "text": [
      "C:\\Users\\18136\\Anaconda3\\lib\\site-packages\\urllib3\\connectionpool.py:847: InsecureRequestWarning: Unverified HTTPS request is being made. Adding certificate verification is strongly advised. See: https://urllib3.readthedocs.io/en/latest/advanced-usage.html#ssl-warnings\n",
      "  InsecureRequestWarning)\n"
     ]
    },
    {
     "name": "stdout",
     "output_type": "stream",
     "text": [
      "Error examinerCited!\n",
      "['US2805106A', '1954-12-27', '1957-09-03', ' ']\n",
      "https://patents.google.com/patent/US9065223\n"
     ]
    },
    {
     "name": "stderr",
     "output_type": "stream",
     "text": [
      "C:\\Users\\18136\\Anaconda3\\lib\\site-packages\\urllib3\\connectionpool.py:847: InsecureRequestWarning: Unverified HTTPS request is being made. Adding certificate verification is strongly advised. See: https://urllib3.readthedocs.io/en/latest/advanced-usage.html#ssl-warnings\n",
      "  InsecureRequestWarning)\n"
     ]
    },
    {
     "name": "stdout",
     "output_type": "stream",
     "text": [
      "Error examinerCited!\n",
      "['US4766402A', '1987-08-06', '1988-08-23', ' ']\n",
      "https://patents.google.com/patent/US9064022\n"
     ]
    },
    {
     "name": "stderr",
     "output_type": "stream",
     "text": [
      "C:\\Users\\18136\\Anaconda3\\lib\\site-packages\\urllib3\\connectionpool.py:847: InsecureRequestWarning: Unverified HTTPS request is being made. Adding certificate verification is strongly advised. See: https://urllib3.readthedocs.io/en/latest/advanced-usage.html#ssl-warnings\n",
      "  InsecureRequestWarning)\n"
     ]
    },
    {
     "name": "stdout",
     "output_type": "stream",
     "text": [
      "Error examinerCited!\n",
      "['US3243761A', '1963-10-08', '1966-03-29', ' ']\n",
      "https://patents.google.com/patent/US9063316\n"
     ]
    },
    {
     "name": "stderr",
     "output_type": "stream",
     "text": [
      "C:\\Users\\18136\\Anaconda3\\lib\\site-packages\\urllib3\\connectionpool.py:847: InsecureRequestWarning: Unverified HTTPS request is being made. Adding certificate verification is strongly advised. See: https://urllib3.readthedocs.io/en/latest/advanced-usage.html#ssl-warnings\n",
      "  InsecureRequestWarning)\n"
     ]
    },
    {
     "name": "stdout",
     "output_type": "stream",
     "text": [
      "['US5956449A', '1997-02-26', '1999-09-21', '*']\n",
      "https://patents.google.com/patent/US9063298\n"
     ]
    },
    {
     "name": "stderr",
     "output_type": "stream",
     "text": [
      "C:\\Users\\18136\\Anaconda3\\lib\\site-packages\\urllib3\\connectionpool.py:847: InsecureRequestWarning: Unverified HTTPS request is being made. Adding certificate verification is strongly advised. See: https://urllib3.readthedocs.io/en/latest/advanced-usage.html#ssl-warnings\n",
      "  InsecureRequestWarning)\n"
     ]
    },
    {
     "name": "stdout",
     "output_type": "stream",
     "text": [
      "Error examinerCited!\n",
      "['US6511231B2', '2000-12-27', '2003-01-28', ' ']\n",
      "https://patents.google.com/patent/US9057860\n"
     ]
    },
    {
     "name": "stderr",
     "output_type": "stream",
     "text": [
      "C:\\Users\\18136\\Anaconda3\\lib\\site-packages\\urllib3\\connectionpool.py:847: InsecureRequestWarning: Unverified HTTPS request is being made. Adding certificate verification is strongly advised. See: https://urllib3.readthedocs.io/en/latest/advanced-usage.html#ssl-warnings\n",
      "  InsecureRequestWarning)\n"
     ]
    },
    {
     "name": "stdout",
     "output_type": "stream",
     "text": [
      "Error examinerCited!\n",
      "['US1276825A', '1916-07-21', '1918-08-27', ' ']\n",
      "https://patents.google.com/patent/US9057859\n"
     ]
    },
    {
     "name": "stderr",
     "output_type": "stream",
     "text": [
      "C:\\Users\\18136\\Anaconda3\\lib\\site-packages\\urllib3\\connectionpool.py:847: InsecureRequestWarning: Unverified HTTPS request is being made. Adding certificate verification is strongly advised. See: https://urllib3.readthedocs.io/en/latest/advanced-usage.html#ssl-warnings\n",
      "  InsecureRequestWarning)\n"
     ]
    },
    {
     "name": "stdout",
     "output_type": "stream",
     "text": [
      "Error examinerCited!\n",
      "['US2805106A', '1954-12-27', '1957-09-03', ' ']\n",
      "https://patents.google.com/patent/US9054440\n"
     ]
    },
    {
     "name": "stderr",
     "output_type": "stream",
     "text": [
      "C:\\Users\\18136\\Anaconda3\\lib\\site-packages\\urllib3\\connectionpool.py:847: InsecureRequestWarning: Unverified HTTPS request is being made. Adding certificate verification is strongly advised. See: https://urllib3.readthedocs.io/en/latest/advanced-usage.html#ssl-warnings\n",
      "  InsecureRequestWarning)\n"
     ]
    },
    {
     "name": "stdout",
     "output_type": "stream",
     "text": [
      "Error examinerCited!\n",
      "['US3243761A', '1963-10-08', '1966-03-29', ' ']\n",
      "https://patents.google.com/patent/US9046658\n"
     ]
    },
    {
     "name": "stderr",
     "output_type": "stream",
     "text": [
      "C:\\Users\\18136\\Anaconda3\\lib\\site-packages\\urllib3\\connectionpool.py:847: InsecureRequestWarning: Unverified HTTPS request is being made. Adding certificate verification is strongly advised. See: https://urllib3.readthedocs.io/en/latest/advanced-usage.html#ssl-warnings\n",
      "  InsecureRequestWarning)\n"
     ]
    },
    {
     "name": "stdout",
     "output_type": "stream",
     "text": [
      "Error examinerCited!\n",
      "['US3991014A', '1974-05-10', '1976-11-09', ' ']\n",
      "https://patents.google.com/patent/US9042700\n"
     ]
    },
    {
     "name": "stderr",
     "output_type": "stream",
     "text": [
      "C:\\Users\\18136\\Anaconda3\\lib\\site-packages\\urllib3\\connectionpool.py:847: InsecureRequestWarning: Unverified HTTPS request is being made. Adding certificate verification is strongly advised. See: https://urllib3.readthedocs.io/en/latest/advanced-usage.html#ssl-warnings\n",
      "  InsecureRequestWarning)\n"
     ]
    },
    {
     "name": "stdout",
     "output_type": "stream",
     "text": [
      "Error examinerCited!\n",
      "['US335692A', ' ', '1886-02-09', ' ']\n",
      "https://patents.google.com/patent/US9038141\n"
     ]
    },
    {
     "name": "stderr",
     "output_type": "stream",
     "text": [
      "C:\\Users\\18136\\Anaconda3\\lib\\site-packages\\urllib3\\connectionpool.py:847: InsecureRequestWarning: Unverified HTTPS request is being made. Adding certificate verification is strongly advised. See: https://urllib3.readthedocs.io/en/latest/advanced-usage.html#ssl-warnings\n",
      "  InsecureRequestWarning)\n"
     ]
    },
    {
     "name": "stdout",
     "output_type": "stream",
     "text": [
      "Error examinerCited!\n",
      "['US5052940A', '1990-05-11', '1991-10-01', ' ']\n",
      "https://patents.google.com/patent/US9036975\n"
     ]
    },
    {
     "name": "stderr",
     "output_type": "stream",
     "text": [
      "C:\\Users\\18136\\Anaconda3\\lib\\site-packages\\urllib3\\connectionpool.py:847: InsecureRequestWarning: Unverified HTTPS request is being made. Adding certificate verification is strongly advised. See: https://urllib3.readthedocs.io/en/latest/advanced-usage.html#ssl-warnings\n",
      "  InsecureRequestWarning)\n"
     ]
    },
    {
     "name": "stdout",
     "output_type": "stream",
     "text": [
      "Error examinerCited!\n",
      "['JPS5748706A', '1980-09-06', '1982-03-20', ' ']\n",
      "https://patents.google.com/patent/US9036974\n"
     ]
    },
    {
     "name": "stderr",
     "output_type": "stream",
     "text": [
      "C:\\Users\\18136\\Anaconda3\\lib\\site-packages\\urllib3\\connectionpool.py:847: InsecureRequestWarning: Unverified HTTPS request is being made. Adding certificate verification is strongly advised. See: https://urllib3.readthedocs.io/en/latest/advanced-usage.html#ssl-warnings\n",
      "  InsecureRequestWarning)\n"
     ]
    },
    {
     "name": "stdout",
     "output_type": "stream",
     "text": [
      "['US20090060441A1', '2007-09-05', '2009-03-05', '*']\n",
      "https://patents.google.com/patent/US9033728\n"
     ]
    },
    {
     "name": "stderr",
     "output_type": "stream",
     "text": [
      "C:\\Users\\18136\\Anaconda3\\lib\\site-packages\\urllib3\\connectionpool.py:847: InsecureRequestWarning: Unverified HTTPS request is being made. Adding certificate verification is strongly advised. See: https://urllib3.readthedocs.io/en/latest/advanced-usage.html#ssl-warnings\n",
      "  InsecureRequestWarning)\n"
     ]
    },
    {
     "name": "stdout",
     "output_type": "stream",
     "text": [
      "Error examinerCited!\n",
      "['US1616114A', '1925-03-30', '1927-02-01', ' ']\n",
      "https://patents.google.com/patent/US9020319\n"
     ]
    },
    {
     "name": "stderr",
     "output_type": "stream",
     "text": [
      "C:\\Users\\18136\\Anaconda3\\lib\\site-packages\\urllib3\\connectionpool.py:847: InsecureRequestWarning: Unverified HTTPS request is being made. Adding certificate verification is strongly advised. See: https://urllib3.readthedocs.io/en/latest/advanced-usage.html#ssl-warnings\n",
      "  InsecureRequestWarning)\n"
     ]
    },
    {
     "name": "stdout",
     "output_type": "stream",
     "text": [
      "Error examinerCited!\n",
      "['US4953194A', '1989-09-22', '1990-08-28', ' ']\n",
      "https://patents.google.com/patent/US9016953\n"
     ]
    },
    {
     "name": "stderr",
     "output_type": "stream",
     "text": [
      "C:\\Users\\18136\\Anaconda3\\lib\\site-packages\\urllib3\\connectionpool.py:847: InsecureRequestWarning: Unverified HTTPS request is being made. Adding certificate verification is strongly advised. See: https://urllib3.readthedocs.io/en/latest/advanced-usage.html#ssl-warnings\n",
      "  InsecureRequestWarning)\n"
     ]
    },
    {
     "name": "stdout",
     "output_type": "stream",
     "text": [
      "Error examinerCited!\n",
      "['US2027962A', '1933-03-03', '1936-01-14', ' ']\n",
      "https://patents.google.com/patent/US9014527\n"
     ]
    },
    {
     "name": "stderr",
     "output_type": "stream",
     "text": [
      "C:\\Users\\18136\\Anaconda3\\lib\\site-packages\\urllib3\\connectionpool.py:847: InsecureRequestWarning: Unverified HTTPS request is being made. Adding certificate verification is strongly advised. See: https://urllib3.readthedocs.io/en/latest/advanced-usage.html#ssl-warnings\n",
      "  InsecureRequestWarning)\n"
     ]
    },
    {
     "name": "stdout",
     "output_type": "stream",
     "text": [
      "Error examinerCited!\n",
      "['DE2735106A1', '1977-08-04', '1979-02-15', ' ']\n",
      "https://patents.google.com/patent/US9013982\n"
     ]
    },
    {
     "name": "stderr",
     "output_type": "stream",
     "text": [
      "C:\\Users\\18136\\Anaconda3\\lib\\site-packages\\urllib3\\connectionpool.py:847: InsecureRequestWarning: Unverified HTTPS request is being made. Adding certificate verification is strongly advised. See: https://urllib3.readthedocs.io/en/latest/advanced-usage.html#ssl-warnings\n",
      "  InsecureRequestWarning)\n"
     ]
    },
    {
     "name": "stdout",
     "output_type": "stream",
     "text": [
      "Error examinerCited!\n",
      "['US20030095502A1', '2001-11-21', '2003-05-22', ' ']\n",
      "https://patents.google.com/patent/US9002166\n"
     ]
    },
    {
     "name": "stderr",
     "output_type": "stream",
     "text": [
      "C:\\Users\\18136\\Anaconda3\\lib\\site-packages\\urllib3\\connectionpool.py:847: InsecureRequestWarning: Unverified HTTPS request is being made. Adding certificate verification is strongly advised. See: https://urllib3.readthedocs.io/en/latest/advanced-usage.html#ssl-warnings\n",
      "  InsecureRequestWarning)\n"
     ]
    },
    {
     "name": "stdout",
     "output_type": "stream",
     "text": [
      "Error examinerCited!\n",
      "['US2805106A', '1954-12-27', '1957-09-03', ' ']\n",
      "https://patents.google.com/patent/US9001811\n"
     ]
    },
    {
     "name": "stderr",
     "output_type": "stream",
     "text": [
      "C:\\Users\\18136\\Anaconda3\\lib\\site-packages\\urllib3\\connectionpool.py:847: InsecureRequestWarning: Unverified HTTPS request is being made. Adding certificate verification is strongly advised. See: https://urllib3.readthedocs.io/en/latest/advanced-usage.html#ssl-warnings\n",
      "  InsecureRequestWarning)\n"
     ]
    },
    {
     "name": "stdout",
     "output_type": "stream",
     "text": [
      "Error examinerCited!\n",
      "['US3845487A', '1972-09-26', '1974-10-29', ' ']\n",
      "https://patents.google.com/patent/US8995136\n"
     ]
    },
    {
     "name": "stderr",
     "output_type": "stream",
     "text": [
      "C:\\Users\\18136\\Anaconda3\\lib\\site-packages\\urllib3\\connectionpool.py:847: InsecureRequestWarning: Unverified HTTPS request is being made. Adding certificate verification is strongly advised. See: https://urllib3.readthedocs.io/en/latest/advanced-usage.html#ssl-warnings\n",
      "  InsecureRequestWarning)\n"
     ]
    },
    {
     "name": "stdout",
     "output_type": "stream",
     "text": [
      "Error examinerCited!\n",
      "['US20030185536A1', '2002-04-01', '2003-10-02', ' ']\n",
      "https://patents.google.com/patent/US8992261\n"
     ]
    },
    {
     "name": "stderr",
     "output_type": "stream",
     "text": [
      "C:\\Users\\18136\\Anaconda3\\lib\\site-packages\\urllib3\\connectionpool.py:847: InsecureRequestWarning: Unverified HTTPS request is being made. Adding certificate verification is strongly advised. See: https://urllib3.readthedocs.io/en/latest/advanced-usage.html#ssl-warnings\n",
      "  InsecureRequestWarning)\n"
     ]
    },
    {
     "name": "stdout",
     "output_type": "stream",
     "text": [
      "Error examinerCited!\n",
      "['US3243761A', '1963-10-08', '1966-03-29', ' ']\n",
      "https://patents.google.com/patent/US8992260\n"
     ]
    },
    {
     "name": "stderr",
     "output_type": "stream",
     "text": [
      "C:\\Users\\18136\\Anaconda3\\lib\\site-packages\\urllib3\\connectionpool.py:847: InsecureRequestWarning: Unverified HTTPS request is being made. Adding certificate verification is strongly advised. See: https://urllib3.readthedocs.io/en/latest/advanced-usage.html#ssl-warnings\n",
      "  InsecureRequestWarning)\n"
     ]
    },
    {
     "name": "stdout",
     "output_type": "stream",
     "text": [
      "Error examinerCited!\n",
      "['US3243761A', '1963-10-08', '1966-03-29', ' ']\n",
      "https://patents.google.com/patent/US8992095\n"
     ]
    },
    {
     "name": "stderr",
     "output_type": "stream",
     "text": [
      "C:\\Users\\18136\\Anaconda3\\lib\\site-packages\\urllib3\\connectionpool.py:847: InsecureRequestWarning: Unverified HTTPS request is being made. Adding certificate verification is strongly advised. See: https://urllib3.readthedocs.io/en/latest/advanced-usage.html#ssl-warnings\n",
      "  InsecureRequestWarning)\n"
     ]
    },
    {
     "name": "stdout",
     "output_type": "stream",
     "text": [
      "Error examinerCited!\n",
      "['US4736100A', '1986-07-31', '1988-04-05', ' ']\n",
      "https://patents.google.com/patent/US8991623\n"
     ]
    },
    {
     "name": "stderr",
     "output_type": "stream",
     "text": [
      "C:\\Users\\18136\\Anaconda3\\lib\\site-packages\\urllib3\\connectionpool.py:847: InsecureRequestWarning: Unverified HTTPS request is being made. Adding certificate verification is strongly advised. See: https://urllib3.readthedocs.io/en/latest/advanced-usage.html#ssl-warnings\n",
      "  InsecureRequestWarning)\n"
     ]
    },
    {
     "name": "stdout",
     "output_type": "stream",
     "text": [
      "Error examinerCited!\n",
      "['EP0215668A2', '1985-09-17', '1987-03-25', ' ']\n",
      "https://patents.google.com/patent/US8989541\n"
     ]
    },
    {
     "name": "stderr",
     "output_type": "stream",
     "text": [
      "C:\\Users\\18136\\Anaconda3\\lib\\site-packages\\urllib3\\connectionpool.py:847: InsecureRequestWarning: Unverified HTTPS request is being made. Adding certificate verification is strongly advised. See: https://urllib3.readthedocs.io/en/latest/advanced-usage.html#ssl-warnings\n",
      "  InsecureRequestWarning)\n"
     ]
    },
    {
     "name": "stdout",
     "output_type": "stream",
     "text": [
      "Error examinerCited!\n",
      "['JPS60149015A', '1984-01-14', '1985-08-06', ' ']\n",
      "https://patents.google.com/patent/US8985867\n"
     ]
    },
    {
     "name": "stderr",
     "output_type": "stream",
     "text": [
      "C:\\Users\\18136\\Anaconda3\\lib\\site-packages\\urllib3\\connectionpool.py:847: InsecureRequestWarning: Unverified HTTPS request is being made. Adding certificate verification is strongly advised. See: https://urllib3.readthedocs.io/en/latest/advanced-usage.html#ssl-warnings\n",
      "  InsecureRequestWarning)\n"
     ]
    },
    {
     "name": "stdout",
     "output_type": "stream",
     "text": [
      "Error examinerCited!\n",
      "['US4102561A', '1975-07-02', '1978-07-25', ' ']\n",
      "https://patents.google.com/patent/US8985864\n"
     ]
    },
    {
     "name": "stderr",
     "output_type": "stream",
     "text": [
      "C:\\Users\\18136\\Anaconda3\\lib\\site-packages\\urllib3\\connectionpool.py:847: InsecureRequestWarning: Unverified HTTPS request is being made. Adding certificate verification is strongly advised. See: https://urllib3.readthedocs.io/en/latest/advanced-usage.html#ssl-warnings\n",
      "  InsecureRequestWarning)\n"
     ]
    },
    {
     "name": "stdout",
     "output_type": "stream",
     "text": [
      "['US4102561A', '1975-07-02', '1978-07-25', '*']\n",
      "https://patents.google.com/patent/US8982715\n"
     ]
    },
    {
     "name": "stderr",
     "output_type": "stream",
     "text": [
      "C:\\Users\\18136\\Anaconda3\\lib\\site-packages\\urllib3\\connectionpool.py:847: InsecureRequestWarning: Unverified HTTPS request is being made. Adding certificate verification is strongly advised. See: https://urllib3.readthedocs.io/en/latest/advanced-usage.html#ssl-warnings\n",
      "  InsecureRequestWarning)\n"
     ]
    },
    {
     "name": "stdout",
     "output_type": "stream",
     "text": [
      "Error examinerCited!\n",
      "['US5052940A', '1990-05-11', '1991-10-01', ' ']\n",
      "https://patents.google.com/patent/US8979578\n"
     ]
    },
    {
     "name": "stderr",
     "output_type": "stream",
     "text": [
      "C:\\Users\\18136\\Anaconda3\\lib\\site-packages\\urllib3\\connectionpool.py:847: InsecureRequestWarning: Unverified HTTPS request is being made. Adding certificate verification is strongly advised. See: https://urllib3.readthedocs.io/en/latest/advanced-usage.html#ssl-warnings\n",
      "  InsecureRequestWarning)\n"
     ]
    },
    {
     "name": "stdout",
     "output_type": "stream",
     "text": [
      "['US4410222A', '1980-07-05', '1983-10-18', '*']\n",
      "https://patents.google.com/patent/US8979395\n"
     ]
    },
    {
     "name": "stderr",
     "output_type": "stream",
     "text": [
      "C:\\Users\\18136\\Anaconda3\\lib\\site-packages\\urllib3\\connectionpool.py:847: InsecureRequestWarning: Unverified HTTPS request is being made. Adding certificate verification is strongly advised. See: https://urllib3.readthedocs.io/en/latest/advanced-usage.html#ssl-warnings\n",
      "  InsecureRequestWarning)\n"
     ]
    },
    {
     "name": "stdout",
     "output_type": "stream",
     "text": [
      "Error examinerCited!\n",
      "['US4102561A', '1975-07-02', '1978-07-25', ' ']\n",
      "https://patents.google.com/patent/US8976067\n"
     ]
    },
    {
     "name": "stderr",
     "output_type": "stream",
     "text": [
      "C:\\Users\\18136\\Anaconda3\\lib\\site-packages\\urllib3\\connectionpool.py:847: InsecureRequestWarning: Unverified HTTPS request is being made. Adding certificate verification is strongly advised. See: https://urllib3.readthedocs.io/en/latest/advanced-usage.html#ssl-warnings\n",
      "  InsecureRequestWarning)\n"
     ]
    },
    {
     "name": "stdout",
     "output_type": "stream",
     "text": [
      "Error examinerCited!\n",
      "['US6168084B1', '1997-08-19', '2001-01-02', ' ']\n",
      "https://patents.google.com/patent/US9008130\n"
     ]
    },
    {
     "name": "stderr",
     "output_type": "stream",
     "text": [
      "C:\\Users\\18136\\Anaconda3\\lib\\site-packages\\urllib3\\connectionpool.py:847: InsecureRequestWarning: Unverified HTTPS request is being made. Adding certificate verification is strongly advised. See: https://urllib3.readthedocs.io/en/latest/advanced-usage.html#ssl-warnings\n",
      "  InsecureRequestWarning)\n"
     ]
    },
    {
     "name": "stdout",
     "output_type": "stream",
     "text": [
      "['US5185736A', '1989-05-12', '1993-02-09', '*']\n",
      "https://patents.google.com/patent/US8982913\n"
     ]
    },
    {
     "name": "stderr",
     "output_type": "stream",
     "text": [
      "C:\\Users\\18136\\Anaconda3\\lib\\site-packages\\urllib3\\connectionpool.py:847: InsecureRequestWarning: Unverified HTTPS request is being made. Adding certificate verification is strongly advised. See: https://urllib3.readthedocs.io/en/latest/advanced-usage.html#ssl-warnings\n",
      "  InsecureRequestWarning)\n"
     ]
    },
    {
     "name": "stdout",
     "output_type": "stream",
     "text": [
      "Error examinerCited!\n",
      "['US4530093A', '1983-07-05', '1985-07-16', ' ']\n",
      "https://patents.google.com/patent/US8985861\n"
     ]
    },
    {
     "name": "stderr",
     "output_type": "stream",
     "text": [
      "C:\\Users\\18136\\Anaconda3\\lib\\site-packages\\urllib3\\connectionpool.py:847: InsecureRequestWarning: Unverified HTTPS request is being made. Adding certificate verification is strongly advised. See: https://urllib3.readthedocs.io/en/latest/advanced-usage.html#ssl-warnings\n",
      "  InsecureRequestWarning)\n"
     ]
    },
    {
     "name": "stdout",
     "output_type": "stream",
     "text": [
      "Error examinerCited!\n",
      "['US5067783A', '1990-10-16', '1991-11-26', ' ']\n",
      "https://patents.google.com/patent/US8965169\n"
     ]
    },
    {
     "name": "stderr",
     "output_type": "stream",
     "text": [
      "C:\\Users\\18136\\Anaconda3\\lib\\site-packages\\urllib3\\connectionpool.py:847: InsecureRequestWarning: Unverified HTTPS request is being made. Adding certificate verification is strongly advised. See: https://urllib3.readthedocs.io/en/latest/advanced-usage.html#ssl-warnings\n",
      "  InsecureRequestWarning)\n"
     ]
    },
    {
     "name": "stdout",
     "output_type": "stream",
     "text": [
      "Error examinerCited!\n",
      "['FR1207610A', '1957-07-04', '1960-02-17', ' ']\n",
      "https://patents.google.com/patent/US8965167\n"
     ]
    },
    {
     "name": "stderr",
     "output_type": "stream",
     "text": [
      "C:\\Users\\18136\\Anaconda3\\lib\\site-packages\\urllib3\\connectionpool.py:847: InsecureRequestWarning: Unverified HTTPS request is being made. Adding certificate verification is strongly advised. See: https://urllib3.readthedocs.io/en/latest/advanced-usage.html#ssl-warnings\n",
      "  InsecureRequestWarning)\n"
     ]
    },
    {
     "name": "stdout",
     "output_type": "stream",
     "text": [
      "Error examinerCited!\n",
      "['US799320A', '1904-02-09', '1905-09-12', ' ']\n",
      "https://patents.google.com/patent/US8961035\n"
     ]
    },
    {
     "name": "stderr",
     "output_type": "stream",
     "text": [
      "C:\\Users\\18136\\Anaconda3\\lib\\site-packages\\urllib3\\connectionpool.py:847: InsecureRequestWarning: Unverified HTTPS request is being made. Adding certificate verification is strongly advised. See: https://urllib3.readthedocs.io/en/latest/advanced-usage.html#ssl-warnings\n",
      "  InsecureRequestWarning)\n"
     ]
    },
    {
     "name": "stdout",
     "output_type": "stream",
     "text": [
      "Error examinerCited!\n",
      "['US7088893B2', '2003-11-26', '2006-08-08', ' ']\n",
      "https://patents.google.com/patent/US8958789\n"
     ]
    },
    {
     "name": "stderr",
     "output_type": "stream",
     "text": [
      "C:\\Users\\18136\\Anaconda3\\lib\\site-packages\\urllib3\\connectionpool.py:847: InsecureRequestWarning: Unverified HTTPS request is being made. Adding certificate verification is strongly advised. See: https://urllib3.readthedocs.io/en/latest/advanced-usage.html#ssl-warnings\n",
      "  InsecureRequestWarning)\n"
     ]
    },
    {
     "name": "stdout",
     "output_type": "stream",
     "text": [
      "Error examinerCited!\n",
      "['US3931473A', '1974-09-03', '1976-01-06', ' ']\n",
      "https://patents.google.com/patent/US8958410\n"
     ]
    },
    {
     "name": "stderr",
     "output_type": "stream",
     "text": [
      "C:\\Users\\18136\\Anaconda3\\lib\\site-packages\\urllib3\\connectionpool.py:847: InsecureRequestWarning: Unverified HTTPS request is being made. Adding certificate verification is strongly advised. See: https://urllib3.readthedocs.io/en/latest/advanced-usage.html#ssl-warnings\n",
      "  InsecureRequestWarning)\n"
     ]
    },
    {
     "name": "stdout",
     "output_type": "stream",
     "text": [
      "Error examinerCited!\n",
      "['US4183054A', '1977-09-30', '1980-01-08', ' ']\n",
      "https://patents.google.com/patent/US8953921\n"
     ]
    },
    {
     "name": "stderr",
     "output_type": "stream",
     "text": [
      "C:\\Users\\18136\\Anaconda3\\lib\\site-packages\\urllib3\\connectionpool.py:847: InsecureRequestWarning: Unverified HTTPS request is being made. Adding certificate verification is strongly advised. See: https://urllib3.readthedocs.io/en/latest/advanced-usage.html#ssl-warnings\n",
      "  InsecureRequestWarning)\n"
     ]
    },
    {
     "name": "stdout",
     "output_type": "stream",
     "text": [
      "Error examinerCited!\n",
      "['US4765710A', '1985-07-30', '1988-08-23', ' ']\n",
      "https://patents.google.com/patent/US8950051\n"
     ]
    },
    {
     "name": "stderr",
     "output_type": "stream",
     "text": [
      "C:\\Users\\18136\\Anaconda3\\lib\\site-packages\\urllib3\\connectionpool.py:847: InsecureRequestWarning: Unverified HTTPS request is being made. Adding certificate verification is strongly advised. See: https://urllib3.readthedocs.io/en/latest/advanced-usage.html#ssl-warnings\n",
      "  InsecureRequestWarning)\n"
     ]
    },
    {
     "name": "stdout",
     "output_type": "stream",
     "text": [
      "Error examinerCited!\n",
      "['US799320A', '1904-02-09', '1905-09-12', ' ']\n",
      "https://patents.google.com/patent/US8949496\n"
     ]
    },
    {
     "name": "stderr",
     "output_type": "stream",
     "text": [
      "C:\\Users\\18136\\Anaconda3\\lib\\site-packages\\urllib3\\connectionpool.py:847: InsecureRequestWarning: Unverified HTTPS request is being made. Adding certificate verification is strongly advised. See: https://urllib3.readthedocs.io/en/latest/advanced-usage.html#ssl-warnings\n",
      "  InsecureRequestWarning)\n"
     ]
    },
    {
     "name": "stdout",
     "output_type": "stream",
     "text": [
      "Error examinerCited!\n",
      "['US5052940A', '1990-05-11', '1991-10-01', ' ']\n",
      "https://patents.google.com/patent/US8948816\n"
     ]
    },
    {
     "name": "stderr",
     "output_type": "stream",
     "text": [
      "C:\\Users\\18136\\Anaconda3\\lib\\site-packages\\urllib3\\connectionpool.py:847: InsecureRequestWarning: Unverified HTTPS request is being made. Adding certificate verification is strongly advised. See: https://urllib3.readthedocs.io/en/latest/advanced-usage.html#ssl-warnings\n",
      "  InsecureRequestWarning)\n"
     ]
    },
    {
     "name": "stdout",
     "output_type": "stream",
     "text": [
      "Error examinerCited!\n",
      "['US5528597A', '1994-04-18', '1996-06-18', ' ']\n",
      "https://patents.google.com/patent/US8948155\n"
     ]
    },
    {
     "name": "stderr",
     "output_type": "stream",
     "text": [
      "C:\\Users\\18136\\Anaconda3\\lib\\site-packages\\urllib3\\connectionpool.py:847: InsecureRequestWarning: Unverified HTTPS request is being made. Adding certificate verification is strongly advised. See: https://urllib3.readthedocs.io/en/latest/advanced-usage.html#ssl-warnings\n",
      "  InsecureRequestWarning)\n"
     ]
    },
    {
     "name": "stdout",
     "output_type": "stream",
     "text": [
      "Error examinerCited!\n",
      "['US4183054A', '1977-09-30', '1980-01-08', ' ']\n",
      "https://patents.google.com/patent/US8944856\n"
     ]
    },
    {
     "name": "stderr",
     "output_type": "stream",
     "text": [
      "C:\\Users\\18136\\Anaconda3\\lib\\site-packages\\urllib3\\connectionpool.py:847: InsecureRequestWarning: Unverified HTTPS request is being made. Adding certificate verification is strongly advised. See: https://urllib3.readthedocs.io/en/latest/advanced-usage.html#ssl-warnings\n",
      "  InsecureRequestWarning)\n"
     ]
    },
    {
     "name": "stdout",
     "output_type": "stream",
     "text": [
      "Error examinerCited!\n",
      "['US3243761A', '1963-10-08', '1966-03-29', ' ']\n",
      "https://patents.google.com/patent/US8944702\n"
     ]
    },
    {
     "name": "stderr",
     "output_type": "stream",
     "text": [
      "C:\\Users\\18136\\Anaconda3\\lib\\site-packages\\urllib3\\connectionpool.py:847: InsecureRequestWarning: Unverified HTTPS request is being made. Adding certificate verification is strongly advised. See: https://urllib3.readthedocs.io/en/latest/advanced-usage.html#ssl-warnings\n",
      "  InsecureRequestWarning)\n"
     ]
    },
    {
     "name": "stdout",
     "output_type": "stream",
     "text": [
      "Error examinerCited!\n",
      "['US3395244A', '1967-03-14', '1968-07-30', ' ']\n"
     ]
    }
   ],
   "source": [
    "results=[]\n",
    "for item in list_of_patents:\n",
    "    url=\"https://patents.google.com/patent/\"+item\n",
    "    print(url)\n",
    "    try:\n",
    "        r = requests.get(url,verify=False,timeout=None)\n",
    "    except:\n",
    "        print(\"Error with this request!\")\n",
    "    else:\n",
    "        soup=BeautifulSoup(r.content,'html') \n",
    "        para=soup.find(itemprop=\"backwardReferencesOrig\")\n",
    "        try:\n",
    "            pub_no=para.find('span',itemprop='publicationNumber').get_text() if para.find('span',itemprop='publicationNumber').get_text() else ' '  \n",
    "        except:\n",
    "            print(\"Error pub_no!\")\n",
    "            pub_no=\" \"\n",
    "        try:\n",
    "            examinerCited=para.find(itemprop='examinerCited').get_text() if para.find(itemprop='examinerCited').get_text() else ' '\n",
    "        except:\n",
    "            print(\"Error examinerCited!\")\n",
    "            examinerCited=\" \"\n",
    "        try:\n",
    "            priority_Date=para.find(itemprop='priorityDate').get_text() if para.find(itemprop='priorityDate').get_text() else ' '\n",
    "        except:\n",
    "            print(\"Error priorityDate!\")\n",
    "            priority_Date=\" \"\n",
    "        try:\n",
    "            publicationDate=para.find(itemprop='publicationDate').get_text() if para.find(itemprop='publicationDate').get_text() else ' '\n",
    "        except:\n",
    "            print(\"Error publicationDate!\")\n",
    "            publicationDate=\" \" \n",
    "        results.append([item,pub_no,priority_Date,publicationDate,examinerCited])\n",
    "        print([pub_no,priority_Date,publicationDate,examinerCited])\n",
    "   \n",
    "\n",
    "\n",
    "\n"
   ]
  },
  {
   "cell_type": "code",
   "execution_count": 73,
   "metadata": {},
   "outputs": [
    {
     "data": {
      "text/plain": [
       "[['US9594217', 'US20080011514A1', '2006-07-14', '2008-01-17', ' '],\n",
       " ['US9310577', 'US2773940A', '1951-06-21', '1956-12-11', '*'],\n",
       " ['US9261663', 'US1276825A', '1916-07-21', '1918-08-27', ' '],\n",
       " ['US9239442', 'US4650933A', '1985-07-15', '1987-03-17', ' '],\n",
       " ['US9219520', 'US4183054A', '1977-09-30', '1980-01-08', ' '],\n",
       " ['US9214759', 'US835003A', '1906-01-08', '1906-11-06', ' '],\n",
       " ['US9210049', 'US20040065470A1', '2002-09-25', '2004-04-08', ' '],\n",
       " ['US9207417', 'US5052940A', '1990-05-11', '1991-10-01', ' '],\n",
       " ['US9195021', 'US2805106A', '1954-12-27', '1957-09-03', ' '],\n",
       " ['US9191993', 'US6236365B1', '1996-09-09', '2001-05-22', ' '],\n",
       " ['US9191912', 'US4433335A', '1977-05-31', '1984-02-21', ' '],\n",
       " ['US9188760', 'US1276825A', '1916-07-21', '1918-08-27', ' '],\n",
       " ['US9182563', 'US4435612A', '1982-03-09', '1984-03-06', ' '],\n",
       " ['US9178636', 'US4183054A', '1977-09-30', '1980-01-08', ' '],\n",
       " ['US9176285', 'US3395244A', '1967-03-14', '1968-07-30', ' '],\n",
       " ['US9170391', 'US2805106A', '1954-12-27', '1957-09-03', ' '],\n",
       " ['US9158074', 'US4765710A', '1985-07-30', '1988-08-23', ' '],\n",
       " ['US9153913', 'US4831497A', '1986-09-11', '1989-05-16', ' '],\n",
       " ['US9151904', 'US3395244A', '1967-03-14', '1968-07-30', ' '],\n",
       " ['US9147983', 'US3243761A', '1963-10-08', '1966-03-29', ' '],\n",
       " ['US9146376', 'US5067784A', '1990-11-19', '1991-11-26', '*'],\n",
       " ['US9146375', 'US6539161B2', '2001-03-16', '2003-03-25', ' '],\n",
       " ['US9146374', 'DE2735106A1', '1977-08-04', '1979-02-15', ' '],\n",
       " ['US9146373', 'US4736100A', '1986-07-31', '1988-04-05', ' '],\n",
       " ['US9146371', 'US4435612A', '1982-03-09', '1984-03-06', ' '],\n",
       " ['US9146362', 'US2331920A', '1942-11-04', '1943-10-19', '*'],\n",
       " ['US9146352', 'JPS5875104A', '1981-10-28', '1983-05-06', ' '],\n",
       " ['US9136967', ' ', ' ', ' ', ' '],\n",
       " ['US9171209', 'US20060033753A1', '2004-08-13', '2006-02-16', '*'],\n",
       " ['US9128262', 'US2805106A', '1954-12-27', '1957-09-03', ' '],\n",
       " ['US9126802', 'US342354A', ' ', '1886-05-25', ' '],\n",
       " ['US9122034', 'US5631993A', '1995-04-20', '1997-05-20', '*'],\n",
       " ['US9122019', 'US4736100A', '1986-07-31', '1988-04-05', ' '],\n",
       " ['US9116310', 'JPS5748706A', '1980-09-06', '1982-03-20', ' '],\n",
       " ['US9112547', 'US3866121A', '1971-11-24', '1975-02-11', ' '],\n",
       " ['US9107086', 'US20070274279A1', '2005-12-19', '2007-11-29', ' '],\n",
       " ['US9106064', 'US5461693A', '1994-07-14', '1995-10-24', '*'],\n",
       " ['US9104005', 'US5511144A', '1994-06-13', '1996-04-23', ' '],\n",
       " ['US9104004', 'GB549840A', '1941-09-08', '1942-12-09', ' '],\n",
       " ['US9104001', 'US4373777A', '1980-08-11', '1983-02-15', ' '],\n",
       " ['US9097871', 'US4765710A', '1985-07-30', '1988-08-23', ' '],\n",
       " ['US9097870', 'US20060153517A1', '2004-11-03', '2006-07-13', ' '],\n",
       " ['US9093796', 'US3243761A', '1963-10-08', '1966-03-29', ' '],\n",
       " ['US9081537', 'US5052940A', '1990-05-11', '1991-10-01', ' '],\n",
       " ['US9081164', 'US4708430A', '1984-10-25', '1987-11-24', ' '],\n",
       " ['US9081154', 'US4679895A', '1984-08-31', '1987-07-14', ' '],\n",
       " ['US9081152', 'US5067783A', '1990-10-16', '1991-11-26', ' '],\n",
       " ['US9079370', 'US3880194A', '1973-02-20', '1975-04-29', '*'],\n",
       " ['US9078287', 'US4365865A', '1981-01-30', '1982-12-28', ' '],\n",
       " ['US9075205', 'US6511231B2', '2000-12-27', '2003-01-28', ' '],\n",
       " ['US9075203', 'US2805106A', '1954-12-27', '1957-09-03', ' '],\n",
       " ['US9071041', 'US3890459A', '1974-06-17', '1975-06-17', ' '],\n",
       " ['US9069150', 'US2805106A', '1954-12-27', '1957-09-03', ' '],\n",
       " ['US9065223', 'US4766402A', '1987-08-06', '1988-08-23', ' '],\n",
       " ['US9064022', 'US3243761A', '1963-10-08', '1966-03-29', ' '],\n",
       " ['US9063316', 'US5956449A', '1997-02-26', '1999-09-21', '*'],\n",
       " ['US9063298', 'US6511231B2', '2000-12-27', '2003-01-28', ' '],\n",
       " ['US9057860', 'US1276825A', '1916-07-21', '1918-08-27', ' '],\n",
       " ['US9057859', 'US2805106A', '1954-12-27', '1957-09-03', ' '],\n",
       " ['US9054440', 'US3243761A', '1963-10-08', '1966-03-29', ' '],\n",
       " ['US9046658', 'US3991014A', '1974-05-10', '1976-11-09', ' '],\n",
       " ['US9042700', 'US335692A', ' ', '1886-02-09', ' '],\n",
       " ['US9038141', 'US5052940A', '1990-05-11', '1991-10-01', ' '],\n",
       " ['US9036975', 'JPS5748706A', '1980-09-06', '1982-03-20', ' '],\n",
       " ['US9036974', 'US20090060441A1', '2007-09-05', '2009-03-05', '*'],\n",
       " ['US9033728', 'US1616114A', '1925-03-30', '1927-02-01', ' '],\n",
       " ['US9020319', 'US4953194A', '1989-09-22', '1990-08-28', ' '],\n",
       " ['US9016953', 'US2027962A', '1933-03-03', '1936-01-14', ' '],\n",
       " ['US9014527', 'DE2735106A1', '1977-08-04', '1979-02-15', ' '],\n",
       " ['US9013982', 'US20030095502A1', '2001-11-21', '2003-05-22', ' '],\n",
       " ['US9002166', 'US2805106A', '1954-12-27', '1957-09-03', ' '],\n",
       " ['US9001811', 'US3845487A', '1972-09-26', '1974-10-29', ' '],\n",
       " ['US8995136', 'US20030185536A1', '2002-04-01', '2003-10-02', ' '],\n",
       " ['US8992261', 'US3243761A', '1963-10-08', '1966-03-29', ' '],\n",
       " ['US8992260', 'US3243761A', '1963-10-08', '1966-03-29', ' '],\n",
       " ['US8992095', 'US4736100A', '1986-07-31', '1988-04-05', ' '],\n",
       " ['US8991623', 'EP0215668A2', '1985-09-17', '1987-03-25', ' '],\n",
       " ['US8989541', 'JPS60149015A', '1984-01-14', '1985-08-06', ' '],\n",
       " ['US8985867', 'US4102561A', '1975-07-02', '1978-07-25', ' '],\n",
       " ['US8985864', 'US4102561A', '1975-07-02', '1978-07-25', '*'],\n",
       " ['US8982715', 'US5052940A', '1990-05-11', '1991-10-01', ' '],\n",
       " ['US8979578', 'US4410222A', '1980-07-05', '1983-10-18', '*'],\n",
       " ['US8979395', 'US4102561A', '1975-07-02', '1978-07-25', ' '],\n",
       " ['US8976067', 'US6168084B1', '1997-08-19', '2001-01-02', ' '],\n",
       " ['US9008130', 'US5185736A', '1989-05-12', '1993-02-09', '*'],\n",
       " ['US8982913', 'US4530093A', '1983-07-05', '1985-07-16', ' '],\n",
       " ['US8985861', 'US5067783A', '1990-10-16', '1991-11-26', ' '],\n",
       " ['US8965169', 'FR1207610A', '1957-07-04', '1960-02-17', ' '],\n",
       " ['US8965167', 'US799320A', '1904-02-09', '1905-09-12', ' '],\n",
       " ['US8961035', 'US7088893B2', '2003-11-26', '2006-08-08', ' '],\n",
       " ['US8958789', 'US3931473A', '1974-09-03', '1976-01-06', ' '],\n",
       " ['US8958410', 'US4183054A', '1977-09-30', '1980-01-08', ' '],\n",
       " ['US8953921', 'US4765710A', '1985-07-30', '1988-08-23', ' '],\n",
       " ['US8950051', 'US799320A', '1904-02-09', '1905-09-12', ' '],\n",
       " ['US8949496', 'US5052940A', '1990-05-11', '1991-10-01', ' '],\n",
       " ['US8948816', 'US5528597A', '1994-04-18', '1996-06-18', ' '],\n",
       " ['US8948155', 'US4183054A', '1977-09-30', '1980-01-08', ' '],\n",
       " ['US8944856', 'US3243761A', '1963-10-08', '1966-03-29', ' '],\n",
       " ['US8944702', 'US3395244A', '1967-03-14', '1968-07-30', ' ']]"
      ]
     },
     "execution_count": 73,
     "metadata": {},
     "output_type": "execute_result"
    }
   ],
   "source": [
    "results"
   ]
  },
  {
   "cell_type": "code",
   "execution_count": 76,
   "metadata": {},
   "outputs": [],
   "source": [
    "df = pd.DataFrame(results, columns =['Patent_No','Publication_Number','Priority_Date','Publication_Date','Examiner_Cited']) \n"
   ]
  },
  {
   "cell_type": "code",
   "execution_count": 77,
   "metadata": {},
   "outputs": [
    {
     "data": {
      "text/html": [
       "<div>\n",
       "<style scoped>\n",
       "    .dataframe tbody tr th:only-of-type {\n",
       "        vertical-align: middle;\n",
       "    }\n",
       "\n",
       "    .dataframe tbody tr th {\n",
       "        vertical-align: top;\n",
       "    }\n",
       "\n",
       "    .dataframe thead th {\n",
       "        text-align: right;\n",
       "    }\n",
       "</style>\n",
       "<table border=\"1\" class=\"dataframe\">\n",
       "  <thead>\n",
       "    <tr style=\"text-align: right;\">\n",
       "      <th></th>\n",
       "      <th>Patent_No</th>\n",
       "      <th>Publication_Number</th>\n",
       "      <th>Priority_Date</th>\n",
       "      <th>Publication_Date</th>\n",
       "      <th>Examiner_Cited</th>\n",
       "    </tr>\n",
       "  </thead>\n",
       "  <tbody>\n",
       "    <tr>\n",
       "      <th>0</th>\n",
       "      <td>US9594217</td>\n",
       "      <td>US20080011514A1</td>\n",
       "      <td>2006-07-14</td>\n",
       "      <td>2008-01-17</td>\n",
       "      <td></td>\n",
       "    </tr>\n",
       "    <tr>\n",
       "      <th>1</th>\n",
       "      <td>US9310577</td>\n",
       "      <td>US2773940A</td>\n",
       "      <td>1951-06-21</td>\n",
       "      <td>1956-12-11</td>\n",
       "      <td>*</td>\n",
       "    </tr>\n",
       "    <tr>\n",
       "      <th>2</th>\n",
       "      <td>US9261663</td>\n",
       "      <td>US1276825A</td>\n",
       "      <td>1916-07-21</td>\n",
       "      <td>1918-08-27</td>\n",
       "      <td></td>\n",
       "    </tr>\n",
       "    <tr>\n",
       "      <th>3</th>\n",
       "      <td>US9239442</td>\n",
       "      <td>US4650933A</td>\n",
       "      <td>1985-07-15</td>\n",
       "      <td>1987-03-17</td>\n",
       "      <td></td>\n",
       "    </tr>\n",
       "    <tr>\n",
       "      <th>4</th>\n",
       "      <td>US9219520</td>\n",
       "      <td>US4183054A</td>\n",
       "      <td>1977-09-30</td>\n",
       "      <td>1980-01-08</td>\n",
       "      <td></td>\n",
       "    </tr>\n",
       "    <tr>\n",
       "      <th>5</th>\n",
       "      <td>US9214759</td>\n",
       "      <td>US835003A</td>\n",
       "      <td>1906-01-08</td>\n",
       "      <td>1906-11-06</td>\n",
       "      <td></td>\n",
       "    </tr>\n",
       "    <tr>\n",
       "      <th>6</th>\n",
       "      <td>US9210049</td>\n",
       "      <td>US20040065470A1</td>\n",
       "      <td>2002-09-25</td>\n",
       "      <td>2004-04-08</td>\n",
       "      <td></td>\n",
       "    </tr>\n",
       "    <tr>\n",
       "      <th>7</th>\n",
       "      <td>US9207417</td>\n",
       "      <td>US5052940A</td>\n",
       "      <td>1990-05-11</td>\n",
       "      <td>1991-10-01</td>\n",
       "      <td></td>\n",
       "    </tr>\n",
       "    <tr>\n",
       "      <th>8</th>\n",
       "      <td>US9195021</td>\n",
       "      <td>US2805106A</td>\n",
       "      <td>1954-12-27</td>\n",
       "      <td>1957-09-03</td>\n",
       "      <td></td>\n",
       "    </tr>\n",
       "    <tr>\n",
       "      <th>9</th>\n",
       "      <td>US9191993</td>\n",
       "      <td>US6236365B1</td>\n",
       "      <td>1996-09-09</td>\n",
       "      <td>2001-05-22</td>\n",
       "      <td></td>\n",
       "    </tr>\n",
       "    <tr>\n",
       "      <th>10</th>\n",
       "      <td>US9191912</td>\n",
       "      <td>US4433335A</td>\n",
       "      <td>1977-05-31</td>\n",
       "      <td>1984-02-21</td>\n",
       "      <td></td>\n",
       "    </tr>\n",
       "    <tr>\n",
       "      <th>11</th>\n",
       "      <td>US9188760</td>\n",
       "      <td>US1276825A</td>\n",
       "      <td>1916-07-21</td>\n",
       "      <td>1918-08-27</td>\n",
       "      <td></td>\n",
       "    </tr>\n",
       "    <tr>\n",
       "      <th>12</th>\n",
       "      <td>US9182563</td>\n",
       "      <td>US4435612A</td>\n",
       "      <td>1982-03-09</td>\n",
       "      <td>1984-03-06</td>\n",
       "      <td></td>\n",
       "    </tr>\n",
       "    <tr>\n",
       "      <th>13</th>\n",
       "      <td>US9178636</td>\n",
       "      <td>US4183054A</td>\n",
       "      <td>1977-09-30</td>\n",
       "      <td>1980-01-08</td>\n",
       "      <td></td>\n",
       "    </tr>\n",
       "    <tr>\n",
       "      <th>14</th>\n",
       "      <td>US9176285</td>\n",
       "      <td>US3395244A</td>\n",
       "      <td>1967-03-14</td>\n",
       "      <td>1968-07-30</td>\n",
       "      <td></td>\n",
       "    </tr>\n",
       "    <tr>\n",
       "      <th>15</th>\n",
       "      <td>US9170391</td>\n",
       "      <td>US2805106A</td>\n",
       "      <td>1954-12-27</td>\n",
       "      <td>1957-09-03</td>\n",
       "      <td></td>\n",
       "    </tr>\n",
       "    <tr>\n",
       "      <th>16</th>\n",
       "      <td>US9158074</td>\n",
       "      <td>US4765710A</td>\n",
       "      <td>1985-07-30</td>\n",
       "      <td>1988-08-23</td>\n",
       "      <td></td>\n",
       "    </tr>\n",
       "    <tr>\n",
       "      <th>17</th>\n",
       "      <td>US9153913</td>\n",
       "      <td>US4831497A</td>\n",
       "      <td>1986-09-11</td>\n",
       "      <td>1989-05-16</td>\n",
       "      <td></td>\n",
       "    </tr>\n",
       "    <tr>\n",
       "      <th>18</th>\n",
       "      <td>US9151904</td>\n",
       "      <td>US3395244A</td>\n",
       "      <td>1967-03-14</td>\n",
       "      <td>1968-07-30</td>\n",
       "      <td></td>\n",
       "    </tr>\n",
       "    <tr>\n",
       "      <th>19</th>\n",
       "      <td>US9147983</td>\n",
       "      <td>US3243761A</td>\n",
       "      <td>1963-10-08</td>\n",
       "      <td>1966-03-29</td>\n",
       "      <td></td>\n",
       "    </tr>\n",
       "    <tr>\n",
       "      <th>20</th>\n",
       "      <td>US9146376</td>\n",
       "      <td>US5067784A</td>\n",
       "      <td>1990-11-19</td>\n",
       "      <td>1991-11-26</td>\n",
       "      <td>*</td>\n",
       "    </tr>\n",
       "    <tr>\n",
       "      <th>21</th>\n",
       "      <td>US9146375</td>\n",
       "      <td>US6539161B2</td>\n",
       "      <td>2001-03-16</td>\n",
       "      <td>2003-03-25</td>\n",
       "      <td></td>\n",
       "    </tr>\n",
       "    <tr>\n",
       "      <th>22</th>\n",
       "      <td>US9146374</td>\n",
       "      <td>DE2735106A1</td>\n",
       "      <td>1977-08-04</td>\n",
       "      <td>1979-02-15</td>\n",
       "      <td></td>\n",
       "    </tr>\n",
       "    <tr>\n",
       "      <th>23</th>\n",
       "      <td>US9146373</td>\n",
       "      <td>US4736100A</td>\n",
       "      <td>1986-07-31</td>\n",
       "      <td>1988-04-05</td>\n",
       "      <td></td>\n",
       "    </tr>\n",
       "    <tr>\n",
       "      <th>24</th>\n",
       "      <td>US9146371</td>\n",
       "      <td>US4435612A</td>\n",
       "      <td>1982-03-09</td>\n",
       "      <td>1984-03-06</td>\n",
       "      <td></td>\n",
       "    </tr>\n",
       "    <tr>\n",
       "      <th>25</th>\n",
       "      <td>US9146362</td>\n",
       "      <td>US2331920A</td>\n",
       "      <td>1942-11-04</td>\n",
       "      <td>1943-10-19</td>\n",
       "      <td>*</td>\n",
       "    </tr>\n",
       "    <tr>\n",
       "      <th>26</th>\n",
       "      <td>US9146352</td>\n",
       "      <td>JPS5875104A</td>\n",
       "      <td>1981-10-28</td>\n",
       "      <td>1983-05-06</td>\n",
       "      <td></td>\n",
       "    </tr>\n",
       "    <tr>\n",
       "      <th>27</th>\n",
       "      <td>US9136967</td>\n",
       "      <td></td>\n",
       "      <td></td>\n",
       "      <td></td>\n",
       "      <td></td>\n",
       "    </tr>\n",
       "    <tr>\n",
       "      <th>28</th>\n",
       "      <td>US9171209</td>\n",
       "      <td>US20060033753A1</td>\n",
       "      <td>2004-08-13</td>\n",
       "      <td>2006-02-16</td>\n",
       "      <td>*</td>\n",
       "    </tr>\n",
       "    <tr>\n",
       "      <th>29</th>\n",
       "      <td>US9128262</td>\n",
       "      <td>US2805106A</td>\n",
       "      <td>1954-12-27</td>\n",
       "      <td>1957-09-03</td>\n",
       "      <td></td>\n",
       "    </tr>\n",
       "    <tr>\n",
       "      <th>...</th>\n",
       "      <td>...</td>\n",
       "      <td>...</td>\n",
       "      <td>...</td>\n",
       "      <td>...</td>\n",
       "      <td>...</td>\n",
       "    </tr>\n",
       "    <tr>\n",
       "      <th>69</th>\n",
       "      <td>US9013982</td>\n",
       "      <td>US20030095502A1</td>\n",
       "      <td>2001-11-21</td>\n",
       "      <td>2003-05-22</td>\n",
       "      <td></td>\n",
       "    </tr>\n",
       "    <tr>\n",
       "      <th>70</th>\n",
       "      <td>US9002166</td>\n",
       "      <td>US2805106A</td>\n",
       "      <td>1954-12-27</td>\n",
       "      <td>1957-09-03</td>\n",
       "      <td></td>\n",
       "    </tr>\n",
       "    <tr>\n",
       "      <th>71</th>\n",
       "      <td>US9001811</td>\n",
       "      <td>US3845487A</td>\n",
       "      <td>1972-09-26</td>\n",
       "      <td>1974-10-29</td>\n",
       "      <td></td>\n",
       "    </tr>\n",
       "    <tr>\n",
       "      <th>72</th>\n",
       "      <td>US8995136</td>\n",
       "      <td>US20030185536A1</td>\n",
       "      <td>2002-04-01</td>\n",
       "      <td>2003-10-02</td>\n",
       "      <td></td>\n",
       "    </tr>\n",
       "    <tr>\n",
       "      <th>73</th>\n",
       "      <td>US8992261</td>\n",
       "      <td>US3243761A</td>\n",
       "      <td>1963-10-08</td>\n",
       "      <td>1966-03-29</td>\n",
       "      <td></td>\n",
       "    </tr>\n",
       "    <tr>\n",
       "      <th>74</th>\n",
       "      <td>US8992260</td>\n",
       "      <td>US3243761A</td>\n",
       "      <td>1963-10-08</td>\n",
       "      <td>1966-03-29</td>\n",
       "      <td></td>\n",
       "    </tr>\n",
       "    <tr>\n",
       "      <th>75</th>\n",
       "      <td>US8992095</td>\n",
       "      <td>US4736100A</td>\n",
       "      <td>1986-07-31</td>\n",
       "      <td>1988-04-05</td>\n",
       "      <td></td>\n",
       "    </tr>\n",
       "    <tr>\n",
       "      <th>76</th>\n",
       "      <td>US8991623</td>\n",
       "      <td>EP0215668A2</td>\n",
       "      <td>1985-09-17</td>\n",
       "      <td>1987-03-25</td>\n",
       "      <td></td>\n",
       "    </tr>\n",
       "    <tr>\n",
       "      <th>77</th>\n",
       "      <td>US8989541</td>\n",
       "      <td>JPS60149015A</td>\n",
       "      <td>1984-01-14</td>\n",
       "      <td>1985-08-06</td>\n",
       "      <td></td>\n",
       "    </tr>\n",
       "    <tr>\n",
       "      <th>78</th>\n",
       "      <td>US8985867</td>\n",
       "      <td>US4102561A</td>\n",
       "      <td>1975-07-02</td>\n",
       "      <td>1978-07-25</td>\n",
       "      <td></td>\n",
       "    </tr>\n",
       "    <tr>\n",
       "      <th>79</th>\n",
       "      <td>US8985864</td>\n",
       "      <td>US4102561A</td>\n",
       "      <td>1975-07-02</td>\n",
       "      <td>1978-07-25</td>\n",
       "      <td>*</td>\n",
       "    </tr>\n",
       "    <tr>\n",
       "      <th>80</th>\n",
       "      <td>US8982715</td>\n",
       "      <td>US5052940A</td>\n",
       "      <td>1990-05-11</td>\n",
       "      <td>1991-10-01</td>\n",
       "      <td></td>\n",
       "    </tr>\n",
       "    <tr>\n",
       "      <th>81</th>\n",
       "      <td>US8979578</td>\n",
       "      <td>US4410222A</td>\n",
       "      <td>1980-07-05</td>\n",
       "      <td>1983-10-18</td>\n",
       "      <td>*</td>\n",
       "    </tr>\n",
       "    <tr>\n",
       "      <th>82</th>\n",
       "      <td>US8979395</td>\n",
       "      <td>US4102561A</td>\n",
       "      <td>1975-07-02</td>\n",
       "      <td>1978-07-25</td>\n",
       "      <td></td>\n",
       "    </tr>\n",
       "    <tr>\n",
       "      <th>83</th>\n",
       "      <td>US8976067</td>\n",
       "      <td>US6168084B1</td>\n",
       "      <td>1997-08-19</td>\n",
       "      <td>2001-01-02</td>\n",
       "      <td></td>\n",
       "    </tr>\n",
       "    <tr>\n",
       "      <th>84</th>\n",
       "      <td>US9008130</td>\n",
       "      <td>US5185736A</td>\n",
       "      <td>1989-05-12</td>\n",
       "      <td>1993-02-09</td>\n",
       "      <td>*</td>\n",
       "    </tr>\n",
       "    <tr>\n",
       "      <th>85</th>\n",
       "      <td>US8982913</td>\n",
       "      <td>US4530093A</td>\n",
       "      <td>1983-07-05</td>\n",
       "      <td>1985-07-16</td>\n",
       "      <td></td>\n",
       "    </tr>\n",
       "    <tr>\n",
       "      <th>86</th>\n",
       "      <td>US8985861</td>\n",
       "      <td>US5067783A</td>\n",
       "      <td>1990-10-16</td>\n",
       "      <td>1991-11-26</td>\n",
       "      <td></td>\n",
       "    </tr>\n",
       "    <tr>\n",
       "      <th>87</th>\n",
       "      <td>US8965169</td>\n",
       "      <td>FR1207610A</td>\n",
       "      <td>1957-07-04</td>\n",
       "      <td>1960-02-17</td>\n",
       "      <td></td>\n",
       "    </tr>\n",
       "    <tr>\n",
       "      <th>88</th>\n",
       "      <td>US8965167</td>\n",
       "      <td>US799320A</td>\n",
       "      <td>1904-02-09</td>\n",
       "      <td>1905-09-12</td>\n",
       "      <td></td>\n",
       "    </tr>\n",
       "    <tr>\n",
       "      <th>89</th>\n",
       "      <td>US8961035</td>\n",
       "      <td>US7088893B2</td>\n",
       "      <td>2003-11-26</td>\n",
       "      <td>2006-08-08</td>\n",
       "      <td></td>\n",
       "    </tr>\n",
       "    <tr>\n",
       "      <th>90</th>\n",
       "      <td>US8958789</td>\n",
       "      <td>US3931473A</td>\n",
       "      <td>1974-09-03</td>\n",
       "      <td>1976-01-06</td>\n",
       "      <td></td>\n",
       "    </tr>\n",
       "    <tr>\n",
       "      <th>91</th>\n",
       "      <td>US8958410</td>\n",
       "      <td>US4183054A</td>\n",
       "      <td>1977-09-30</td>\n",
       "      <td>1980-01-08</td>\n",
       "      <td></td>\n",
       "    </tr>\n",
       "    <tr>\n",
       "      <th>92</th>\n",
       "      <td>US8953921</td>\n",
       "      <td>US4765710A</td>\n",
       "      <td>1985-07-30</td>\n",
       "      <td>1988-08-23</td>\n",
       "      <td></td>\n",
       "    </tr>\n",
       "    <tr>\n",
       "      <th>93</th>\n",
       "      <td>US8950051</td>\n",
       "      <td>US799320A</td>\n",
       "      <td>1904-02-09</td>\n",
       "      <td>1905-09-12</td>\n",
       "      <td></td>\n",
       "    </tr>\n",
       "    <tr>\n",
       "      <th>94</th>\n",
       "      <td>US8949496</td>\n",
       "      <td>US5052940A</td>\n",
       "      <td>1990-05-11</td>\n",
       "      <td>1991-10-01</td>\n",
       "      <td></td>\n",
       "    </tr>\n",
       "    <tr>\n",
       "      <th>95</th>\n",
       "      <td>US8948816</td>\n",
       "      <td>US5528597A</td>\n",
       "      <td>1994-04-18</td>\n",
       "      <td>1996-06-18</td>\n",
       "      <td></td>\n",
       "    </tr>\n",
       "    <tr>\n",
       "      <th>96</th>\n",
       "      <td>US8948155</td>\n",
       "      <td>US4183054A</td>\n",
       "      <td>1977-09-30</td>\n",
       "      <td>1980-01-08</td>\n",
       "      <td></td>\n",
       "    </tr>\n",
       "    <tr>\n",
       "      <th>97</th>\n",
       "      <td>US8944856</td>\n",
       "      <td>US3243761A</td>\n",
       "      <td>1963-10-08</td>\n",
       "      <td>1966-03-29</td>\n",
       "      <td></td>\n",
       "    </tr>\n",
       "    <tr>\n",
       "      <th>98</th>\n",
       "      <td>US8944702</td>\n",
       "      <td>US3395244A</td>\n",
       "      <td>1967-03-14</td>\n",
       "      <td>1968-07-30</td>\n",
       "      <td></td>\n",
       "    </tr>\n",
       "  </tbody>\n",
       "</table>\n",
       "<p>99 rows × 5 columns</p>\n",
       "</div>"
      ],
      "text/plain": [
       "    Patent_No Publication_Number Priority_Date Publication_Date Examiner_Cited\n",
       "0   US9594217    US20080011514A1    2006-07-14       2008-01-17               \n",
       "1   US9310577         US2773940A    1951-06-21       1956-12-11              *\n",
       "2   US9261663         US1276825A    1916-07-21       1918-08-27               \n",
       "3   US9239442         US4650933A    1985-07-15       1987-03-17               \n",
       "4   US9219520         US4183054A    1977-09-30       1980-01-08               \n",
       "5   US9214759          US835003A    1906-01-08       1906-11-06               \n",
       "6   US9210049    US20040065470A1    2002-09-25       2004-04-08               \n",
       "7   US9207417         US5052940A    1990-05-11       1991-10-01               \n",
       "8   US9195021         US2805106A    1954-12-27       1957-09-03               \n",
       "9   US9191993        US6236365B1    1996-09-09       2001-05-22               \n",
       "10  US9191912         US4433335A    1977-05-31       1984-02-21               \n",
       "11  US9188760         US1276825A    1916-07-21       1918-08-27               \n",
       "12  US9182563         US4435612A    1982-03-09       1984-03-06               \n",
       "13  US9178636         US4183054A    1977-09-30       1980-01-08               \n",
       "14  US9176285         US3395244A    1967-03-14       1968-07-30               \n",
       "15  US9170391         US2805106A    1954-12-27       1957-09-03               \n",
       "16  US9158074         US4765710A    1985-07-30       1988-08-23               \n",
       "17  US9153913         US4831497A    1986-09-11       1989-05-16               \n",
       "18  US9151904         US3395244A    1967-03-14       1968-07-30               \n",
       "19  US9147983         US3243761A    1963-10-08       1966-03-29               \n",
       "20  US9146376         US5067784A    1990-11-19       1991-11-26              *\n",
       "21  US9146375        US6539161B2    2001-03-16       2003-03-25               \n",
       "22  US9146374        DE2735106A1    1977-08-04       1979-02-15               \n",
       "23  US9146373         US4736100A    1986-07-31       1988-04-05               \n",
       "24  US9146371         US4435612A    1982-03-09       1984-03-06               \n",
       "25  US9146362         US2331920A    1942-11-04       1943-10-19              *\n",
       "26  US9146352        JPS5875104A    1981-10-28       1983-05-06               \n",
       "27  US9136967                                                                 \n",
       "28  US9171209    US20060033753A1    2004-08-13       2006-02-16              *\n",
       "29  US9128262         US2805106A    1954-12-27       1957-09-03               \n",
       "..        ...                ...           ...              ...            ...\n",
       "69  US9013982    US20030095502A1    2001-11-21       2003-05-22               \n",
       "70  US9002166         US2805106A    1954-12-27       1957-09-03               \n",
       "71  US9001811         US3845487A    1972-09-26       1974-10-29               \n",
       "72  US8995136    US20030185536A1    2002-04-01       2003-10-02               \n",
       "73  US8992261         US3243761A    1963-10-08       1966-03-29               \n",
       "74  US8992260         US3243761A    1963-10-08       1966-03-29               \n",
       "75  US8992095         US4736100A    1986-07-31       1988-04-05               \n",
       "76  US8991623        EP0215668A2    1985-09-17       1987-03-25               \n",
       "77  US8989541       JPS60149015A    1984-01-14       1985-08-06               \n",
       "78  US8985867         US4102561A    1975-07-02       1978-07-25               \n",
       "79  US8985864         US4102561A    1975-07-02       1978-07-25              *\n",
       "80  US8982715         US5052940A    1990-05-11       1991-10-01               \n",
       "81  US8979578         US4410222A    1980-07-05       1983-10-18              *\n",
       "82  US8979395         US4102561A    1975-07-02       1978-07-25               \n",
       "83  US8976067        US6168084B1    1997-08-19       2001-01-02               \n",
       "84  US9008130         US5185736A    1989-05-12       1993-02-09              *\n",
       "85  US8982913         US4530093A    1983-07-05       1985-07-16               \n",
       "86  US8985861         US5067783A    1990-10-16       1991-11-26               \n",
       "87  US8965169         FR1207610A    1957-07-04       1960-02-17               \n",
       "88  US8965167          US799320A    1904-02-09       1905-09-12               \n",
       "89  US8961035        US7088893B2    2003-11-26       2006-08-08               \n",
       "90  US8958789         US3931473A    1974-09-03       1976-01-06               \n",
       "91  US8958410         US4183054A    1977-09-30       1980-01-08               \n",
       "92  US8953921         US4765710A    1985-07-30       1988-08-23               \n",
       "93  US8950051          US799320A    1904-02-09       1905-09-12               \n",
       "94  US8949496         US5052940A    1990-05-11       1991-10-01               \n",
       "95  US8948816         US5528597A    1994-04-18       1996-06-18               \n",
       "96  US8948155         US4183054A    1977-09-30       1980-01-08               \n",
       "97  US8944856         US3243761A    1963-10-08       1966-03-29               \n",
       "98  US8944702         US3395244A    1967-03-14       1968-07-30               \n",
       "\n",
       "[99 rows x 5 columns]"
      ]
     },
     "execution_count": 77,
     "metadata": {},
     "output_type": "execute_result"
    }
   ],
   "source": [
    "df"
   ]
  },
  {
   "cell_type": "code",
   "execution_count": 78,
   "metadata": {},
   "outputs": [],
   "source": [
    "df.to_csv(\"results.csv\",index=False)"
   ]
  },
  {
   "cell_type": "code",
   "execution_count": null,
   "metadata": {},
   "outputs": [],
   "source": []
  }
 ],
 "metadata": {
  "kernelspec": {
   "display_name": "Python 3",
   "language": "python",
   "name": "python3"
  },
  "language_info": {
   "codemirror_mode": {
    "name": "ipython",
    "version": 3
   },
   "file_extension": ".py",
   "mimetype": "text/x-python",
   "name": "python",
   "nbconvert_exporter": "python",
   "pygments_lexer": "ipython3",
   "version": "3.7.3"
  }
 },
 "nbformat": 4,
 "nbformat_minor": 4
}
