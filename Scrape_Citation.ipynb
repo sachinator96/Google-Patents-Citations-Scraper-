{
 "cells": [
  {
   "cell_type": "code",
   "execution_count": 91,
   "metadata": {},
   "outputs": [],
   "source": [
    "from bs4 import BeautifulSoup\n",
    "import requests\n",
    "import pandas as pd"
   ]
  },
  {
   "cell_type": "code",
   "execution_count": 92,
   "metadata": {},
   "outputs": [],
   "source": [
    "list_of_patents = [ 'US9594217',\n",
    "'US9310577',\n",
    "'US9261663',\n",
    "'US9239442',\n",
    "'US9219520',\n",
    "'US9214759',\n",
    "'US9210049',\n",
    "'US9207417',\n",
    "'US9195021',\n",
    "'US9191993',\n",
    "'US9191912',\n",
    "'US9188760',\n",
    "'US9182563',\n",
    "'US9178636',\n",
    "'US9176285',\n",
    "'US9170391',\n",
    "'US9158074',\n",
    "'US9153913',\n",
    "'US9151904',\n",
    "'US9147983',\n",
    "'US9146376',\n",
    "'US9146375',\n",
    "'US9146374',\n",
    "'US9146373',\n",
    "'US9146371',\n",
    "'US9146362',\n",
    "'US9146352',\n",
    "'US9136967',\n",
    "'US9171209',\n",
    "'US9128262',\n",
    "'US9126802',\n",
    "'US9122034',\n",
    "'US9122019',\n",
    "'US9116310',\n",
    "'US9112547',\n",
    "'US9107086',\n",
    "'US9106064',\n",
    "'US9104005',\n",
    "'US9104004',\n",
    "'US9104001',\n",
    "'US9097871',\n",
    "'US9097870',\n",
    "'US9093796',\n",
    "'US9081537',\n",
    "'US9081164',\n",
    "'US9081154',\n",
    "'US9081152',\n",
    "'US9079370',\n",
    "'US9078287',\n",
    "'US9075205',\n",
    "'US9075203',\n",
    "'US9071041',\n",
    "'US9069150',\n",
    "'US9065223',\n",
    "'US9064022',\n",
    "'US9063316',\n",
    "'US9063298',\n",
    "'US9057860',\n",
    "'US9057859',\n",
    "'US9054440',\n",
    "'US9046658',\n",
    "'US9042700',\n",
    "'US9038141',\n",
    "'US9036975',\n",
    "'US9036974',\n",
    "'US9033728',\n",
    "'US9020319',\n",
    "'US9016953',\n",
    "'US9014527',\n",
    "'US9013982',\n",
    "'US9002166',\n",
    "'US9001811',\n",
    "'US8995136',\n",
    "'US8992261',\n",
    "'US8992260',\n",
    "'US8992095',\n",
    "'US8991623',\n",
    "'US8989541',\n",
    "'US8985867',\n",
    "'US8985864',\n",
    "'US8982715',\n",
    "'US8979578',\n",
    "'US8979395',\n",
    "'US8976067',\n",
    "'US9008130',\n",
    "'US8982913',\n",
    "'US8985861',\n",
    "'US8965169',\n",
    "'US8965167',\n",
    "'US8961035',\n",
    "'US8958789',\n",
    "'US8958410',\n",
    "'US8953921',\n",
    "'US8950051',\n",
    "'US8949496',\n",
    "'US8948816',\n",
    "'US8948155',\n",
    "'US8944856',\n",
    "'US8944702',\n",
    "\n",
    "]"
   ]
  },
  {
   "cell_type": "code",
   "execution_count": 93,
   "metadata": {},
   "outputs": [],
   "source": [
    "scraped_data=pd.DataFrame(columns=[\"Patent_No\",'publicationNumber','examinerCited','priorityDate','publicationDate'])\n",
    "results=[]"
   ]
  },
  {
   "cell_type": "code",
   "execution_count": 94,
   "metadata": {},
   "outputs": [
    {
     "data": {
      "text/html": [
       "<div>\n",
       "<style scoped>\n",
       "    .dataframe tbody tr th:only-of-type {\n",
       "        vertical-align: middle;\n",
       "    }\n",
       "\n",
       "    .dataframe tbody tr th {\n",
       "        vertical-align: top;\n",
       "    }\n",
       "\n",
       "    .dataframe thead th {\n",
       "        text-align: right;\n",
       "    }\n",
       "</style>\n",
       "<table border=\"1\" class=\"dataframe\">\n",
       "  <thead>\n",
       "    <tr style=\"text-align: right;\">\n",
       "      <th></th>\n",
       "      <th>Patent_No</th>\n",
       "      <th>publicationNumber</th>\n",
       "      <th>examinerCited</th>\n",
       "      <th>priorityDate</th>\n",
       "      <th>publicationDate</th>\n",
       "    </tr>\n",
       "  </thead>\n",
       "  <tbody>\n",
       "  </tbody>\n",
       "</table>\n",
       "</div>"
      ],
      "text/plain": [
       "Empty DataFrame\n",
       "Columns: [Patent_No, publicationNumber, examinerCited, priorityDate, publicationDate]\n",
       "Index: []"
      ]
     },
     "execution_count": 94,
     "metadata": {},
     "output_type": "execute_result"
    }
   ],
   "source": [
    "scraped_data"
   ]
  },
  {
   "cell_type": "code",
   "execution_count": 95,
   "metadata": {},
   "outputs": [],
   "source": [
    "# Looking at one page to get tag information\n",
    "\n",
    "source=requests.get('https://patents.google.com/patent/US6096745').text\n",
    "soup=BeautifulSoup(source,'lxml')\n",
    "\n",
    "#instructions = soup.find_all(\"tr\", itemprop=\"backwardReferencesOrig\") \n",
    "\n",
    "#print(instructions)\n",
    "\n",
    "para=soup.find(itemprop=\"backwardReferencesOrig\")\n",
    "\n",
    "# scraped_data['pub_no']=para.find('span',itemprop='publicationNumber').get_text()\n",
    "# scraped_data['examinerCited']=para.find('span',itemprop='examinerCited').get_text()\n",
    "# scraped_data['priority_Date']=para.find(itemprop='priorityDate').get_text()\n",
    "# scraped_data['publicationDate']=para.find(itemprop='publicationDate').get_text()\n",
    "\n"
   ]
  },
  {
   "cell_type": "code",
   "execution_count": 96,
   "metadata": {},
   "outputs": [
    {
     "name": "stdout",
     "output_type": "stream",
     "text": [
      "https://patents.google.com/patent/US9594217\n"
     ]
    },
    {
     "name": "stderr",
     "output_type": "stream",
     "text": [
      "C:\\Users\\18136\\Anaconda3\\lib\\site-packages\\urllib3\\connectionpool.py:847: InsecureRequestWarning: Unverified HTTPS request is being made. Adding certificate verification is strongly advised. See: https://urllib3.readthedocs.io/en/latest/advanced-usage.html#ssl-warnings\n",
      "  InsecureRequestWarning)\n"
     ]
    },
    {
     "name": "stdout",
     "output_type": "stream",
     "text": [
      "https://patents.google.com/patent/US9310577\n"
     ]
    },
    {
     "name": "stderr",
     "output_type": "stream",
     "text": [
      "C:\\Users\\18136\\Anaconda3\\lib\\site-packages\\urllib3\\connectionpool.py:847: InsecureRequestWarning: Unverified HTTPS request is being made. Adding certificate verification is strongly advised. See: https://urllib3.readthedocs.io/en/latest/advanced-usage.html#ssl-warnings\n",
      "  InsecureRequestWarning)\n"
     ]
    },
    {
     "name": "stdout",
     "output_type": "stream",
     "text": [
      "https://patents.google.com/patent/US9261663\n"
     ]
    },
    {
     "name": "stderr",
     "output_type": "stream",
     "text": [
      "C:\\Users\\18136\\Anaconda3\\lib\\site-packages\\urllib3\\connectionpool.py:847: InsecureRequestWarning: Unverified HTTPS request is being made. Adding certificate verification is strongly advised. See: https://urllib3.readthedocs.io/en/latest/advanced-usage.html#ssl-warnings\n",
      "  InsecureRequestWarning)\n"
     ]
    },
    {
     "name": "stdout",
     "output_type": "stream",
     "text": [
      "https://patents.google.com/patent/US9239442\n"
     ]
    },
    {
     "name": "stderr",
     "output_type": "stream",
     "text": [
      "C:\\Users\\18136\\Anaconda3\\lib\\site-packages\\urllib3\\connectionpool.py:847: InsecureRequestWarning: Unverified HTTPS request is being made. Adding certificate verification is strongly advised. See: https://urllib3.readthedocs.io/en/latest/advanced-usage.html#ssl-warnings\n",
      "  InsecureRequestWarning)\n"
     ]
    },
    {
     "name": "stdout",
     "output_type": "stream",
     "text": [
      "https://patents.google.com/patent/US9219520\n"
     ]
    },
    {
     "name": "stderr",
     "output_type": "stream",
     "text": [
      "C:\\Users\\18136\\Anaconda3\\lib\\site-packages\\urllib3\\connectionpool.py:847: InsecureRequestWarning: Unverified HTTPS request is being made. Adding certificate verification is strongly advised. See: https://urllib3.readthedocs.io/en/latest/advanced-usage.html#ssl-warnings\n",
      "  InsecureRequestWarning)\n"
     ]
    },
    {
     "name": "stdout",
     "output_type": "stream",
     "text": [
      "https://patents.google.com/patent/US9214759\n"
     ]
    },
    {
     "name": "stderr",
     "output_type": "stream",
     "text": [
      "C:\\Users\\18136\\Anaconda3\\lib\\site-packages\\urllib3\\connectionpool.py:847: InsecureRequestWarning: Unverified HTTPS request is being made. Adding certificate verification is strongly advised. See: https://urllib3.readthedocs.io/en/latest/advanced-usage.html#ssl-warnings\n",
      "  InsecureRequestWarning)\n"
     ]
    },
    {
     "name": "stdout",
     "output_type": "stream",
     "text": [
      "https://patents.google.com/patent/US9210049\n"
     ]
    },
    {
     "name": "stderr",
     "output_type": "stream",
     "text": [
      "C:\\Users\\18136\\Anaconda3\\lib\\site-packages\\urllib3\\connectionpool.py:847: InsecureRequestWarning: Unverified HTTPS request is being made. Adding certificate verification is strongly advised. See: https://urllib3.readthedocs.io/en/latest/advanced-usage.html#ssl-warnings\n",
      "  InsecureRequestWarning)\n"
     ]
    },
    {
     "name": "stdout",
     "output_type": "stream",
     "text": [
      "https://patents.google.com/patent/US9207417\n"
     ]
    },
    {
     "name": "stderr",
     "output_type": "stream",
     "text": [
      "C:\\Users\\18136\\Anaconda3\\lib\\site-packages\\urllib3\\connectionpool.py:847: InsecureRequestWarning: Unverified HTTPS request is being made. Adding certificate verification is strongly advised. See: https://urllib3.readthedocs.io/en/latest/advanced-usage.html#ssl-warnings\n",
      "  InsecureRequestWarning)\n"
     ]
    },
    {
     "name": "stdout",
     "output_type": "stream",
     "text": [
      "https://patents.google.com/patent/US9195021\n"
     ]
    },
    {
     "name": "stderr",
     "output_type": "stream",
     "text": [
      "C:\\Users\\18136\\Anaconda3\\lib\\site-packages\\urllib3\\connectionpool.py:847: InsecureRequestWarning: Unverified HTTPS request is being made. Adding certificate verification is strongly advised. See: https://urllib3.readthedocs.io/en/latest/advanced-usage.html#ssl-warnings\n",
      "  InsecureRequestWarning)\n"
     ]
    },
    {
     "name": "stdout",
     "output_type": "stream",
     "text": [
      "https://patents.google.com/patent/US9191993\n"
     ]
    },
    {
     "name": "stderr",
     "output_type": "stream",
     "text": [
      "C:\\Users\\18136\\Anaconda3\\lib\\site-packages\\urllib3\\connectionpool.py:847: InsecureRequestWarning: Unverified HTTPS request is being made. Adding certificate verification is strongly advised. See: https://urllib3.readthedocs.io/en/latest/advanced-usage.html#ssl-warnings\n",
      "  InsecureRequestWarning)\n"
     ]
    },
    {
     "name": "stdout",
     "output_type": "stream",
     "text": [
      "https://patents.google.com/patent/US9191912\n"
     ]
    },
    {
     "name": "stderr",
     "output_type": "stream",
     "text": [
      "C:\\Users\\18136\\Anaconda3\\lib\\site-packages\\urllib3\\connectionpool.py:847: InsecureRequestWarning: Unverified HTTPS request is being made. Adding certificate verification is strongly advised. See: https://urllib3.readthedocs.io/en/latest/advanced-usage.html#ssl-warnings\n",
      "  InsecureRequestWarning)\n"
     ]
    },
    {
     "name": "stdout",
     "output_type": "stream",
     "text": [
      "https://patents.google.com/patent/US9188760\n"
     ]
    },
    {
     "name": "stderr",
     "output_type": "stream",
     "text": [
      "C:\\Users\\18136\\Anaconda3\\lib\\site-packages\\urllib3\\connectionpool.py:847: InsecureRequestWarning: Unverified HTTPS request is being made. Adding certificate verification is strongly advised. See: https://urllib3.readthedocs.io/en/latest/advanced-usage.html#ssl-warnings\n",
      "  InsecureRequestWarning)\n"
     ]
    },
    {
     "name": "stdout",
     "output_type": "stream",
     "text": [
      "https://patents.google.com/patent/US9182563\n"
     ]
    },
    {
     "name": "stderr",
     "output_type": "stream",
     "text": [
      "C:\\Users\\18136\\Anaconda3\\lib\\site-packages\\urllib3\\connectionpool.py:847: InsecureRequestWarning: Unverified HTTPS request is being made. Adding certificate verification is strongly advised. See: https://urllib3.readthedocs.io/en/latest/advanced-usage.html#ssl-warnings\n",
      "  InsecureRequestWarning)\n"
     ]
    },
    {
     "name": "stdout",
     "output_type": "stream",
     "text": [
      "https://patents.google.com/patent/US9178636\n"
     ]
    },
    {
     "name": "stderr",
     "output_type": "stream",
     "text": [
      "C:\\Users\\18136\\Anaconda3\\lib\\site-packages\\urllib3\\connectionpool.py:847: InsecureRequestWarning: Unverified HTTPS request is being made. Adding certificate verification is strongly advised. See: https://urllib3.readthedocs.io/en/latest/advanced-usage.html#ssl-warnings\n",
      "  InsecureRequestWarning)\n"
     ]
    },
    {
     "name": "stdout",
     "output_type": "stream",
     "text": [
      "https://patents.google.com/patent/US9176285\n"
     ]
    },
    {
     "name": "stderr",
     "output_type": "stream",
     "text": [
      "C:\\Users\\18136\\Anaconda3\\lib\\site-packages\\urllib3\\connectionpool.py:847: InsecureRequestWarning: Unverified HTTPS request is being made. Adding certificate verification is strongly advised. See: https://urllib3.readthedocs.io/en/latest/advanced-usage.html#ssl-warnings\n",
      "  InsecureRequestWarning)\n"
     ]
    },
    {
     "name": "stdout",
     "output_type": "stream",
     "text": [
      "https://patents.google.com/patent/US9170391\n"
     ]
    },
    {
     "name": "stderr",
     "output_type": "stream",
     "text": [
      "C:\\Users\\18136\\Anaconda3\\lib\\site-packages\\urllib3\\connectionpool.py:847: InsecureRequestWarning: Unverified HTTPS request is being made. Adding certificate verification is strongly advised. See: https://urllib3.readthedocs.io/en/latest/advanced-usage.html#ssl-warnings\n",
      "  InsecureRequestWarning)\n"
     ]
    },
    {
     "name": "stdout",
     "output_type": "stream",
     "text": [
      "https://patents.google.com/patent/US9158074\n"
     ]
    },
    {
     "name": "stderr",
     "output_type": "stream",
     "text": [
      "C:\\Users\\18136\\Anaconda3\\lib\\site-packages\\urllib3\\connectionpool.py:847: InsecureRequestWarning: Unverified HTTPS request is being made. Adding certificate verification is strongly advised. See: https://urllib3.readthedocs.io/en/latest/advanced-usage.html#ssl-warnings\n",
      "  InsecureRequestWarning)\n"
     ]
    },
    {
     "name": "stdout",
     "output_type": "stream",
     "text": [
      "https://patents.google.com/patent/US9153913\n"
     ]
    },
    {
     "name": "stderr",
     "output_type": "stream",
     "text": [
      "C:\\Users\\18136\\Anaconda3\\lib\\site-packages\\urllib3\\connectionpool.py:847: InsecureRequestWarning: Unverified HTTPS request is being made. Adding certificate verification is strongly advised. See: https://urllib3.readthedocs.io/en/latest/advanced-usage.html#ssl-warnings\n",
      "  InsecureRequestWarning)\n"
     ]
    },
    {
     "name": "stdout",
     "output_type": "stream",
     "text": [
      "https://patents.google.com/patent/US9151904\n"
     ]
    },
    {
     "name": "stderr",
     "output_type": "stream",
     "text": [
      "C:\\Users\\18136\\Anaconda3\\lib\\site-packages\\urllib3\\connectionpool.py:847: InsecureRequestWarning: Unverified HTTPS request is being made. Adding certificate verification is strongly advised. See: https://urllib3.readthedocs.io/en/latest/advanced-usage.html#ssl-warnings\n",
      "  InsecureRequestWarning)\n"
     ]
    },
    {
     "name": "stdout",
     "output_type": "stream",
     "text": [
      "https://patents.google.com/patent/US9147983\n"
     ]
    },
    {
     "name": "stderr",
     "output_type": "stream",
     "text": [
      "C:\\Users\\18136\\Anaconda3\\lib\\site-packages\\urllib3\\connectionpool.py:847: InsecureRequestWarning: Unverified HTTPS request is being made. Adding certificate verification is strongly advised. See: https://urllib3.readthedocs.io/en/latest/advanced-usage.html#ssl-warnings\n",
      "  InsecureRequestWarning)\n"
     ]
    },
    {
     "name": "stdout",
     "output_type": "stream",
     "text": [
      "https://patents.google.com/patent/US9146376\n"
     ]
    },
    {
     "name": "stderr",
     "output_type": "stream",
     "text": [
      "C:\\Users\\18136\\Anaconda3\\lib\\site-packages\\urllib3\\connectionpool.py:847: InsecureRequestWarning: Unverified HTTPS request is being made. Adding certificate verification is strongly advised. See: https://urllib3.readthedocs.io/en/latest/advanced-usage.html#ssl-warnings\n",
      "  InsecureRequestWarning)\n"
     ]
    },
    {
     "name": "stdout",
     "output_type": "stream",
     "text": [
      "https://patents.google.com/patent/US9146375\n"
     ]
    },
    {
     "name": "stderr",
     "output_type": "stream",
     "text": [
      "C:\\Users\\18136\\Anaconda3\\lib\\site-packages\\urllib3\\connectionpool.py:847: InsecureRequestWarning: Unverified HTTPS request is being made. Adding certificate verification is strongly advised. See: https://urllib3.readthedocs.io/en/latest/advanced-usage.html#ssl-warnings\n",
      "  InsecureRequestWarning)\n"
     ]
    },
    {
     "name": "stdout",
     "output_type": "stream",
     "text": [
      "https://patents.google.com/patent/US9146374\n"
     ]
    },
    {
     "name": "stderr",
     "output_type": "stream",
     "text": [
      "C:\\Users\\18136\\Anaconda3\\lib\\site-packages\\urllib3\\connectionpool.py:847: InsecureRequestWarning: Unverified HTTPS request is being made. Adding certificate verification is strongly advised. See: https://urllib3.readthedocs.io/en/latest/advanced-usage.html#ssl-warnings\n",
      "  InsecureRequestWarning)\n"
     ]
    },
    {
     "name": "stdout",
     "output_type": "stream",
     "text": [
      "https://patents.google.com/patent/US9146373\n"
     ]
    },
    {
     "name": "stderr",
     "output_type": "stream",
     "text": [
      "C:\\Users\\18136\\Anaconda3\\lib\\site-packages\\urllib3\\connectionpool.py:847: InsecureRequestWarning: Unverified HTTPS request is being made. Adding certificate verification is strongly advised. See: https://urllib3.readthedocs.io/en/latest/advanced-usage.html#ssl-warnings\n",
      "  InsecureRequestWarning)\n"
     ]
    },
    {
     "name": "stdout",
     "output_type": "stream",
     "text": [
      "https://patents.google.com/patent/US9146371\n"
     ]
    },
    {
     "name": "stderr",
     "output_type": "stream",
     "text": [
      "C:\\Users\\18136\\Anaconda3\\lib\\site-packages\\urllib3\\connectionpool.py:847: InsecureRequestWarning: Unverified HTTPS request is being made. Adding certificate verification is strongly advised. See: https://urllib3.readthedocs.io/en/latest/advanced-usage.html#ssl-warnings\n",
      "  InsecureRequestWarning)\n"
     ]
    },
    {
     "name": "stdout",
     "output_type": "stream",
     "text": [
      "https://patents.google.com/patent/US9146362\n"
     ]
    },
    {
     "name": "stderr",
     "output_type": "stream",
     "text": [
      "C:\\Users\\18136\\Anaconda3\\lib\\site-packages\\urllib3\\connectionpool.py:847: InsecureRequestWarning: Unverified HTTPS request is being made. Adding certificate verification is strongly advised. See: https://urllib3.readthedocs.io/en/latest/advanced-usage.html#ssl-warnings\n",
      "  InsecureRequestWarning)\n"
     ]
    },
    {
     "name": "stdout",
     "output_type": "stream",
     "text": [
      "https://patents.google.com/patent/US9146352\n"
     ]
    },
    {
     "name": "stderr",
     "output_type": "stream",
     "text": [
      "C:\\Users\\18136\\Anaconda3\\lib\\site-packages\\urllib3\\connectionpool.py:847: InsecureRequestWarning: Unverified HTTPS request is being made. Adding certificate verification is strongly advised. See: https://urllib3.readthedocs.io/en/latest/advanced-usage.html#ssl-warnings\n",
      "  InsecureRequestWarning)\n"
     ]
    },
    {
     "name": "stdout",
     "output_type": "stream",
     "text": [
      "https://patents.google.com/patent/US9136967\n"
     ]
    },
    {
     "name": "stderr",
     "output_type": "stream",
     "text": [
      "C:\\Users\\18136\\Anaconda3\\lib\\site-packages\\urllib3\\connectionpool.py:847: InsecureRequestWarning: Unverified HTTPS request is being made. Adding certificate verification is strongly advised. See: https://urllib3.readthedocs.io/en/latest/advanced-usage.html#ssl-warnings\n",
      "  InsecureRequestWarning)\n"
     ]
    },
    {
     "name": "stdout",
     "output_type": "stream",
     "text": [
      "https://patents.google.com/patent/US9171209\n"
     ]
    },
    {
     "name": "stderr",
     "output_type": "stream",
     "text": [
      "C:\\Users\\18136\\Anaconda3\\lib\\site-packages\\urllib3\\connectionpool.py:847: InsecureRequestWarning: Unverified HTTPS request is being made. Adding certificate verification is strongly advised. See: https://urllib3.readthedocs.io/en/latest/advanced-usage.html#ssl-warnings\n",
      "  InsecureRequestWarning)\n"
     ]
    },
    {
     "name": "stdout",
     "output_type": "stream",
     "text": [
      "https://patents.google.com/patent/US9128262\n"
     ]
    },
    {
     "name": "stderr",
     "output_type": "stream",
     "text": [
      "C:\\Users\\18136\\Anaconda3\\lib\\site-packages\\urllib3\\connectionpool.py:847: InsecureRequestWarning: Unverified HTTPS request is being made. Adding certificate verification is strongly advised. See: https://urllib3.readthedocs.io/en/latest/advanced-usage.html#ssl-warnings\n",
      "  InsecureRequestWarning)\n"
     ]
    },
    {
     "name": "stdout",
     "output_type": "stream",
     "text": [
      "https://patents.google.com/patent/US9126802\n"
     ]
    },
    {
     "name": "stderr",
     "output_type": "stream",
     "text": [
      "C:\\Users\\18136\\Anaconda3\\lib\\site-packages\\urllib3\\connectionpool.py:847: InsecureRequestWarning: Unverified HTTPS request is being made. Adding certificate verification is strongly advised. See: https://urllib3.readthedocs.io/en/latest/advanced-usage.html#ssl-warnings\n",
      "  InsecureRequestWarning)\n"
     ]
    },
    {
     "name": "stdout",
     "output_type": "stream",
     "text": [
      "https://patents.google.com/patent/US9122034\n"
     ]
    },
    {
     "name": "stderr",
     "output_type": "stream",
     "text": [
      "C:\\Users\\18136\\Anaconda3\\lib\\site-packages\\urllib3\\connectionpool.py:847: InsecureRequestWarning: Unverified HTTPS request is being made. Adding certificate verification is strongly advised. See: https://urllib3.readthedocs.io/en/latest/advanced-usage.html#ssl-warnings\n",
      "  InsecureRequestWarning)\n"
     ]
    },
    {
     "name": "stdout",
     "output_type": "stream",
     "text": [
      "https://patents.google.com/patent/US9122019\n"
     ]
    },
    {
     "name": "stderr",
     "output_type": "stream",
     "text": [
      "C:\\Users\\18136\\Anaconda3\\lib\\site-packages\\urllib3\\connectionpool.py:847: InsecureRequestWarning: Unverified HTTPS request is being made. Adding certificate verification is strongly advised. See: https://urllib3.readthedocs.io/en/latest/advanced-usage.html#ssl-warnings\n",
      "  InsecureRequestWarning)\n"
     ]
    },
    {
     "name": "stdout",
     "output_type": "stream",
     "text": [
      "https://patents.google.com/patent/US9116310\n"
     ]
    },
    {
     "name": "stderr",
     "output_type": "stream",
     "text": [
      "C:\\Users\\18136\\Anaconda3\\lib\\site-packages\\urllib3\\connectionpool.py:847: InsecureRequestWarning: Unverified HTTPS request is being made. Adding certificate verification is strongly advised. See: https://urllib3.readthedocs.io/en/latest/advanced-usage.html#ssl-warnings\n",
      "  InsecureRequestWarning)\n"
     ]
    },
    {
     "name": "stdout",
     "output_type": "stream",
     "text": [
      "https://patents.google.com/patent/US9112547\n"
     ]
    },
    {
     "name": "stderr",
     "output_type": "stream",
     "text": [
      "C:\\Users\\18136\\Anaconda3\\lib\\site-packages\\urllib3\\connectionpool.py:847: InsecureRequestWarning: Unverified HTTPS request is being made. Adding certificate verification is strongly advised. See: https://urllib3.readthedocs.io/en/latest/advanced-usage.html#ssl-warnings\n",
      "  InsecureRequestWarning)\n"
     ]
    },
    {
     "name": "stdout",
     "output_type": "stream",
     "text": [
      "https://patents.google.com/patent/US9107086\n"
     ]
    },
    {
     "name": "stderr",
     "output_type": "stream",
     "text": [
      "C:\\Users\\18136\\Anaconda3\\lib\\site-packages\\urllib3\\connectionpool.py:847: InsecureRequestWarning: Unverified HTTPS request is being made. Adding certificate verification is strongly advised. See: https://urllib3.readthedocs.io/en/latest/advanced-usage.html#ssl-warnings\n",
      "  InsecureRequestWarning)\n"
     ]
    },
    {
     "name": "stdout",
     "output_type": "stream",
     "text": [
      "https://patents.google.com/patent/US9106064\n"
     ]
    },
    {
     "name": "stderr",
     "output_type": "stream",
     "text": [
      "C:\\Users\\18136\\Anaconda3\\lib\\site-packages\\urllib3\\connectionpool.py:847: InsecureRequestWarning: Unverified HTTPS request is being made. Adding certificate verification is strongly advised. See: https://urllib3.readthedocs.io/en/latest/advanced-usage.html#ssl-warnings\n",
      "  InsecureRequestWarning)\n"
     ]
    },
    {
     "name": "stdout",
     "output_type": "stream",
     "text": [
      "https://patents.google.com/patent/US9104005\n"
     ]
    },
    {
     "name": "stderr",
     "output_type": "stream",
     "text": [
      "C:\\Users\\18136\\Anaconda3\\lib\\site-packages\\urllib3\\connectionpool.py:847: InsecureRequestWarning: Unverified HTTPS request is being made. Adding certificate verification is strongly advised. See: https://urllib3.readthedocs.io/en/latest/advanced-usage.html#ssl-warnings\n",
      "  InsecureRequestWarning)\n"
     ]
    },
    {
     "name": "stdout",
     "output_type": "stream",
     "text": [
      "https://patents.google.com/patent/US9104004\n"
     ]
    },
    {
     "name": "stderr",
     "output_type": "stream",
     "text": [
      "C:\\Users\\18136\\Anaconda3\\lib\\site-packages\\urllib3\\connectionpool.py:847: InsecureRequestWarning: Unverified HTTPS request is being made. Adding certificate verification is strongly advised. See: https://urllib3.readthedocs.io/en/latest/advanced-usage.html#ssl-warnings\n",
      "  InsecureRequestWarning)\n"
     ]
    },
    {
     "name": "stdout",
     "output_type": "stream",
     "text": [
      "https://patents.google.com/patent/US9104001\n"
     ]
    },
    {
     "name": "stderr",
     "output_type": "stream",
     "text": [
      "C:\\Users\\18136\\Anaconda3\\lib\\site-packages\\urllib3\\connectionpool.py:847: InsecureRequestWarning: Unverified HTTPS request is being made. Adding certificate verification is strongly advised. See: https://urllib3.readthedocs.io/en/latest/advanced-usage.html#ssl-warnings\n",
      "  InsecureRequestWarning)\n"
     ]
    },
    {
     "name": "stdout",
     "output_type": "stream",
     "text": [
      "https://patents.google.com/patent/US9097871\n"
     ]
    },
    {
     "name": "stderr",
     "output_type": "stream",
     "text": [
      "C:\\Users\\18136\\Anaconda3\\lib\\site-packages\\urllib3\\connectionpool.py:847: InsecureRequestWarning: Unverified HTTPS request is being made. Adding certificate verification is strongly advised. See: https://urllib3.readthedocs.io/en/latest/advanced-usage.html#ssl-warnings\n",
      "  InsecureRequestWarning)\n"
     ]
    },
    {
     "name": "stdout",
     "output_type": "stream",
     "text": [
      "https://patents.google.com/patent/US9097870\n"
     ]
    },
    {
     "name": "stderr",
     "output_type": "stream",
     "text": [
      "C:\\Users\\18136\\Anaconda3\\lib\\site-packages\\urllib3\\connectionpool.py:847: InsecureRequestWarning: Unverified HTTPS request is being made. Adding certificate verification is strongly advised. See: https://urllib3.readthedocs.io/en/latest/advanced-usage.html#ssl-warnings\n",
      "  InsecureRequestWarning)\n"
     ]
    },
    {
     "name": "stdout",
     "output_type": "stream",
     "text": [
      "https://patents.google.com/patent/US9093796\n"
     ]
    },
    {
     "name": "stderr",
     "output_type": "stream",
     "text": [
      "C:\\Users\\18136\\Anaconda3\\lib\\site-packages\\urllib3\\connectionpool.py:847: InsecureRequestWarning: Unverified HTTPS request is being made. Adding certificate verification is strongly advised. See: https://urllib3.readthedocs.io/en/latest/advanced-usage.html#ssl-warnings\n",
      "  InsecureRequestWarning)\n"
     ]
    },
    {
     "name": "stdout",
     "output_type": "stream",
     "text": [
      "https://patents.google.com/patent/US9081537\n"
     ]
    },
    {
     "name": "stderr",
     "output_type": "stream",
     "text": [
      "C:\\Users\\18136\\Anaconda3\\lib\\site-packages\\urllib3\\connectionpool.py:847: InsecureRequestWarning: Unverified HTTPS request is being made. Adding certificate verification is strongly advised. See: https://urllib3.readthedocs.io/en/latest/advanced-usage.html#ssl-warnings\n",
      "  InsecureRequestWarning)\n"
     ]
    },
    {
     "name": "stdout",
     "output_type": "stream",
     "text": [
      "https://patents.google.com/patent/US9081164\n"
     ]
    },
    {
     "name": "stderr",
     "output_type": "stream",
     "text": [
      "C:\\Users\\18136\\Anaconda3\\lib\\site-packages\\urllib3\\connectionpool.py:847: InsecureRequestWarning: Unverified HTTPS request is being made. Adding certificate verification is strongly advised. See: https://urllib3.readthedocs.io/en/latest/advanced-usage.html#ssl-warnings\n",
      "  InsecureRequestWarning)\n"
     ]
    },
    {
     "name": "stdout",
     "output_type": "stream",
     "text": [
      "https://patents.google.com/patent/US9081154\n"
     ]
    },
    {
     "name": "stderr",
     "output_type": "stream",
     "text": [
      "C:\\Users\\18136\\Anaconda3\\lib\\site-packages\\urllib3\\connectionpool.py:847: InsecureRequestWarning: Unverified HTTPS request is being made. Adding certificate verification is strongly advised. See: https://urllib3.readthedocs.io/en/latest/advanced-usage.html#ssl-warnings\n",
      "  InsecureRequestWarning)\n"
     ]
    },
    {
     "name": "stdout",
     "output_type": "stream",
     "text": [
      "https://patents.google.com/patent/US9081152\n"
     ]
    },
    {
     "name": "stderr",
     "output_type": "stream",
     "text": [
      "C:\\Users\\18136\\Anaconda3\\lib\\site-packages\\urllib3\\connectionpool.py:847: InsecureRequestWarning: Unverified HTTPS request is being made. Adding certificate verification is strongly advised. See: https://urllib3.readthedocs.io/en/latest/advanced-usage.html#ssl-warnings\n",
      "  InsecureRequestWarning)\n"
     ]
    },
    {
     "name": "stdout",
     "output_type": "stream",
     "text": [
      "https://patents.google.com/patent/US9079370\n"
     ]
    },
    {
     "name": "stderr",
     "output_type": "stream",
     "text": [
      "C:\\Users\\18136\\Anaconda3\\lib\\site-packages\\urllib3\\connectionpool.py:847: InsecureRequestWarning: Unverified HTTPS request is being made. Adding certificate verification is strongly advised. See: https://urllib3.readthedocs.io/en/latest/advanced-usage.html#ssl-warnings\n",
      "  InsecureRequestWarning)\n"
     ]
    },
    {
     "name": "stdout",
     "output_type": "stream",
     "text": [
      "https://patents.google.com/patent/US9078287\n"
     ]
    },
    {
     "name": "stderr",
     "output_type": "stream",
     "text": [
      "C:\\Users\\18136\\Anaconda3\\lib\\site-packages\\urllib3\\connectionpool.py:847: InsecureRequestWarning: Unverified HTTPS request is being made. Adding certificate verification is strongly advised. See: https://urllib3.readthedocs.io/en/latest/advanced-usage.html#ssl-warnings\n",
      "  InsecureRequestWarning)\n"
     ]
    },
    {
     "name": "stdout",
     "output_type": "stream",
     "text": [
      "https://patents.google.com/patent/US9075205\n"
     ]
    },
    {
     "name": "stderr",
     "output_type": "stream",
     "text": [
      "C:\\Users\\18136\\Anaconda3\\lib\\site-packages\\urllib3\\connectionpool.py:847: InsecureRequestWarning: Unverified HTTPS request is being made. Adding certificate verification is strongly advised. See: https://urllib3.readthedocs.io/en/latest/advanced-usage.html#ssl-warnings\n",
      "  InsecureRequestWarning)\n"
     ]
    },
    {
     "name": "stdout",
     "output_type": "stream",
     "text": [
      "https://patents.google.com/patent/US9075203\n"
     ]
    },
    {
     "name": "stderr",
     "output_type": "stream",
     "text": [
      "C:\\Users\\18136\\Anaconda3\\lib\\site-packages\\urllib3\\connectionpool.py:847: InsecureRequestWarning: Unverified HTTPS request is being made. Adding certificate verification is strongly advised. See: https://urllib3.readthedocs.io/en/latest/advanced-usage.html#ssl-warnings\n",
      "  InsecureRequestWarning)\n"
     ]
    },
    {
     "name": "stdout",
     "output_type": "stream",
     "text": [
      "https://patents.google.com/patent/US9071041\n"
     ]
    },
    {
     "name": "stderr",
     "output_type": "stream",
     "text": [
      "C:\\Users\\18136\\Anaconda3\\lib\\site-packages\\urllib3\\connectionpool.py:847: InsecureRequestWarning: Unverified HTTPS request is being made. Adding certificate verification is strongly advised. See: https://urllib3.readthedocs.io/en/latest/advanced-usage.html#ssl-warnings\n",
      "  InsecureRequestWarning)\n"
     ]
    },
    {
     "name": "stdout",
     "output_type": "stream",
     "text": [
      "https://patents.google.com/patent/US9069150\n"
     ]
    },
    {
     "name": "stderr",
     "output_type": "stream",
     "text": [
      "C:\\Users\\18136\\Anaconda3\\lib\\site-packages\\urllib3\\connectionpool.py:847: InsecureRequestWarning: Unverified HTTPS request is being made. Adding certificate verification is strongly advised. See: https://urllib3.readthedocs.io/en/latest/advanced-usage.html#ssl-warnings\n",
      "  InsecureRequestWarning)\n"
     ]
    },
    {
     "name": "stdout",
     "output_type": "stream",
     "text": [
      "https://patents.google.com/patent/US9065223\n"
     ]
    },
    {
     "name": "stderr",
     "output_type": "stream",
     "text": [
      "C:\\Users\\18136\\Anaconda3\\lib\\site-packages\\urllib3\\connectionpool.py:847: InsecureRequestWarning: Unverified HTTPS request is being made. Adding certificate verification is strongly advised. See: https://urllib3.readthedocs.io/en/latest/advanced-usage.html#ssl-warnings\n",
      "  InsecureRequestWarning)\n"
     ]
    },
    {
     "name": "stdout",
     "output_type": "stream",
     "text": [
      "https://patents.google.com/patent/US9064022\n"
     ]
    },
    {
     "name": "stderr",
     "output_type": "stream",
     "text": [
      "C:\\Users\\18136\\Anaconda3\\lib\\site-packages\\urllib3\\connectionpool.py:847: InsecureRequestWarning: Unverified HTTPS request is being made. Adding certificate verification is strongly advised. See: https://urllib3.readthedocs.io/en/latest/advanced-usage.html#ssl-warnings\n",
      "  InsecureRequestWarning)\n"
     ]
    },
    {
     "name": "stdout",
     "output_type": "stream",
     "text": [
      "https://patents.google.com/patent/US9063316\n"
     ]
    },
    {
     "name": "stderr",
     "output_type": "stream",
     "text": [
      "C:\\Users\\18136\\Anaconda3\\lib\\site-packages\\urllib3\\connectionpool.py:847: InsecureRequestWarning: Unverified HTTPS request is being made. Adding certificate verification is strongly advised. See: https://urllib3.readthedocs.io/en/latest/advanced-usage.html#ssl-warnings\n",
      "  InsecureRequestWarning)\n"
     ]
    },
    {
     "name": "stdout",
     "output_type": "stream",
     "text": [
      "https://patents.google.com/patent/US9063298\n"
     ]
    },
    {
     "name": "stderr",
     "output_type": "stream",
     "text": [
      "C:\\Users\\18136\\Anaconda3\\lib\\site-packages\\urllib3\\connectionpool.py:847: InsecureRequestWarning: Unverified HTTPS request is being made. Adding certificate verification is strongly advised. See: https://urllib3.readthedocs.io/en/latest/advanced-usage.html#ssl-warnings\n",
      "  InsecureRequestWarning)\n"
     ]
    },
    {
     "name": "stdout",
     "output_type": "stream",
     "text": [
      "https://patents.google.com/patent/US9057860\n"
     ]
    },
    {
     "name": "stderr",
     "output_type": "stream",
     "text": [
      "C:\\Users\\18136\\Anaconda3\\lib\\site-packages\\urllib3\\connectionpool.py:847: InsecureRequestWarning: Unverified HTTPS request is being made. Adding certificate verification is strongly advised. See: https://urllib3.readthedocs.io/en/latest/advanced-usage.html#ssl-warnings\n",
      "  InsecureRequestWarning)\n"
     ]
    },
    {
     "name": "stdout",
     "output_type": "stream",
     "text": [
      "https://patents.google.com/patent/US9057859\n"
     ]
    },
    {
     "name": "stderr",
     "output_type": "stream",
     "text": [
      "C:\\Users\\18136\\Anaconda3\\lib\\site-packages\\urllib3\\connectionpool.py:847: InsecureRequestWarning: Unverified HTTPS request is being made. Adding certificate verification is strongly advised. See: https://urllib3.readthedocs.io/en/latest/advanced-usage.html#ssl-warnings\n",
      "  InsecureRequestWarning)\n"
     ]
    },
    {
     "name": "stdout",
     "output_type": "stream",
     "text": [
      "https://patents.google.com/patent/US9054440\n"
     ]
    },
    {
     "name": "stderr",
     "output_type": "stream",
     "text": [
      "C:\\Users\\18136\\Anaconda3\\lib\\site-packages\\urllib3\\connectionpool.py:847: InsecureRequestWarning: Unverified HTTPS request is being made. Adding certificate verification is strongly advised. See: https://urllib3.readthedocs.io/en/latest/advanced-usage.html#ssl-warnings\n",
      "  InsecureRequestWarning)\n"
     ]
    },
    {
     "name": "stdout",
     "output_type": "stream",
     "text": [
      "https://patents.google.com/patent/US9046658\n"
     ]
    },
    {
     "name": "stderr",
     "output_type": "stream",
     "text": [
      "C:\\Users\\18136\\Anaconda3\\lib\\site-packages\\urllib3\\connectionpool.py:847: InsecureRequestWarning: Unverified HTTPS request is being made. Adding certificate verification is strongly advised. See: https://urllib3.readthedocs.io/en/latest/advanced-usage.html#ssl-warnings\n",
      "  InsecureRequestWarning)\n"
     ]
    },
    {
     "name": "stdout",
     "output_type": "stream",
     "text": [
      "https://patents.google.com/patent/US9042700\n"
     ]
    },
    {
     "name": "stderr",
     "output_type": "stream",
     "text": [
      "C:\\Users\\18136\\Anaconda3\\lib\\site-packages\\urllib3\\connectionpool.py:847: InsecureRequestWarning: Unverified HTTPS request is being made. Adding certificate verification is strongly advised. See: https://urllib3.readthedocs.io/en/latest/advanced-usage.html#ssl-warnings\n",
      "  InsecureRequestWarning)\n"
     ]
    },
    {
     "name": "stdout",
     "output_type": "stream",
     "text": [
      "https://patents.google.com/patent/US9038141\n"
     ]
    },
    {
     "name": "stderr",
     "output_type": "stream",
     "text": [
      "C:\\Users\\18136\\Anaconda3\\lib\\site-packages\\urllib3\\connectionpool.py:847: InsecureRequestWarning: Unverified HTTPS request is being made. Adding certificate verification is strongly advised. See: https://urllib3.readthedocs.io/en/latest/advanced-usage.html#ssl-warnings\n",
      "  InsecureRequestWarning)\n"
     ]
    },
    {
     "name": "stdout",
     "output_type": "stream",
     "text": [
      "https://patents.google.com/patent/US9036975\n"
     ]
    },
    {
     "name": "stderr",
     "output_type": "stream",
     "text": [
      "C:\\Users\\18136\\Anaconda3\\lib\\site-packages\\urllib3\\connectionpool.py:847: InsecureRequestWarning: Unverified HTTPS request is being made. Adding certificate verification is strongly advised. See: https://urllib3.readthedocs.io/en/latest/advanced-usage.html#ssl-warnings\n",
      "  InsecureRequestWarning)\n"
     ]
    },
    {
     "name": "stdout",
     "output_type": "stream",
     "text": [
      "https://patents.google.com/patent/US9036974\n"
     ]
    },
    {
     "name": "stderr",
     "output_type": "stream",
     "text": [
      "C:\\Users\\18136\\Anaconda3\\lib\\site-packages\\urllib3\\connectionpool.py:847: InsecureRequestWarning: Unverified HTTPS request is being made. Adding certificate verification is strongly advised. See: https://urllib3.readthedocs.io/en/latest/advanced-usage.html#ssl-warnings\n",
      "  InsecureRequestWarning)\n"
     ]
    },
    {
     "name": "stdout",
     "output_type": "stream",
     "text": [
      "https://patents.google.com/patent/US9033728\n"
     ]
    },
    {
     "name": "stderr",
     "output_type": "stream",
     "text": [
      "C:\\Users\\18136\\Anaconda3\\lib\\site-packages\\urllib3\\connectionpool.py:847: InsecureRequestWarning: Unverified HTTPS request is being made. Adding certificate verification is strongly advised. See: https://urllib3.readthedocs.io/en/latest/advanced-usage.html#ssl-warnings\n",
      "  InsecureRequestWarning)\n"
     ]
    },
    {
     "name": "stdout",
     "output_type": "stream",
     "text": [
      "https://patents.google.com/patent/US9020319\n"
     ]
    },
    {
     "name": "stderr",
     "output_type": "stream",
     "text": [
      "C:\\Users\\18136\\Anaconda3\\lib\\site-packages\\urllib3\\connectionpool.py:847: InsecureRequestWarning: Unverified HTTPS request is being made. Adding certificate verification is strongly advised. See: https://urllib3.readthedocs.io/en/latest/advanced-usage.html#ssl-warnings\n",
      "  InsecureRequestWarning)\n"
     ]
    },
    {
     "name": "stdout",
     "output_type": "stream",
     "text": [
      "https://patents.google.com/patent/US9016953\n"
     ]
    },
    {
     "name": "stderr",
     "output_type": "stream",
     "text": [
      "C:\\Users\\18136\\Anaconda3\\lib\\site-packages\\urllib3\\connectionpool.py:847: InsecureRequestWarning: Unverified HTTPS request is being made. Adding certificate verification is strongly advised. See: https://urllib3.readthedocs.io/en/latest/advanced-usage.html#ssl-warnings\n",
      "  InsecureRequestWarning)\n"
     ]
    },
    {
     "name": "stdout",
     "output_type": "stream",
     "text": [
      "https://patents.google.com/patent/US9014527\n"
     ]
    },
    {
     "name": "stderr",
     "output_type": "stream",
     "text": [
      "C:\\Users\\18136\\Anaconda3\\lib\\site-packages\\urllib3\\connectionpool.py:847: InsecureRequestWarning: Unverified HTTPS request is being made. Adding certificate verification is strongly advised. See: https://urllib3.readthedocs.io/en/latest/advanced-usage.html#ssl-warnings\n",
      "  InsecureRequestWarning)\n"
     ]
    },
    {
     "name": "stdout",
     "output_type": "stream",
     "text": [
      "https://patents.google.com/patent/US9013982\n"
     ]
    },
    {
     "name": "stderr",
     "output_type": "stream",
     "text": [
      "C:\\Users\\18136\\Anaconda3\\lib\\site-packages\\urllib3\\connectionpool.py:847: InsecureRequestWarning: Unverified HTTPS request is being made. Adding certificate verification is strongly advised. See: https://urllib3.readthedocs.io/en/latest/advanced-usage.html#ssl-warnings\n",
      "  InsecureRequestWarning)\n"
     ]
    },
    {
     "name": "stdout",
     "output_type": "stream",
     "text": [
      "https://patents.google.com/patent/US9002166\n"
     ]
    },
    {
     "name": "stderr",
     "output_type": "stream",
     "text": [
      "C:\\Users\\18136\\Anaconda3\\lib\\site-packages\\urllib3\\connectionpool.py:847: InsecureRequestWarning: Unverified HTTPS request is being made. Adding certificate verification is strongly advised. See: https://urllib3.readthedocs.io/en/latest/advanced-usage.html#ssl-warnings\n",
      "  InsecureRequestWarning)\n"
     ]
    },
    {
     "name": "stdout",
     "output_type": "stream",
     "text": [
      "https://patents.google.com/patent/US9001811\n"
     ]
    },
    {
     "name": "stderr",
     "output_type": "stream",
     "text": [
      "C:\\Users\\18136\\Anaconda3\\lib\\site-packages\\urllib3\\connectionpool.py:847: InsecureRequestWarning: Unverified HTTPS request is being made. Adding certificate verification is strongly advised. See: https://urllib3.readthedocs.io/en/latest/advanced-usage.html#ssl-warnings\n",
      "  InsecureRequestWarning)\n"
     ]
    },
    {
     "name": "stdout",
     "output_type": "stream",
     "text": [
      "https://patents.google.com/patent/US8995136\n"
     ]
    },
    {
     "name": "stderr",
     "output_type": "stream",
     "text": [
      "C:\\Users\\18136\\Anaconda3\\lib\\site-packages\\urllib3\\connectionpool.py:847: InsecureRequestWarning: Unverified HTTPS request is being made. Adding certificate verification is strongly advised. See: https://urllib3.readthedocs.io/en/latest/advanced-usage.html#ssl-warnings\n",
      "  InsecureRequestWarning)\n"
     ]
    },
    {
     "name": "stdout",
     "output_type": "stream",
     "text": [
      "https://patents.google.com/patent/US8992261\n"
     ]
    },
    {
     "name": "stderr",
     "output_type": "stream",
     "text": [
      "C:\\Users\\18136\\Anaconda3\\lib\\site-packages\\urllib3\\connectionpool.py:847: InsecureRequestWarning: Unverified HTTPS request is being made. Adding certificate verification is strongly advised. See: https://urllib3.readthedocs.io/en/latest/advanced-usage.html#ssl-warnings\n",
      "  InsecureRequestWarning)\n"
     ]
    },
    {
     "name": "stdout",
     "output_type": "stream",
     "text": [
      "https://patents.google.com/patent/US8992260\n"
     ]
    },
    {
     "name": "stderr",
     "output_type": "stream",
     "text": [
      "C:\\Users\\18136\\Anaconda3\\lib\\site-packages\\urllib3\\connectionpool.py:847: InsecureRequestWarning: Unverified HTTPS request is being made. Adding certificate verification is strongly advised. See: https://urllib3.readthedocs.io/en/latest/advanced-usage.html#ssl-warnings\n",
      "  InsecureRequestWarning)\n"
     ]
    },
    {
     "name": "stdout",
     "output_type": "stream",
     "text": [
      "https://patents.google.com/patent/US8992095\n"
     ]
    },
    {
     "name": "stderr",
     "output_type": "stream",
     "text": [
      "C:\\Users\\18136\\Anaconda3\\lib\\site-packages\\urllib3\\connectionpool.py:847: InsecureRequestWarning: Unverified HTTPS request is being made. Adding certificate verification is strongly advised. See: https://urllib3.readthedocs.io/en/latest/advanced-usage.html#ssl-warnings\n",
      "  InsecureRequestWarning)\n"
     ]
    },
    {
     "name": "stdout",
     "output_type": "stream",
     "text": [
      "https://patents.google.com/patent/US8991623\n"
     ]
    },
    {
     "name": "stderr",
     "output_type": "stream",
     "text": [
      "C:\\Users\\18136\\Anaconda3\\lib\\site-packages\\urllib3\\connectionpool.py:847: InsecureRequestWarning: Unverified HTTPS request is being made. Adding certificate verification is strongly advised. See: https://urllib3.readthedocs.io/en/latest/advanced-usage.html#ssl-warnings\n",
      "  InsecureRequestWarning)\n"
     ]
    },
    {
     "name": "stdout",
     "output_type": "stream",
     "text": [
      "https://patents.google.com/patent/US8989541\n"
     ]
    },
    {
     "name": "stderr",
     "output_type": "stream",
     "text": [
      "C:\\Users\\18136\\Anaconda3\\lib\\site-packages\\urllib3\\connectionpool.py:847: InsecureRequestWarning: Unverified HTTPS request is being made. Adding certificate verification is strongly advised. See: https://urllib3.readthedocs.io/en/latest/advanced-usage.html#ssl-warnings\n",
      "  InsecureRequestWarning)\n"
     ]
    },
    {
     "name": "stdout",
     "output_type": "stream",
     "text": [
      "https://patents.google.com/patent/US8985867\n"
     ]
    },
    {
     "name": "stderr",
     "output_type": "stream",
     "text": [
      "C:\\Users\\18136\\Anaconda3\\lib\\site-packages\\urllib3\\connectionpool.py:847: InsecureRequestWarning: Unverified HTTPS request is being made. Adding certificate verification is strongly advised. See: https://urllib3.readthedocs.io/en/latest/advanced-usage.html#ssl-warnings\n",
      "  InsecureRequestWarning)\n"
     ]
    },
    {
     "name": "stdout",
     "output_type": "stream",
     "text": [
      "https://patents.google.com/patent/US8985864\n"
     ]
    },
    {
     "name": "stderr",
     "output_type": "stream",
     "text": [
      "C:\\Users\\18136\\Anaconda3\\lib\\site-packages\\urllib3\\connectionpool.py:847: InsecureRequestWarning: Unverified HTTPS request is being made. Adding certificate verification is strongly advised. See: https://urllib3.readthedocs.io/en/latest/advanced-usage.html#ssl-warnings\n",
      "  InsecureRequestWarning)\n"
     ]
    },
    {
     "name": "stdout",
     "output_type": "stream",
     "text": [
      "https://patents.google.com/patent/US8982715\n"
     ]
    },
    {
     "name": "stderr",
     "output_type": "stream",
     "text": [
      "C:\\Users\\18136\\Anaconda3\\lib\\site-packages\\urllib3\\connectionpool.py:847: InsecureRequestWarning: Unverified HTTPS request is being made. Adding certificate verification is strongly advised. See: https://urllib3.readthedocs.io/en/latest/advanced-usage.html#ssl-warnings\n",
      "  InsecureRequestWarning)\n"
     ]
    },
    {
     "name": "stdout",
     "output_type": "stream",
     "text": [
      "https://patents.google.com/patent/US8979578\n"
     ]
    },
    {
     "name": "stderr",
     "output_type": "stream",
     "text": [
      "C:\\Users\\18136\\Anaconda3\\lib\\site-packages\\urllib3\\connectionpool.py:847: InsecureRequestWarning: Unverified HTTPS request is being made. Adding certificate verification is strongly advised. See: https://urllib3.readthedocs.io/en/latest/advanced-usage.html#ssl-warnings\n",
      "  InsecureRequestWarning)\n"
     ]
    },
    {
     "name": "stdout",
     "output_type": "stream",
     "text": [
      "https://patents.google.com/patent/US8979395\n"
     ]
    },
    {
     "name": "stderr",
     "output_type": "stream",
     "text": [
      "C:\\Users\\18136\\Anaconda3\\lib\\site-packages\\urllib3\\connectionpool.py:847: InsecureRequestWarning: Unverified HTTPS request is being made. Adding certificate verification is strongly advised. See: https://urllib3.readthedocs.io/en/latest/advanced-usage.html#ssl-warnings\n",
      "  InsecureRequestWarning)\n"
     ]
    },
    {
     "name": "stdout",
     "output_type": "stream",
     "text": [
      "https://patents.google.com/patent/US8976067\n"
     ]
    },
    {
     "name": "stderr",
     "output_type": "stream",
     "text": [
      "C:\\Users\\18136\\Anaconda3\\lib\\site-packages\\urllib3\\connectionpool.py:847: InsecureRequestWarning: Unverified HTTPS request is being made. Adding certificate verification is strongly advised. See: https://urllib3.readthedocs.io/en/latest/advanced-usage.html#ssl-warnings\n",
      "  InsecureRequestWarning)\n"
     ]
    },
    {
     "name": "stdout",
     "output_type": "stream",
     "text": [
      "https://patents.google.com/patent/US9008130\n"
     ]
    },
    {
     "name": "stderr",
     "output_type": "stream",
     "text": [
      "C:\\Users\\18136\\Anaconda3\\lib\\site-packages\\urllib3\\connectionpool.py:847: InsecureRequestWarning: Unverified HTTPS request is being made. Adding certificate verification is strongly advised. See: https://urllib3.readthedocs.io/en/latest/advanced-usage.html#ssl-warnings\n",
      "  InsecureRequestWarning)\n"
     ]
    },
    {
     "name": "stdout",
     "output_type": "stream",
     "text": [
      "https://patents.google.com/patent/US8982913\n"
     ]
    },
    {
     "name": "stderr",
     "output_type": "stream",
     "text": [
      "C:\\Users\\18136\\Anaconda3\\lib\\site-packages\\urllib3\\connectionpool.py:847: InsecureRequestWarning: Unverified HTTPS request is being made. Adding certificate verification is strongly advised. See: https://urllib3.readthedocs.io/en/latest/advanced-usage.html#ssl-warnings\n",
      "  InsecureRequestWarning)\n"
     ]
    },
    {
     "name": "stdout",
     "output_type": "stream",
     "text": [
      "https://patents.google.com/patent/US8985861\n"
     ]
    },
    {
     "name": "stderr",
     "output_type": "stream",
     "text": [
      "C:\\Users\\18136\\Anaconda3\\lib\\site-packages\\urllib3\\connectionpool.py:847: InsecureRequestWarning: Unverified HTTPS request is being made. Adding certificate verification is strongly advised. See: https://urllib3.readthedocs.io/en/latest/advanced-usage.html#ssl-warnings\n",
      "  InsecureRequestWarning)\n"
     ]
    },
    {
     "name": "stdout",
     "output_type": "stream",
     "text": [
      "https://patents.google.com/patent/US8965169\n"
     ]
    },
    {
     "name": "stderr",
     "output_type": "stream",
     "text": [
      "C:\\Users\\18136\\Anaconda3\\lib\\site-packages\\urllib3\\connectionpool.py:847: InsecureRequestWarning: Unverified HTTPS request is being made. Adding certificate verification is strongly advised. See: https://urllib3.readthedocs.io/en/latest/advanced-usage.html#ssl-warnings\n",
      "  InsecureRequestWarning)\n"
     ]
    },
    {
     "name": "stdout",
     "output_type": "stream",
     "text": [
      "https://patents.google.com/patent/US8965167\n"
     ]
    },
    {
     "name": "stderr",
     "output_type": "stream",
     "text": [
      "C:\\Users\\18136\\Anaconda3\\lib\\site-packages\\urllib3\\connectionpool.py:847: InsecureRequestWarning: Unverified HTTPS request is being made. Adding certificate verification is strongly advised. See: https://urllib3.readthedocs.io/en/latest/advanced-usage.html#ssl-warnings\n",
      "  InsecureRequestWarning)\n"
     ]
    },
    {
     "name": "stdout",
     "output_type": "stream",
     "text": [
      "https://patents.google.com/patent/US8961035\n"
     ]
    },
    {
     "name": "stderr",
     "output_type": "stream",
     "text": [
      "C:\\Users\\18136\\Anaconda3\\lib\\site-packages\\urllib3\\connectionpool.py:847: InsecureRequestWarning: Unverified HTTPS request is being made. Adding certificate verification is strongly advised. See: https://urllib3.readthedocs.io/en/latest/advanced-usage.html#ssl-warnings\n",
      "  InsecureRequestWarning)\n"
     ]
    },
    {
     "name": "stdout",
     "output_type": "stream",
     "text": [
      "https://patents.google.com/patent/US8958789\n"
     ]
    },
    {
     "name": "stderr",
     "output_type": "stream",
     "text": [
      "C:\\Users\\18136\\Anaconda3\\lib\\site-packages\\urllib3\\connectionpool.py:847: InsecureRequestWarning: Unverified HTTPS request is being made. Adding certificate verification is strongly advised. See: https://urllib3.readthedocs.io/en/latest/advanced-usage.html#ssl-warnings\n",
      "  InsecureRequestWarning)\n"
     ]
    },
    {
     "name": "stdout",
     "output_type": "stream",
     "text": [
      "https://patents.google.com/patent/US8958410\n"
     ]
    },
    {
     "name": "stderr",
     "output_type": "stream",
     "text": [
      "C:\\Users\\18136\\Anaconda3\\lib\\site-packages\\urllib3\\connectionpool.py:847: InsecureRequestWarning: Unverified HTTPS request is being made. Adding certificate verification is strongly advised. See: https://urllib3.readthedocs.io/en/latest/advanced-usage.html#ssl-warnings\n",
      "  InsecureRequestWarning)\n"
     ]
    },
    {
     "name": "stdout",
     "output_type": "stream",
     "text": [
      "https://patents.google.com/patent/US8953921\n"
     ]
    },
    {
     "name": "stderr",
     "output_type": "stream",
     "text": [
      "C:\\Users\\18136\\Anaconda3\\lib\\site-packages\\urllib3\\connectionpool.py:847: InsecureRequestWarning: Unverified HTTPS request is being made. Adding certificate verification is strongly advised. See: https://urllib3.readthedocs.io/en/latest/advanced-usage.html#ssl-warnings\n",
      "  InsecureRequestWarning)\n"
     ]
    },
    {
     "name": "stdout",
     "output_type": "stream",
     "text": [
      "https://patents.google.com/patent/US8950051\n"
     ]
    },
    {
     "name": "stderr",
     "output_type": "stream",
     "text": [
      "C:\\Users\\18136\\Anaconda3\\lib\\site-packages\\urllib3\\connectionpool.py:847: InsecureRequestWarning: Unverified HTTPS request is being made. Adding certificate verification is strongly advised. See: https://urllib3.readthedocs.io/en/latest/advanced-usage.html#ssl-warnings\n",
      "  InsecureRequestWarning)\n"
     ]
    },
    {
     "name": "stdout",
     "output_type": "stream",
     "text": [
      "https://patents.google.com/patent/US8949496\n"
     ]
    },
    {
     "name": "stderr",
     "output_type": "stream",
     "text": [
      "C:\\Users\\18136\\Anaconda3\\lib\\site-packages\\urllib3\\connectionpool.py:847: InsecureRequestWarning: Unverified HTTPS request is being made. Adding certificate verification is strongly advised. See: https://urllib3.readthedocs.io/en/latest/advanced-usage.html#ssl-warnings\n",
      "  InsecureRequestWarning)\n"
     ]
    },
    {
     "name": "stdout",
     "output_type": "stream",
     "text": [
      "https://patents.google.com/patent/US8948816\n"
     ]
    },
    {
     "name": "stderr",
     "output_type": "stream",
     "text": [
      "C:\\Users\\18136\\Anaconda3\\lib\\site-packages\\urllib3\\connectionpool.py:847: InsecureRequestWarning: Unverified HTTPS request is being made. Adding certificate verification is strongly advised. See: https://urllib3.readthedocs.io/en/latest/advanced-usage.html#ssl-warnings\n",
      "  InsecureRequestWarning)\n"
     ]
    },
    {
     "name": "stdout",
     "output_type": "stream",
     "text": [
      "https://patents.google.com/patent/US8948155\n"
     ]
    },
    {
     "name": "stderr",
     "output_type": "stream",
     "text": [
      "C:\\Users\\18136\\Anaconda3\\lib\\site-packages\\urllib3\\connectionpool.py:847: InsecureRequestWarning: Unverified HTTPS request is being made. Adding certificate verification is strongly advised. See: https://urllib3.readthedocs.io/en/latest/advanced-usage.html#ssl-warnings\n",
      "  InsecureRequestWarning)\n"
     ]
    },
    {
     "name": "stdout",
     "output_type": "stream",
     "text": [
      "https://patents.google.com/patent/US8944856\n"
     ]
    },
    {
     "name": "stderr",
     "output_type": "stream",
     "text": [
      "C:\\Users\\18136\\Anaconda3\\lib\\site-packages\\urllib3\\connectionpool.py:847: InsecureRequestWarning: Unverified HTTPS request is being made. Adding certificate verification is strongly advised. See: https://urllib3.readthedocs.io/en/latest/advanced-usage.html#ssl-warnings\n",
      "  InsecureRequestWarning)\n"
     ]
    },
    {
     "name": "stdout",
     "output_type": "stream",
     "text": [
      "https://patents.google.com/patent/US8944702\n"
     ]
    },
    {
     "name": "stderr",
     "output_type": "stream",
     "text": [
      "C:\\Users\\18136\\Anaconda3\\lib\\site-packages\\urllib3\\connectionpool.py:847: InsecureRequestWarning: Unverified HTTPS request is being made. Adding certificate verification is strongly advised. See: https://urllib3.readthedocs.io/en/latest/advanced-usage.html#ssl-warnings\n",
      "  InsecureRequestWarning)\n"
     ]
    }
   ],
   "source": [
    "col_list=['publicationNumber','examinerCited','priorityDate','publicationDate']\n",
    "j=0\n",
    "for item in list_of_patents:\n",
    "    url=\"https://patents.google.com/patent/\"+item\n",
    "    print(url)\n",
    "    r = requests.get(url,verify=False)\n",
    "    soup=BeautifulSoup(r.content,'html')\n",
    "    \n",
    "    pub_no=para.find('span',itemprop='publicationNumber').get_text()\n",
    "    examinerCited=para.find('span',itemprop='examinerCited').get_text()\n",
    "    priority_Date=para.find(itemprop='priorityDate').get_text()\n",
    "    publicationDate=para.find(itemprop='publicationDate').get_text()\n",
    "    results.append([item,pub_no,examinerCited,priority_Date,publicationDate,])\n",
    "    \n",
    "#     scraped_data[[j],['Patent_No']]=item\n",
    "#     scraped_data[[j],['publicationNumber']]=pub_no\n",
    "#     scraped_data[[j],['examinerCited']]=examinerCited\n",
    "#     scraped_data[[j],['priorityDate']]=priorityDate\n",
    "#     scraped_data[[j],['publicationDate']]=publicationDate\n",
    "#     j=j+1\n",
    "\n",
    "\n"
   ]
  },
  {
   "cell_type": "code",
   "execution_count": 97,
   "metadata": {},
   "outputs": [
    {
     "data": {
      "text/plain": [
       "[['US9594217', 'US3894008A', '*', '1974-05-31', '1975-07-08'],\n",
       " ['US9310577', 'US3894008A', '*', '1974-05-31', '1975-07-08'],\n",
       " ['US9261663', 'US3894008A', '*', '1974-05-31', '1975-07-08'],\n",
       " ['US9239442', 'US3894008A', '*', '1974-05-31', '1975-07-08'],\n",
       " ['US9219520', 'US3894008A', '*', '1974-05-31', '1975-07-08'],\n",
       " ['US9214759', 'US3894008A', '*', '1974-05-31', '1975-07-08'],\n",
       " ['US9210049', 'US3894008A', '*', '1974-05-31', '1975-07-08'],\n",
       " ['US9207417', 'US3894008A', '*', '1974-05-31', '1975-07-08'],\n",
       " ['US9195021', 'US3894008A', '*', '1974-05-31', '1975-07-08'],\n",
       " ['US9191993', 'US3894008A', '*', '1974-05-31', '1975-07-08'],\n",
       " ['US9191912', 'US3894008A', '*', '1974-05-31', '1975-07-08'],\n",
       " ['US9188760', 'US3894008A', '*', '1974-05-31', '1975-07-08'],\n",
       " ['US9182563', 'US3894008A', '*', '1974-05-31', '1975-07-08'],\n",
       " ['US9178636', 'US3894008A', '*', '1974-05-31', '1975-07-08'],\n",
       " ['US9176285', 'US3894008A', '*', '1974-05-31', '1975-07-08'],\n",
       " ['US9170391', 'US3894008A', '*', '1974-05-31', '1975-07-08'],\n",
       " ['US9158074', 'US3894008A', '*', '1974-05-31', '1975-07-08'],\n",
       " ['US9153913', 'US3894008A', '*', '1974-05-31', '1975-07-08'],\n",
       " ['US9151904', 'US3894008A', '*', '1974-05-31', '1975-07-08'],\n",
       " ['US9147983', 'US3894008A', '*', '1974-05-31', '1975-07-08'],\n",
       " ['US9146376', 'US3894008A', '*', '1974-05-31', '1975-07-08'],\n",
       " ['US9146375', 'US3894008A', '*', '1974-05-31', '1975-07-08'],\n",
       " ['US9146374', 'US3894008A', '*', '1974-05-31', '1975-07-08'],\n",
       " ['US9146373', 'US3894008A', '*', '1974-05-31', '1975-07-08'],\n",
       " ['US9146371', 'US3894008A', '*', '1974-05-31', '1975-07-08'],\n",
       " ['US9146362', 'US3894008A', '*', '1974-05-31', '1975-07-08'],\n",
       " ['US9146352', 'US3894008A', '*', '1974-05-31', '1975-07-08'],\n",
       " ['US9136967', 'US3894008A', '*', '1974-05-31', '1975-07-08'],\n",
       " ['US9171209', 'US3894008A', '*', '1974-05-31', '1975-07-08'],\n",
       " ['US9128262', 'US3894008A', '*', '1974-05-31', '1975-07-08'],\n",
       " ['US9126802', 'US3894008A', '*', '1974-05-31', '1975-07-08'],\n",
       " ['US9122034', 'US3894008A', '*', '1974-05-31', '1975-07-08'],\n",
       " ['US9122019', 'US3894008A', '*', '1974-05-31', '1975-07-08'],\n",
       " ['US9116310', 'US3894008A', '*', '1974-05-31', '1975-07-08'],\n",
       " ['US9112547', 'US3894008A', '*', '1974-05-31', '1975-07-08'],\n",
       " ['US9107086', 'US3894008A', '*', '1974-05-31', '1975-07-08'],\n",
       " ['US9106064', 'US3894008A', '*', '1974-05-31', '1975-07-08'],\n",
       " ['US9104005', 'US3894008A', '*', '1974-05-31', '1975-07-08'],\n",
       " ['US9104004', 'US3894008A', '*', '1974-05-31', '1975-07-08'],\n",
       " ['US9104001', 'US3894008A', '*', '1974-05-31', '1975-07-08'],\n",
       " ['US9097871', 'US3894008A', '*', '1974-05-31', '1975-07-08'],\n",
       " ['US9097870', 'US3894008A', '*', '1974-05-31', '1975-07-08'],\n",
       " ['US9093796', 'US3894008A', '*', '1974-05-31', '1975-07-08'],\n",
       " ['US9081537', 'US3894008A', '*', '1974-05-31', '1975-07-08'],\n",
       " ['US9081164', 'US3894008A', '*', '1974-05-31', '1975-07-08'],\n",
       " ['US9081154', 'US3894008A', '*', '1974-05-31', '1975-07-08'],\n",
       " ['US9081152', 'US3894008A', '*', '1974-05-31', '1975-07-08'],\n",
       " ['US9079370', 'US3894008A', '*', '1974-05-31', '1975-07-08'],\n",
       " ['US9078287', 'US3894008A', '*', '1974-05-31', '1975-07-08'],\n",
       " ['US9075205', 'US3894008A', '*', '1974-05-31', '1975-07-08'],\n",
       " ['US9075203', 'US3894008A', '*', '1974-05-31', '1975-07-08'],\n",
       " ['US9071041', 'US3894008A', '*', '1974-05-31', '1975-07-08'],\n",
       " ['US9069150', 'US3894008A', '*', '1974-05-31', '1975-07-08'],\n",
       " ['US9065223', 'US3894008A', '*', '1974-05-31', '1975-07-08'],\n",
       " ['US9064022', 'US3894008A', '*', '1974-05-31', '1975-07-08'],\n",
       " ['US9063316', 'US3894008A', '*', '1974-05-31', '1975-07-08'],\n",
       " ['US9063298', 'US3894008A', '*', '1974-05-31', '1975-07-08'],\n",
       " ['US9057860', 'US3894008A', '*', '1974-05-31', '1975-07-08'],\n",
       " ['US9057859', 'US3894008A', '*', '1974-05-31', '1975-07-08'],\n",
       " ['US9054440', 'US3894008A', '*', '1974-05-31', '1975-07-08'],\n",
       " ['US9046658', 'US3894008A', '*', '1974-05-31', '1975-07-08'],\n",
       " ['US9042700', 'US3894008A', '*', '1974-05-31', '1975-07-08'],\n",
       " ['US9038141', 'US3894008A', '*', '1974-05-31', '1975-07-08'],\n",
       " ['US9036975', 'US3894008A', '*', '1974-05-31', '1975-07-08'],\n",
       " ['US9036974', 'US3894008A', '*', '1974-05-31', '1975-07-08'],\n",
       " ['US9033728', 'US3894008A', '*', '1974-05-31', '1975-07-08'],\n",
       " ['US9020319', 'US3894008A', '*', '1974-05-31', '1975-07-08'],\n",
       " ['US9016953', 'US3894008A', '*', '1974-05-31', '1975-07-08'],\n",
       " ['US9014527', 'US3894008A', '*', '1974-05-31', '1975-07-08'],\n",
       " ['US9013982', 'US3894008A', '*', '1974-05-31', '1975-07-08'],\n",
       " ['US9002166', 'US3894008A', '*', '1974-05-31', '1975-07-08'],\n",
       " ['US9001811', 'US3894008A', '*', '1974-05-31', '1975-07-08'],\n",
       " ['US8995136', 'US3894008A', '*', '1974-05-31', '1975-07-08'],\n",
       " ['US8992261', 'US3894008A', '*', '1974-05-31', '1975-07-08'],\n",
       " ['US8992260', 'US3894008A', '*', '1974-05-31', '1975-07-08'],\n",
       " ['US8992095', 'US3894008A', '*', '1974-05-31', '1975-07-08'],\n",
       " ['US8991623', 'US3894008A', '*', '1974-05-31', '1975-07-08'],\n",
       " ['US8989541', 'US3894008A', '*', '1974-05-31', '1975-07-08'],\n",
       " ['US8985867', 'US3894008A', '*', '1974-05-31', '1975-07-08'],\n",
       " ['US8985864', 'US3894008A', '*', '1974-05-31', '1975-07-08'],\n",
       " ['US8982715', 'US3894008A', '*', '1974-05-31', '1975-07-08'],\n",
       " ['US8979578', 'US3894008A', '*', '1974-05-31', '1975-07-08'],\n",
       " ['US8979395', 'US3894008A', '*', '1974-05-31', '1975-07-08'],\n",
       " ['US8976067', 'US3894008A', '*', '1974-05-31', '1975-07-08'],\n",
       " ['US9008130', 'US3894008A', '*', '1974-05-31', '1975-07-08'],\n",
       " ['US8982913', 'US3894008A', '*', '1974-05-31', '1975-07-08'],\n",
       " ['US8985861', 'US3894008A', '*', '1974-05-31', '1975-07-08'],\n",
       " ['US8965169', 'US3894008A', '*', '1974-05-31', '1975-07-08'],\n",
       " ['US8965167', 'US3894008A', '*', '1974-05-31', '1975-07-08'],\n",
       " ['US8961035', 'US3894008A', '*', '1974-05-31', '1975-07-08'],\n",
       " ['US8958789', 'US3894008A', '*', '1974-05-31', '1975-07-08'],\n",
       " ['US8958410', 'US3894008A', '*', '1974-05-31', '1975-07-08'],\n",
       " ['US8953921', 'US3894008A', '*', '1974-05-31', '1975-07-08'],\n",
       " ['US8950051', 'US3894008A', '*', '1974-05-31', '1975-07-08'],\n",
       " ['US8949496', 'US3894008A', '*', '1974-05-31', '1975-07-08'],\n",
       " ['US8948816', 'US3894008A', '*', '1974-05-31', '1975-07-08'],\n",
       " ['US8948155', 'US3894008A', '*', '1974-05-31', '1975-07-08'],\n",
       " ['US8944856', 'US3894008A', '*', '1974-05-31', '1975-07-08'],\n",
       " ['US8944702', 'US3894008A', '*', '1974-05-31', '1975-07-08']]"
      ]
     },
     "execution_count": 97,
     "metadata": {},
     "output_type": "execute_result"
    }
   ],
   "source": [
    "results"
   ]
  },
  {
   "cell_type": "code",
   "execution_count": 98,
   "metadata": {},
   "outputs": [],
   "source": [
    "df = pd.DataFrame(results, columns =['Patent_No','Publication_Number','Examiner_Cited','Priority_Date','Publication_Date']) \n"
   ]
  },
  {
   "cell_type": "code",
   "execution_count": 99,
   "metadata": {},
   "outputs": [
    {
     "data": {
      "text/html": [
       "<div>\n",
       "<style scoped>\n",
       "    .dataframe tbody tr th:only-of-type {\n",
       "        vertical-align: middle;\n",
       "    }\n",
       "\n",
       "    .dataframe tbody tr th {\n",
       "        vertical-align: top;\n",
       "    }\n",
       "\n",
       "    .dataframe thead th {\n",
       "        text-align: right;\n",
       "    }\n",
       "</style>\n",
       "<table border=\"1\" class=\"dataframe\">\n",
       "  <thead>\n",
       "    <tr style=\"text-align: right;\">\n",
       "      <th></th>\n",
       "      <th>Patent_No</th>\n",
       "      <th>Publication_Number</th>\n",
       "      <th>Examiner_Cited</th>\n",
       "      <th>Priority_Date</th>\n",
       "      <th>Publication_Date</th>\n",
       "    </tr>\n",
       "  </thead>\n",
       "  <tbody>\n",
       "    <tr>\n",
       "      <th>0</th>\n",
       "      <td>US9594217</td>\n",
       "      <td>US3894008A</td>\n",
       "      <td>*</td>\n",
       "      <td>1974-05-31</td>\n",
       "      <td>1975-07-08</td>\n",
       "    </tr>\n",
       "    <tr>\n",
       "      <th>1</th>\n",
       "      <td>US9310577</td>\n",
       "      <td>US3894008A</td>\n",
       "      <td>*</td>\n",
       "      <td>1974-05-31</td>\n",
       "      <td>1975-07-08</td>\n",
       "    </tr>\n",
       "    <tr>\n",
       "      <th>2</th>\n",
       "      <td>US9261663</td>\n",
       "      <td>US3894008A</td>\n",
       "      <td>*</td>\n",
       "      <td>1974-05-31</td>\n",
       "      <td>1975-07-08</td>\n",
       "    </tr>\n",
       "    <tr>\n",
       "      <th>3</th>\n",
       "      <td>US9239442</td>\n",
       "      <td>US3894008A</td>\n",
       "      <td>*</td>\n",
       "      <td>1974-05-31</td>\n",
       "      <td>1975-07-08</td>\n",
       "    </tr>\n",
       "    <tr>\n",
       "      <th>4</th>\n",
       "      <td>US9219520</td>\n",
       "      <td>US3894008A</td>\n",
       "      <td>*</td>\n",
       "      <td>1974-05-31</td>\n",
       "      <td>1975-07-08</td>\n",
       "    </tr>\n",
       "    <tr>\n",
       "      <th>5</th>\n",
       "      <td>US9214759</td>\n",
       "      <td>US3894008A</td>\n",
       "      <td>*</td>\n",
       "      <td>1974-05-31</td>\n",
       "      <td>1975-07-08</td>\n",
       "    </tr>\n",
       "    <tr>\n",
       "      <th>6</th>\n",
       "      <td>US9210049</td>\n",
       "      <td>US3894008A</td>\n",
       "      <td>*</td>\n",
       "      <td>1974-05-31</td>\n",
       "      <td>1975-07-08</td>\n",
       "    </tr>\n",
       "    <tr>\n",
       "      <th>7</th>\n",
       "      <td>US9207417</td>\n",
       "      <td>US3894008A</td>\n",
       "      <td>*</td>\n",
       "      <td>1974-05-31</td>\n",
       "      <td>1975-07-08</td>\n",
       "    </tr>\n",
       "    <tr>\n",
       "      <th>8</th>\n",
       "      <td>US9195021</td>\n",
       "      <td>US3894008A</td>\n",
       "      <td>*</td>\n",
       "      <td>1974-05-31</td>\n",
       "      <td>1975-07-08</td>\n",
       "    </tr>\n",
       "    <tr>\n",
       "      <th>9</th>\n",
       "      <td>US9191993</td>\n",
       "      <td>US3894008A</td>\n",
       "      <td>*</td>\n",
       "      <td>1974-05-31</td>\n",
       "      <td>1975-07-08</td>\n",
       "    </tr>\n",
       "    <tr>\n",
       "      <th>10</th>\n",
       "      <td>US9191912</td>\n",
       "      <td>US3894008A</td>\n",
       "      <td>*</td>\n",
       "      <td>1974-05-31</td>\n",
       "      <td>1975-07-08</td>\n",
       "    </tr>\n",
       "    <tr>\n",
       "      <th>11</th>\n",
       "      <td>US9188760</td>\n",
       "      <td>US3894008A</td>\n",
       "      <td>*</td>\n",
       "      <td>1974-05-31</td>\n",
       "      <td>1975-07-08</td>\n",
       "    </tr>\n",
       "    <tr>\n",
       "      <th>12</th>\n",
       "      <td>US9182563</td>\n",
       "      <td>US3894008A</td>\n",
       "      <td>*</td>\n",
       "      <td>1974-05-31</td>\n",
       "      <td>1975-07-08</td>\n",
       "    </tr>\n",
       "    <tr>\n",
       "      <th>13</th>\n",
       "      <td>US9178636</td>\n",
       "      <td>US3894008A</td>\n",
       "      <td>*</td>\n",
       "      <td>1974-05-31</td>\n",
       "      <td>1975-07-08</td>\n",
       "    </tr>\n",
       "    <tr>\n",
       "      <th>14</th>\n",
       "      <td>US9176285</td>\n",
       "      <td>US3894008A</td>\n",
       "      <td>*</td>\n",
       "      <td>1974-05-31</td>\n",
       "      <td>1975-07-08</td>\n",
       "    </tr>\n",
       "    <tr>\n",
       "      <th>15</th>\n",
       "      <td>US9170391</td>\n",
       "      <td>US3894008A</td>\n",
       "      <td>*</td>\n",
       "      <td>1974-05-31</td>\n",
       "      <td>1975-07-08</td>\n",
       "    </tr>\n",
       "    <tr>\n",
       "      <th>16</th>\n",
       "      <td>US9158074</td>\n",
       "      <td>US3894008A</td>\n",
       "      <td>*</td>\n",
       "      <td>1974-05-31</td>\n",
       "      <td>1975-07-08</td>\n",
       "    </tr>\n",
       "    <tr>\n",
       "      <th>17</th>\n",
       "      <td>US9153913</td>\n",
       "      <td>US3894008A</td>\n",
       "      <td>*</td>\n",
       "      <td>1974-05-31</td>\n",
       "      <td>1975-07-08</td>\n",
       "    </tr>\n",
       "    <tr>\n",
       "      <th>18</th>\n",
       "      <td>US9151904</td>\n",
       "      <td>US3894008A</td>\n",
       "      <td>*</td>\n",
       "      <td>1974-05-31</td>\n",
       "      <td>1975-07-08</td>\n",
       "    </tr>\n",
       "    <tr>\n",
       "      <th>19</th>\n",
       "      <td>US9147983</td>\n",
       "      <td>US3894008A</td>\n",
       "      <td>*</td>\n",
       "      <td>1974-05-31</td>\n",
       "      <td>1975-07-08</td>\n",
       "    </tr>\n",
       "    <tr>\n",
       "      <th>20</th>\n",
       "      <td>US9146376</td>\n",
       "      <td>US3894008A</td>\n",
       "      <td>*</td>\n",
       "      <td>1974-05-31</td>\n",
       "      <td>1975-07-08</td>\n",
       "    </tr>\n",
       "    <tr>\n",
       "      <th>21</th>\n",
       "      <td>US9146375</td>\n",
       "      <td>US3894008A</td>\n",
       "      <td>*</td>\n",
       "      <td>1974-05-31</td>\n",
       "      <td>1975-07-08</td>\n",
       "    </tr>\n",
       "    <tr>\n",
       "      <th>22</th>\n",
       "      <td>US9146374</td>\n",
       "      <td>US3894008A</td>\n",
       "      <td>*</td>\n",
       "      <td>1974-05-31</td>\n",
       "      <td>1975-07-08</td>\n",
       "    </tr>\n",
       "    <tr>\n",
       "      <th>23</th>\n",
       "      <td>US9146373</td>\n",
       "      <td>US3894008A</td>\n",
       "      <td>*</td>\n",
       "      <td>1974-05-31</td>\n",
       "      <td>1975-07-08</td>\n",
       "    </tr>\n",
       "    <tr>\n",
       "      <th>24</th>\n",
       "      <td>US9146371</td>\n",
       "      <td>US3894008A</td>\n",
       "      <td>*</td>\n",
       "      <td>1974-05-31</td>\n",
       "      <td>1975-07-08</td>\n",
       "    </tr>\n",
       "    <tr>\n",
       "      <th>25</th>\n",
       "      <td>US9146362</td>\n",
       "      <td>US3894008A</td>\n",
       "      <td>*</td>\n",
       "      <td>1974-05-31</td>\n",
       "      <td>1975-07-08</td>\n",
       "    </tr>\n",
       "    <tr>\n",
       "      <th>26</th>\n",
       "      <td>US9146352</td>\n",
       "      <td>US3894008A</td>\n",
       "      <td>*</td>\n",
       "      <td>1974-05-31</td>\n",
       "      <td>1975-07-08</td>\n",
       "    </tr>\n",
       "    <tr>\n",
       "      <th>27</th>\n",
       "      <td>US9136967</td>\n",
       "      <td>US3894008A</td>\n",
       "      <td>*</td>\n",
       "      <td>1974-05-31</td>\n",
       "      <td>1975-07-08</td>\n",
       "    </tr>\n",
       "    <tr>\n",
       "      <th>28</th>\n",
       "      <td>US9171209</td>\n",
       "      <td>US3894008A</td>\n",
       "      <td>*</td>\n",
       "      <td>1974-05-31</td>\n",
       "      <td>1975-07-08</td>\n",
       "    </tr>\n",
       "    <tr>\n",
       "      <th>29</th>\n",
       "      <td>US9128262</td>\n",
       "      <td>US3894008A</td>\n",
       "      <td>*</td>\n",
       "      <td>1974-05-31</td>\n",
       "      <td>1975-07-08</td>\n",
       "    </tr>\n",
       "    <tr>\n",
       "      <th>...</th>\n",
       "      <td>...</td>\n",
       "      <td>...</td>\n",
       "      <td>...</td>\n",
       "      <td>...</td>\n",
       "      <td>...</td>\n",
       "    </tr>\n",
       "    <tr>\n",
       "      <th>69</th>\n",
       "      <td>US9013982</td>\n",
       "      <td>US3894008A</td>\n",
       "      <td>*</td>\n",
       "      <td>1974-05-31</td>\n",
       "      <td>1975-07-08</td>\n",
       "    </tr>\n",
       "    <tr>\n",
       "      <th>70</th>\n",
       "      <td>US9002166</td>\n",
       "      <td>US3894008A</td>\n",
       "      <td>*</td>\n",
       "      <td>1974-05-31</td>\n",
       "      <td>1975-07-08</td>\n",
       "    </tr>\n",
       "    <tr>\n",
       "      <th>71</th>\n",
       "      <td>US9001811</td>\n",
       "      <td>US3894008A</td>\n",
       "      <td>*</td>\n",
       "      <td>1974-05-31</td>\n",
       "      <td>1975-07-08</td>\n",
       "    </tr>\n",
       "    <tr>\n",
       "      <th>72</th>\n",
       "      <td>US8995136</td>\n",
       "      <td>US3894008A</td>\n",
       "      <td>*</td>\n",
       "      <td>1974-05-31</td>\n",
       "      <td>1975-07-08</td>\n",
       "    </tr>\n",
       "    <tr>\n",
       "      <th>73</th>\n",
       "      <td>US8992261</td>\n",
       "      <td>US3894008A</td>\n",
       "      <td>*</td>\n",
       "      <td>1974-05-31</td>\n",
       "      <td>1975-07-08</td>\n",
       "    </tr>\n",
       "    <tr>\n",
       "      <th>74</th>\n",
       "      <td>US8992260</td>\n",
       "      <td>US3894008A</td>\n",
       "      <td>*</td>\n",
       "      <td>1974-05-31</td>\n",
       "      <td>1975-07-08</td>\n",
       "    </tr>\n",
       "    <tr>\n",
       "      <th>75</th>\n",
       "      <td>US8992095</td>\n",
       "      <td>US3894008A</td>\n",
       "      <td>*</td>\n",
       "      <td>1974-05-31</td>\n",
       "      <td>1975-07-08</td>\n",
       "    </tr>\n",
       "    <tr>\n",
       "      <th>76</th>\n",
       "      <td>US8991623</td>\n",
       "      <td>US3894008A</td>\n",
       "      <td>*</td>\n",
       "      <td>1974-05-31</td>\n",
       "      <td>1975-07-08</td>\n",
       "    </tr>\n",
       "    <tr>\n",
       "      <th>77</th>\n",
       "      <td>US8989541</td>\n",
       "      <td>US3894008A</td>\n",
       "      <td>*</td>\n",
       "      <td>1974-05-31</td>\n",
       "      <td>1975-07-08</td>\n",
       "    </tr>\n",
       "    <tr>\n",
       "      <th>78</th>\n",
       "      <td>US8985867</td>\n",
       "      <td>US3894008A</td>\n",
       "      <td>*</td>\n",
       "      <td>1974-05-31</td>\n",
       "      <td>1975-07-08</td>\n",
       "    </tr>\n",
       "    <tr>\n",
       "      <th>79</th>\n",
       "      <td>US8985864</td>\n",
       "      <td>US3894008A</td>\n",
       "      <td>*</td>\n",
       "      <td>1974-05-31</td>\n",
       "      <td>1975-07-08</td>\n",
       "    </tr>\n",
       "    <tr>\n",
       "      <th>80</th>\n",
       "      <td>US8982715</td>\n",
       "      <td>US3894008A</td>\n",
       "      <td>*</td>\n",
       "      <td>1974-05-31</td>\n",
       "      <td>1975-07-08</td>\n",
       "    </tr>\n",
       "    <tr>\n",
       "      <th>81</th>\n",
       "      <td>US8979578</td>\n",
       "      <td>US3894008A</td>\n",
       "      <td>*</td>\n",
       "      <td>1974-05-31</td>\n",
       "      <td>1975-07-08</td>\n",
       "    </tr>\n",
       "    <tr>\n",
       "      <th>82</th>\n",
       "      <td>US8979395</td>\n",
       "      <td>US3894008A</td>\n",
       "      <td>*</td>\n",
       "      <td>1974-05-31</td>\n",
       "      <td>1975-07-08</td>\n",
       "    </tr>\n",
       "    <tr>\n",
       "      <th>83</th>\n",
       "      <td>US8976067</td>\n",
       "      <td>US3894008A</td>\n",
       "      <td>*</td>\n",
       "      <td>1974-05-31</td>\n",
       "      <td>1975-07-08</td>\n",
       "    </tr>\n",
       "    <tr>\n",
       "      <th>84</th>\n",
       "      <td>US9008130</td>\n",
       "      <td>US3894008A</td>\n",
       "      <td>*</td>\n",
       "      <td>1974-05-31</td>\n",
       "      <td>1975-07-08</td>\n",
       "    </tr>\n",
       "    <tr>\n",
       "      <th>85</th>\n",
       "      <td>US8982913</td>\n",
       "      <td>US3894008A</td>\n",
       "      <td>*</td>\n",
       "      <td>1974-05-31</td>\n",
       "      <td>1975-07-08</td>\n",
       "    </tr>\n",
       "    <tr>\n",
       "      <th>86</th>\n",
       "      <td>US8985861</td>\n",
       "      <td>US3894008A</td>\n",
       "      <td>*</td>\n",
       "      <td>1974-05-31</td>\n",
       "      <td>1975-07-08</td>\n",
       "    </tr>\n",
       "    <tr>\n",
       "      <th>87</th>\n",
       "      <td>US8965169</td>\n",
       "      <td>US3894008A</td>\n",
       "      <td>*</td>\n",
       "      <td>1974-05-31</td>\n",
       "      <td>1975-07-08</td>\n",
       "    </tr>\n",
       "    <tr>\n",
       "      <th>88</th>\n",
       "      <td>US8965167</td>\n",
       "      <td>US3894008A</td>\n",
       "      <td>*</td>\n",
       "      <td>1974-05-31</td>\n",
       "      <td>1975-07-08</td>\n",
       "    </tr>\n",
       "    <tr>\n",
       "      <th>89</th>\n",
       "      <td>US8961035</td>\n",
       "      <td>US3894008A</td>\n",
       "      <td>*</td>\n",
       "      <td>1974-05-31</td>\n",
       "      <td>1975-07-08</td>\n",
       "    </tr>\n",
       "    <tr>\n",
       "      <th>90</th>\n",
       "      <td>US8958789</td>\n",
       "      <td>US3894008A</td>\n",
       "      <td>*</td>\n",
       "      <td>1974-05-31</td>\n",
       "      <td>1975-07-08</td>\n",
       "    </tr>\n",
       "    <tr>\n",
       "      <th>91</th>\n",
       "      <td>US8958410</td>\n",
       "      <td>US3894008A</td>\n",
       "      <td>*</td>\n",
       "      <td>1974-05-31</td>\n",
       "      <td>1975-07-08</td>\n",
       "    </tr>\n",
       "    <tr>\n",
       "      <th>92</th>\n",
       "      <td>US8953921</td>\n",
       "      <td>US3894008A</td>\n",
       "      <td>*</td>\n",
       "      <td>1974-05-31</td>\n",
       "      <td>1975-07-08</td>\n",
       "    </tr>\n",
       "    <tr>\n",
       "      <th>93</th>\n",
       "      <td>US8950051</td>\n",
       "      <td>US3894008A</td>\n",
       "      <td>*</td>\n",
       "      <td>1974-05-31</td>\n",
       "      <td>1975-07-08</td>\n",
       "    </tr>\n",
       "    <tr>\n",
       "      <th>94</th>\n",
       "      <td>US8949496</td>\n",
       "      <td>US3894008A</td>\n",
       "      <td>*</td>\n",
       "      <td>1974-05-31</td>\n",
       "      <td>1975-07-08</td>\n",
       "    </tr>\n",
       "    <tr>\n",
       "      <th>95</th>\n",
       "      <td>US8948816</td>\n",
       "      <td>US3894008A</td>\n",
       "      <td>*</td>\n",
       "      <td>1974-05-31</td>\n",
       "      <td>1975-07-08</td>\n",
       "    </tr>\n",
       "    <tr>\n",
       "      <th>96</th>\n",
       "      <td>US8948155</td>\n",
       "      <td>US3894008A</td>\n",
       "      <td>*</td>\n",
       "      <td>1974-05-31</td>\n",
       "      <td>1975-07-08</td>\n",
       "    </tr>\n",
       "    <tr>\n",
       "      <th>97</th>\n",
       "      <td>US8944856</td>\n",
       "      <td>US3894008A</td>\n",
       "      <td>*</td>\n",
       "      <td>1974-05-31</td>\n",
       "      <td>1975-07-08</td>\n",
       "    </tr>\n",
       "    <tr>\n",
       "      <th>98</th>\n",
       "      <td>US8944702</td>\n",
       "      <td>US3894008A</td>\n",
       "      <td>*</td>\n",
       "      <td>1974-05-31</td>\n",
       "      <td>1975-07-08</td>\n",
       "    </tr>\n",
       "  </tbody>\n",
       "</table>\n",
       "<p>99 rows × 5 columns</p>\n",
       "</div>"
      ],
      "text/plain": [
       "    Patent_No Publication_Number Examiner_Cited Priority_Date Publication_Date\n",
       "0   US9594217         US3894008A              *    1974-05-31       1975-07-08\n",
       "1   US9310577         US3894008A              *    1974-05-31       1975-07-08\n",
       "2   US9261663         US3894008A              *    1974-05-31       1975-07-08\n",
       "3   US9239442         US3894008A              *    1974-05-31       1975-07-08\n",
       "4   US9219520         US3894008A              *    1974-05-31       1975-07-08\n",
       "5   US9214759         US3894008A              *    1974-05-31       1975-07-08\n",
       "6   US9210049         US3894008A              *    1974-05-31       1975-07-08\n",
       "7   US9207417         US3894008A              *    1974-05-31       1975-07-08\n",
       "8   US9195021         US3894008A              *    1974-05-31       1975-07-08\n",
       "9   US9191993         US3894008A              *    1974-05-31       1975-07-08\n",
       "10  US9191912         US3894008A              *    1974-05-31       1975-07-08\n",
       "11  US9188760         US3894008A              *    1974-05-31       1975-07-08\n",
       "12  US9182563         US3894008A              *    1974-05-31       1975-07-08\n",
       "13  US9178636         US3894008A              *    1974-05-31       1975-07-08\n",
       "14  US9176285         US3894008A              *    1974-05-31       1975-07-08\n",
       "15  US9170391         US3894008A              *    1974-05-31       1975-07-08\n",
       "16  US9158074         US3894008A              *    1974-05-31       1975-07-08\n",
       "17  US9153913         US3894008A              *    1974-05-31       1975-07-08\n",
       "18  US9151904         US3894008A              *    1974-05-31       1975-07-08\n",
       "19  US9147983         US3894008A              *    1974-05-31       1975-07-08\n",
       "20  US9146376         US3894008A              *    1974-05-31       1975-07-08\n",
       "21  US9146375         US3894008A              *    1974-05-31       1975-07-08\n",
       "22  US9146374         US3894008A              *    1974-05-31       1975-07-08\n",
       "23  US9146373         US3894008A              *    1974-05-31       1975-07-08\n",
       "24  US9146371         US3894008A              *    1974-05-31       1975-07-08\n",
       "25  US9146362         US3894008A              *    1974-05-31       1975-07-08\n",
       "26  US9146352         US3894008A              *    1974-05-31       1975-07-08\n",
       "27  US9136967         US3894008A              *    1974-05-31       1975-07-08\n",
       "28  US9171209         US3894008A              *    1974-05-31       1975-07-08\n",
       "29  US9128262         US3894008A              *    1974-05-31       1975-07-08\n",
       "..        ...                ...            ...           ...              ...\n",
       "69  US9013982         US3894008A              *    1974-05-31       1975-07-08\n",
       "70  US9002166         US3894008A              *    1974-05-31       1975-07-08\n",
       "71  US9001811         US3894008A              *    1974-05-31       1975-07-08\n",
       "72  US8995136         US3894008A              *    1974-05-31       1975-07-08\n",
       "73  US8992261         US3894008A              *    1974-05-31       1975-07-08\n",
       "74  US8992260         US3894008A              *    1974-05-31       1975-07-08\n",
       "75  US8992095         US3894008A              *    1974-05-31       1975-07-08\n",
       "76  US8991623         US3894008A              *    1974-05-31       1975-07-08\n",
       "77  US8989541         US3894008A              *    1974-05-31       1975-07-08\n",
       "78  US8985867         US3894008A              *    1974-05-31       1975-07-08\n",
       "79  US8985864         US3894008A              *    1974-05-31       1975-07-08\n",
       "80  US8982715         US3894008A              *    1974-05-31       1975-07-08\n",
       "81  US8979578         US3894008A              *    1974-05-31       1975-07-08\n",
       "82  US8979395         US3894008A              *    1974-05-31       1975-07-08\n",
       "83  US8976067         US3894008A              *    1974-05-31       1975-07-08\n",
       "84  US9008130         US3894008A              *    1974-05-31       1975-07-08\n",
       "85  US8982913         US3894008A              *    1974-05-31       1975-07-08\n",
       "86  US8985861         US3894008A              *    1974-05-31       1975-07-08\n",
       "87  US8965169         US3894008A              *    1974-05-31       1975-07-08\n",
       "88  US8965167         US3894008A              *    1974-05-31       1975-07-08\n",
       "89  US8961035         US3894008A              *    1974-05-31       1975-07-08\n",
       "90  US8958789         US3894008A              *    1974-05-31       1975-07-08\n",
       "91  US8958410         US3894008A              *    1974-05-31       1975-07-08\n",
       "92  US8953921         US3894008A              *    1974-05-31       1975-07-08\n",
       "93  US8950051         US3894008A              *    1974-05-31       1975-07-08\n",
       "94  US8949496         US3894008A              *    1974-05-31       1975-07-08\n",
       "95  US8948816         US3894008A              *    1974-05-31       1975-07-08\n",
       "96  US8948155         US3894008A              *    1974-05-31       1975-07-08\n",
       "97  US8944856         US3894008A              *    1974-05-31       1975-07-08\n",
       "98  US8944702         US3894008A              *    1974-05-31       1975-07-08\n",
       "\n",
       "[99 rows x 5 columns]"
      ]
     },
     "execution_count": 99,
     "metadata": {},
     "output_type": "execute_result"
    }
   ],
   "source": [
    "df"
   ]
  },
  {
   "cell_type": "code",
   "execution_count": 100,
   "metadata": {},
   "outputs": [],
   "source": [
    "df.to_csv(\"results.csv\",index=False)"
   ]
  },
  {
   "cell_type": "code",
   "execution_count": null,
   "metadata": {},
   "outputs": [],
   "source": []
  }
 ],
 "metadata": {
  "kernelspec": {
   "display_name": "Python 3",
   "language": "python",
   "name": "python3"
  },
  "language_info": {
   "codemirror_mode": {
    "name": "ipython",
    "version": 3
   },
   "file_extension": ".py",
   "mimetype": "text/x-python",
   "name": "python",
   "nbconvert_exporter": "python",
   "pygments_lexer": "ipython3",
   "version": "3.7.3"
  }
 },
 "nbformat": 4,
 "nbformat_minor": 4
}
